{
 "cells": [
  {
   "cell_type": "markdown",
   "metadata": {},
   "source": [
    "## Zooniverse Analysis"
   ]
  },
  {
   "cell_type": "code",
   "execution_count": null,
   "metadata": {},
   "outputs": [],
   "source": [
    "import shutil\n",
    "import json\n",
    "import pandas as pd\n",
    "import matplotlib.pyplot as plt\n",
    "import sqlite3\n",
    "import numpy as np\n",
    "import seaborn as sns\n",
    "from IPython.display import Image, display, HTML\n"
   ]
  },
  {
   "cell_type": "code",
   "execution_count": null,
   "metadata": {},
   "outputs": [],
   "source": [
    "sns.set_context('poster')"
   ]
  },
  {
   "cell_type": "code",
   "execution_count": null,
   "metadata": {},
   "outputs": [],
   "source": [
    "dfzoo = pd.read_csv('/epyc/users/ecbellm/ZTF_Boyajian/ztf-dippers-classifications.csv')"
   ]
  },
  {
   "cell_type": "code",
   "execution_count": null,
   "metadata": {},
   "outputs": [],
   "source": [
    "len(dfzoo)"
   ]
  },
  {
   "cell_type": "code",
   "execution_count": null,
   "metadata": {},
   "outputs": [],
   "source": [
    "dfzoo.head()"
   ]
  },
  {
   "cell_type": "code",
   "execution_count": null,
   "metadata": {},
   "outputs": [],
   "source": [
    "wnew = dfzoo['created_at'].str.startswith('2021')"
   ]
  },
  {
   "cell_type": "code",
   "execution_count": null,
   "metadata": {},
   "outputs": [],
   "source": [
    "np.sum(wnew)"
   ]
  },
  {
   "cell_type": "code",
   "execution_count": null,
   "metadata": {},
   "outputs": [],
   "source": [
    "dfzoo = dfzoo[wnew]"
   ]
  },
  {
   "cell_type": "markdown",
   "metadata": {},
   "source": [
    "this is one classification per row. but includes both v1 and v2 scanning"
   ]
  },
  {
   "cell_type": "code",
   "execution_count": null,
   "metadata": {},
   "outputs": [],
   "source": [
    "dfzoo.iloc[0]['annotations']"
   ]
  },
  {
   "cell_type": "markdown",
   "metadata": {},
   "source": [
    "we only have followup questions for the yes and maybe classificaitons, and some of the early yes/maybe classifications don't have followup at all"
   ]
  },
  {
   "cell_type": "code",
   "execution_count": null,
   "metadata": {},
   "outputs": [],
   "source": [
    "dfzoo[['classification_id','user_name']].groupby('user_name').agg(len).sort_values(by='classification_id')"
   ]
  },
  {
   "cell_type": "code",
   "execution_count": null,
   "metadata": {},
   "outputs": [],
   "source": [
    "def get_flat_outside_window(df):\n",
    "    return dfzoo['annotations'].apply(json.loads).apply(lambda x: x[0]['value'])\n",
    "\n",
    "def get_dip_both_bands(df):\n",
    "    return dfzoo['annotations'].apply(json.loads).apply(lambda x: x[1]['value'] if (len(x) > 1) else None)\n",
    "\n",
    "def get_asymmetric(df):\n",
    "    return dfzoo['annotations'].apply(json.loads).apply(lambda x: x[2]['value'] if (len(x) > 1) else None)\n",
    "\n",
    "def get_multiple_dips(df):\n",
    "    return dfzoo['annotations'].apply(json.loads).apply(lambda x: x[3]['value'] if (len(x) > 1) else None)\n",
    "\n",
    "def get_ps1_id(df):\n",
    "    return dfzoo['subject_data'].apply(json.loads).apply(lambda x: list(x.values())[0]['ps1_id'])"
   ]
  },
  {
   "cell_type": "code",
   "execution_count": null,
   "metadata": {},
   "outputs": [],
   "source": [
    "dfzoo['flat_outside_window'] = get_flat_outside_window(dfzoo)\n",
    "dfzoo['dip_both_bands'] = get_dip_both_bands(dfzoo)\n",
    "dfzoo['asymmetric'] = get_asymmetric(dfzoo)\n",
    "dfzoo['multiple_dips'] = get_multiple_dips(dfzoo)\n",
    "dfzoo['ps1_id'] = get_ps1_id(dfzoo)"
   ]
  },
  {
   "cell_type": "code",
   "execution_count": null,
   "metadata": {},
   "outputs": [],
   "source": [
    "dfzoo['flat_outside_window'].value_counts()"
   ]
  },
  {
   "cell_type": "code",
   "execution_count": null,
   "metadata": {},
   "outputs": [],
   "source": [
    "dfzoo.groupby(['ps1_id','flat_outside_window']).agg(len)['user_name'].value_counts()"
   ]
  },
  {
   "cell_type": "code",
   "execution_count": null,
   "metadata": {},
   "outputs": [],
   "source": [
    "dfzoo['dip_both_bands'].value_counts()"
   ]
  },
  {
   "cell_type": "code",
   "execution_count": null,
   "metadata": {},
   "outputs": [],
   "source": [
    "dfzoo['asymmetric'].value_counts()"
   ]
  },
  {
   "cell_type": "code",
   "execution_count": null,
   "metadata": {},
   "outputs": [],
   "source": [
    "dfzoo['multiple_dips'].value_counts()"
   ]
  },
  {
   "cell_type": "code",
   "execution_count": null,
   "metadata": {},
   "outputs": [],
   "source": []
  },
  {
   "cell_type": "markdown",
   "metadata": {},
   "source": [
    "## Platinum sample: at least two votes w/ flat outside, multiple bands, asymmetric\n"
   ]
  },
  {
   "cell_type": "code",
   "execution_count": null,
   "metadata": {},
   "outputs": [],
   "source": [
    "wplatinum = (dfzoo['flat_outside_window'] == 'Yes') & (dfzoo['dip_both_bands'] == 'Yes') & (dfzoo['asymmetric'] == 'Yes')"
   ]
  },
  {
   "cell_type": "code",
   "execution_count": null,
   "metadata": {},
   "outputs": [],
   "source": [
    "np.sum(wplatinum)"
   ]
  },
  {
   "cell_type": "code",
   "execution_count": null,
   "metadata": {},
   "outputs": [],
   "source": [
    "dfzoo.loc[wplatinum,'ps1_id'].value_counts()"
   ]
  },
  {
   "cell_type": "code",
   "execution_count": null,
   "metadata": {},
   "outputs": [],
   "source": [
    "image_dir = '/astro/users/keatonb/ZTF_Boyajian/Candidate_plots/'"
   ]
  },
  {
   "cell_type": "code",
   "execution_count": null,
   "metadata": {
    "scrolled": true
   },
   "outputs": [],
   "source": [
    "for ps1_id, row in dfzoo.loc[wplatinum,'ps1_id'].value_counts().iteritems():\n",
    "        print(ps1_id, row)\n",
    "        display(Image(f'{image_dir}/{ps1_id}.png'))"
   ]
  },
  {
   "cell_type": "markdown",
   "metadata": {},
   "source": [
    "## Gold sample: flat outside, could be single band, asymmetric "
   ]
  },
  {
   "cell_type": "code",
   "execution_count": null,
   "metadata": {},
   "outputs": [],
   "source": [
    "wgold = ((dfzoo['flat_outside_window'] == 'Yes') & \n",
    "        #((dfzoo['dip_both_bands'] == 'Yes') | \n",
    "         ((dfzoo['dip_both_bands'] == 'Not enough information to tell due to sampling.'))  \n",
    "        & (dfzoo['asymmetric'] == 'Yes'))"
   ]
  },
  {
   "cell_type": "code",
   "execution_count": null,
   "metadata": {},
   "outputs": [],
   "source": [
    "np.sum(wgold)"
   ]
  },
  {
   "cell_type": "code",
   "execution_count": null,
   "metadata": {},
   "outputs": [],
   "source": [
    "for ps1_id, row in dfzoo.loc[wgold,'ps1_id'].value_counts().iteritems():\n",
    "        print(ps1_id, row)\n",
    "        display(Image(f'{image_dir}/{ps1_id}.png'))"
   ]
  },
  {
   "cell_type": "markdown",
   "metadata": {},
   "source": [
    "### Lithium (or Palladium) sample: out-of-window variability that looks like dips"
   ]
  },
  {
   "cell_type": "code",
   "execution_count": null,
   "metadata": {},
   "outputs": [],
   "source": [
    "wlithium = ((dfzoo['flat_outside_window'] == 'No, but the other excursions look like dips') & \n",
    "            (dfzoo['dip_both_bands'] == 'Yes') & (dfzoo['asymmetric'] == 'Yes'))"
   ]
  },
  {
   "cell_type": "code",
   "execution_count": null,
   "metadata": {},
   "outputs": [],
   "source": [
    "np.sum(wlithium)"
   ]
  },
  {
   "cell_type": "code",
   "execution_count": null,
   "metadata": {
    "scrolled": false
   },
   "outputs": [],
   "source": [
    "for ps1_id, row in dfzoo.loc[wlithium,'ps1_id'].value_counts().iteritems():\n",
    "        print(ps1_id, row)\n",
    "        display(Image(f'{image_dir}/{ps1_id}.png'))"
   ]
  },
  {
   "cell_type": "code",
   "execution_count": null,
   "metadata": {},
   "outputs": [],
   "source": []
  },
  {
   "cell_type": "code",
   "execution_count": null,
   "metadata": {},
   "outputs": [],
   "source": []
  },
  {
   "cell_type": "code",
   "execution_count": null,
   "metadata": {},
   "outputs": [],
   "source": []
  },
  {
   "cell_type": "code",
   "execution_count": null,
   "metadata": {},
   "outputs": [],
   "source": []
  },
  {
   "cell_type": "code",
   "execution_count": null,
   "metadata": {},
   "outputs": [],
   "source": []
  },
  {
   "cell_type": "code",
   "execution_count": null,
   "metadata": {},
   "outputs": [],
   "source": []
  },
  {
   "cell_type": "code",
   "execution_count": null,
   "metadata": {},
   "outputs": [],
   "source": []
  },
  {
   "cell_type": "code",
   "execution_count": null,
   "metadata": {},
   "outputs": [],
   "source": []
  },
  {
   "cell_type": "code",
   "execution_count": null,
   "metadata": {},
   "outputs": [],
   "source": [
    "# old v1 code put on ice for now"
   ]
  },
  {
   "cell_type": "code",
   "execution_count": null,
   "metadata": {},
   "outputs": [],
   "source": [
    "plt.figure(figsize=(12,8))\n",
    "sns.countplot(data=dfzoo,y='classification')\n",
    "#plt.savefig(f'fig/{dataset}/classification_summary.png', bbox_inches='tight')"
   ]
  },
  {
   "cell_type": "code",
   "execution_count": null,
   "metadata": {},
   "outputs": [],
   "source": [
    "plt.figure(figsize=(12,8))\n",
    "sns.countplot(data=dfzoo.loc[wyes],y='user_name')"
   ]
  },
  {
   "cell_type": "code",
   "execution_count": null,
   "metadata": {},
   "outputs": [],
   "source": [
    "dfzoo.groupby('ps1_id').agg(len)['classification_id'].index[935]"
   ]
  },
  {
   "cell_type": "code",
   "execution_count": null,
   "metadata": {},
   "outputs": [],
   "source": [
    "wmax_id = dfzoo['ps1_id'] == 172521268464107338\n",
    "dfzoo.loc[wmax_id,['user_name','classification']]"
   ]
  },
  {
   "cell_type": "code",
   "execution_count": null,
   "metadata": {},
   "outputs": [],
   "source": [
    "!ls"
   ]
  },
  {
   "cell_type": "code",
   "execution_count": null,
   "metadata": {},
   "outputs": [],
   "source": [
    "image_dir = '/epyc/users/kyboone/ztf_boyajian/zooniverse/'"
   ]
  },
  {
   "cell_type": "code",
   "execution_count": null,
   "metadata": {},
   "outputs": [],
   "source": [
    "display(Image(f'{image_dir}/172521268464107338.png'))"
   ]
  },
  {
   "cell_type": "markdown",
   "metadata": {},
   "source": []
  },
  {
   "cell_type": "code",
   "execution_count": null,
   "metadata": {},
   "outputs": [],
   "source": [
    "wbest = wyes & wwell_sampled \n",
    "count_yes = dfzoo[['ps1_id','classification']].loc[wbest].groupby('ps1_id').agg(len)\n",
    "wtwoyes = count_yes['classification'] > 1\n",
    "best_ids = count_yes.loc[wtwoyes].index.values\n"
   ]
  },
  {
   "cell_type": "code",
   "execution_count": null,
   "metadata": {},
   "outputs": [],
   "source": [
    "len(best_ids)"
   ]
  },
  {
   "cell_type": "code",
   "execution_count": null,
   "metadata": {},
   "outputs": [],
   "source": [
    "print(best_ids)"
   ]
  },
  {
   "cell_type": "code",
   "execution_count": null,
   "metadata": {},
   "outputs": [],
   "source": [
    "!mkdir -p gold_sample_figures"
   ]
  },
  {
   "cell_type": "code",
   "execution_count": null,
   "metadata": {},
   "outputs": [],
   "source": [
    "!pwd"
   ]
  },
  {
   "cell_type": "code",
   "execution_count": null,
   "metadata": {
    "scrolled": false
   },
   "outputs": [],
   "source": [
    "for idi in best_ids:\n",
    "    display(Image(f'{image_dir}/{idi}.png'))\n",
    "    shutil.copyfile(f'{image_dir}/{idi}.png', f'gold_sample_figures/{idi}.png')"
   ]
  },
  {
   "cell_type": "markdown",
   "metadata": {},
   "source": [
    "### Silver sample: at least one yes; number of yeses + maybes >= 2, no sampling check"
   ]
  },
  {
   "cell_type": "code",
   "execution_count": null,
   "metadata": {},
   "outputs": [],
   "source": [
    "# at least one yes\n",
    "count_yes = dfzoo[['ps1_id','classification']].loc[wyes].groupby('ps1_id').agg(len)\n",
    "count_yes = count_yes.loc[count_yes['classification'] >= 1]\n",
    "\n",
    "# any number of maybes\n",
    "count_maybe = dfzoo[['ps1_id','classification']].loc[wmaybe].groupby('ps1_id').agg(len)\n",
    "\n",
    "count_yes_and_maybe = count_yes.join(count_maybe,lsuffix='_yes',rsuffix='_maybe',how='outer')"
   ]
  },
  {
   "cell_type": "code",
   "execution_count": null,
   "metadata": {},
   "outputs": [],
   "source": [
    "count_yes_and_maybe.sum(axis=1) "
   ]
  },
  {
   "cell_type": "code",
   "execution_count": null,
   "metadata": {},
   "outputs": [],
   "source": [
    "wokay = (count_yes_and_maybe.sum(axis=1) >= 2)\n",
    "okay_ids = count_yes_and_maybe[wokay].index.values"
   ]
  },
  {
   "cell_type": "code",
   "execution_count": null,
   "metadata": {},
   "outputs": [],
   "source": [
    "#remove the duplicated best ids\n",
    "okay_ids = np.setdiff1d(okay_ids,best_ids)"
   ]
  },
  {
   "cell_type": "code",
   "execution_count": null,
   "metadata": {},
   "outputs": [],
   "source": [
    "len(okay_ids)"
   ]
  },
  {
   "cell_type": "code",
   "execution_count": null,
   "metadata": {},
   "outputs": [],
   "source": [
    "print(okay_ids)"
   ]
  },
  {
   "cell_type": "code",
   "execution_count": null,
   "metadata": {},
   "outputs": [],
   "source": [
    "!mkdir -p silver_sample_figures"
   ]
  },
  {
   "cell_type": "code",
   "execution_count": null,
   "metadata": {
    "scrolled": false
   },
   "outputs": [],
   "source": [
    "for idi in okay_ids:\n",
    "    display(Image(f'{image_dir}/{idi}.png'))\n",
    "    shutil.copyfile(f'{image_dir}/{idi}.png', f'silver_sample_figures/{idi}.png')"
   ]
  },
  {
   "cell_type": "markdown",
   "metadata": {},
   "source": []
  }
 ],
 "metadata": {
  "kernelspec": {
   "display_name": "Python 3",
   "language": "python",
   "name": "python3"
  },
  "language_info": {
   "codemirror_mode": {
    "name": "ipython",
    "version": 3
   },
   "file_extension": ".py",
   "mimetype": "text/x-python",
   "name": "python",
   "nbconvert_exporter": "python",
   "pygments_lexer": "ipython3",
   "version": "3.7.6"
  }
 },
 "nbformat": 4,
 "nbformat_minor": 4
}
