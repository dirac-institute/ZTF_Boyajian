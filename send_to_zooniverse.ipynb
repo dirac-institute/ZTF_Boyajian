{
 "cells": [
  {
   "cell_type": "markdown",
   "metadata": {},
   "source": [
    "# Send Plots to Zooniverse"
   ]
  },
  {
   "cell_type": "markdown",
   "metadata": {},
   "source": [
    "First we do bad things to install the necessary packages"
   ]
  },
  {
   "cell_type": "code",
   "execution_count": 5,
   "metadata": {},
   "outputs": [],
   "source": [
    "#!pip install --user panoptes-client\n",
    "#!pip install python-dotenv"
   ]
  },
  {
   "cell_type": "code",
   "execution_count": 7,
   "metadata": {},
   "outputs": [
    {
     "name": "stdout",
     "output_type": "stream",
     "text": [
      "The dotenv extension is already loaded. To reload it, use:\n",
      "  %reload_ext dotenv\n"
     ]
    }
   ],
   "source": [
    "%load_ext dotenv\n",
    "%dotenv"
   ]
  },
  {
   "cell_type": "code",
   "execution_count": null,
   "metadata": {},
   "outputs": [],
   "source": [
    "# put a text file in this directory named .env with contents\n",
    "# export ZOONIVERSE_USER=\"your_email@address.com\"\n",
    "# export ZOONIVERSE_PASSWORD=\"hunter2\""
   ]
  },
  {
   "cell_type": "code",
   "execution_count": 1,
   "metadata": {},
   "outputs": [],
   "source": [
    "import os\n",
    "from glob import glob\n",
    "from panoptes_client import Panoptes, Project, SubjectSet, Subject\n",
    "from astropy.utils.console import ProgressBar"
   ]
  },
  {
   "cell_type": "code",
   "execution_count": 9,
   "metadata": {},
   "outputs": [],
   "source": [
    "client = Panoptes.connect(username=os.environ.get('ZOONIVERSE_USER'), password=os.environ.get('ZOONIVERSE_PASSWORD'))"
   ]
  },
  {
   "cell_type": "markdown",
   "metadata": {},
   "source": [
    "I already made the project through the web UI"
   ]
  },
  {
   "cell_type": "code",
   "execution_count": 17,
   "metadata": {},
   "outputs": [],
   "source": [
    "project = Project.find(slug='ebellm/ztf-dippers')"
   ]
  },
  {
   "cell_type": "markdown",
   "metadata": {},
   "source": [
    "Directory where the plots are:"
   ]
  },
  {
   "cell_type": "code",
   "execution_count": 18,
   "metadata": {},
   "outputs": [
    {
     "data": {
      "text/plain": [
       "<panoptes_client.panoptes.LinkResolver at 0x7f9f300aaf10>"
      ]
     },
     "execution_count": 18,
     "metadata": {},
     "output_type": "execute_result"
    }
   ],
   "source": [
    "project.links"
   ]
  },
  {
   "cell_type": "code",
   "execution_count": 19,
   "metadata": {},
   "outputs": [
    {
     "name": "stdout",
     "output_type": "stream",
     "text": [
      "[('86590', 'Subject Set 200806')]\n"
     ]
    }
   ],
   "source": [
    "print([(ss.id, ss.display_name) for ss in project.links.subject_sets])"
   ]
  },
  {
   "cell_type": "code",
   "execution_count": 10,
   "metadata": {},
   "outputs": [],
   "source": [
    "indir = '/epyc/users/kyboone/ztf_boyajian/zooniverse/'"
   ]
  },
  {
   "cell_type": "code",
   "execution_count": 16,
   "metadata": {},
   "outputs": [],
   "source": [
    "# delete old ones if desired\n",
    "#subject_set = SubjectSet.find(80863)\n",
    "#for subject in subject_set.subjects:\n",
    "#    subject_set.remove(subject.id)"
   ]
  },
  {
   "cell_type": "code",
   "execution_count": 20,
   "metadata": {},
   "outputs": [
    {
     "name": "stdout",
     "output_type": "stream",
     "text": [
      "Scan Dippers\n"
     ]
    }
   ],
   "source": [
    "for workflow in project.links.workflows:\n",
    "    print(workflow.display_name)"
   ]
  },
  {
   "cell_type": "code",
   "execution_count": 32,
   "metadata": {},
   "outputs": [
    {
     "data": {
      "text/plain": [
       "{'subject_sets': [{'id': '86592',\n",
       "   'display_name': 'ZTF_dippers',\n",
       "   'set_member_subjects_count': 0,\n",
       "   'metadata': {},\n",
       "   'created_at': '2020-08-06T21:00:18.771Z',\n",
       "   'updated_at': '2020-08-06T21:00:18.771Z',\n",
       "   'href': '/subject_sets/86592',\n",
       "   'links': {'project': '12979', 'workflows': [], 'subjects': []}}],\n",
       " 'links': {'subject_sets.project': {'href': '/projects/{subject_sets.project}',\n",
       "   'type': 'projects'},\n",
       "  'subject_sets.workflows': {'href': '/workflows?subject_set_id={subject_sets.id}',\n",
       "   'type': 'workflows'}},\n",
       " 'meta': {'subject_sets': {'page': 1,\n",
       "   'page_size': 20,\n",
       "   'count': 1,\n",
       "   'include': [],\n",
       "   'page_count': 1,\n",
       "   'previous_page': None,\n",
       "   'next_page': None,\n",
       "   'first_href': '/subject_sets',\n",
       "   'previous_href': None,\n",
       "   'next_href': None,\n",
       "   'last_href': '/subject_sets'}}}"
      ]
     },
     "execution_count": 32,
     "metadata": {},
     "output_type": "execute_result"
    }
   ],
   "source": [
    "# make a new subject set\n",
    "subject_set = SubjectSet()\n",
    "\n",
    "subject_set.links.project = project\n",
    "subject_set.display_name = 'ZTF_dippers'\n",
    "\n",
    "subject_set.save()"
   ]
  },
  {
   "cell_type": "code",
   "execution_count": 33,
   "metadata": {},
   "outputs": [],
   "source": [
    "project.reload()"
   ]
  },
  {
   "cell_type": "code",
   "execution_count": 25,
   "metadata": {},
   "outputs": [],
   "source": [
    "files = glob(f'{indir}/*.png')"
   ]
  },
  {
   "cell_type": "code",
   "execution_count": 26,
   "metadata": {},
   "outputs": [
    {
     "data": {
      "text/plain": [
       "633"
      ]
     },
     "execution_count": 26,
     "metadata": {},
     "output_type": "execute_result"
    }
   ],
   "source": [
    "len(files)"
   ]
  },
  {
   "cell_type": "code",
   "execution_count": 30,
   "metadata": {},
   "outputs": [],
   "source": [
    "def get_id(filename):\n",
    "    return int(filename.split('/')[-1].split('.')[0])"
   ]
  },
  {
   "cell_type": "code",
   "execution_count": 31,
   "metadata": {},
   "outputs": [
    {
     "data": {
      "text/plain": [
       "133592971966272490"
      ]
     },
     "execution_count": 31,
     "metadata": {},
     "output_type": "execute_result"
    }
   ],
   "source": [
    "get_id(files[0])"
   ]
  },
  {
   "cell_type": "code",
   "execution_count": 34,
   "metadata": {},
   "outputs": [
    {
     "data": {
      "application/vnd.jupyter.widget-view+json": {
       "model_id": "8d1740452b634cd5a0a78faaa9e4c974",
       "version_major": 2,
       "version_minor": 0
      },
      "text/plain": [
       "FloatProgress(value=0.0)"
      ]
     },
     "metadata": {},
     "output_type": "display_data"
    },
    {
     "name": "stdout",
     "output_type": "stream",
     "text": [
      "\n"
     ]
    }
   ],
   "source": [
    "new_subjects = []\n",
    "\n",
    "with ProgressBar(len(files), ipython_widget=True) as bar:\n",
    "\n",
    "    for filename in files:\n",
    "        subject = Subject()\n",
    "\n",
    "        subject.links.project = project\n",
    "        subject.add_location(filename)\n",
    "\n",
    "        subject.metadata.update({'ps1_id':get_id(filename)})\n",
    "\n",
    "        subject.save()\n",
    "        new_subjects.append(subject)\n",
    "        bar.update()\n",
    "subject_set.add(new_subjects)"
   ]
  },
  {
   "cell_type": "code",
   "execution_count": 35,
   "metadata": {},
   "outputs": [],
   "source": [
    "workflow = project.links.workflows[0]\n",
    "workflow.links.subject_sets.add(subject_set)"
   ]
  },
  {
   "cell_type": "code",
   "execution_count": null,
   "metadata": {},
   "outputs": [],
   "source": []
  }
 ],
 "metadata": {
  "kernelspec": {
   "display_name": "Python 3",
   "language": "python",
   "name": "python3"
  },
  "language_info": {
   "codemirror_mode": {
    "name": "ipython",
    "version": 3
   },
   "file_extension": ".py",
   "mimetype": "text/x-python",
   "name": "python",
   "nbconvert_exporter": "python",
   "pygments_lexer": "ipython3",
   "version": "3.7.6"
  }
 },
 "nbformat": 4,
 "nbformat_minor": 4
}
