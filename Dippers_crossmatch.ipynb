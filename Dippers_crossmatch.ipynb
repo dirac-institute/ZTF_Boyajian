{
 "cells": [
  {
   "cell_type": "markdown",
   "metadata": {},
   "source": [
    "# Crossmatching our dippers\n",
    "This notebook processes the full ZTF dataset to look for dips and creates a new AXS dataset with the results."
   ]
  },
  {
   "cell_type": "markdown",
   "metadata": {},
   "source": [
    "# Setup"
   ]
  },
  {
   "cell_type": "code",
   "execution_count": 8,
   "metadata": {},
   "outputs": [],
   "source": [
    "import getpass\n",
    "import numpy as np\n",
    "import matplotlib.pyplot as plt\n",
    "import pandas as pd\n",
    "\n",
    "import axs\n",
    "import pyspark.sql.functions as sparkfunc\n",
    "\n",
    "import dipper"
   ]
  },
  {
   "cell_type": "code",
   "execution_count": 9,
   "metadata": {},
   "outputs": [],
   "source": [
    "%matplotlib inline"
   ]
  },
  {
   "cell_type": "code",
   "execution_count": 10,
   "metadata": {},
   "outputs": [],
   "source": [
    "def spark_start(local_dir):\n",
    "    from pyspark.sql import SparkSession\n",
    "    \n",
    "    spark = (\n",
    "            SparkSession.builder\n",
    "            .appName(\"LSD2\")\n",
    "            .config(\"spark.sql.warehouse.dir\", local_dir)\n",
    "            .config('spark.master', \"local[20]\")\n",
    "            .config('spark.driver.memory', '256G') # 128\n",
    "            .config('spark.local.dir', local_dir)\n",
    "            .config('spark.memory.offHeap.enabled', 'true')\n",
    "            .config('spark.memory.offHeap.size', '4G') # 256\n",
    "            .config(\"spark.sql.execution.arrow.enabled\", \"true\")\n",
    "            .config(\"spark.driver.maxResultSize\", \"128G\")\n",
    "            .config(\"spark.driver.extraJavaOptions\", f\"-Dderby.system.home={local_dir}\")\n",
    "            .enableHiveSupport()\n",
    "            .getOrCreate()\n",
    "    )   \n",
    "\n",
    "    return spark\n",
    "\n",
    "username = getpass.getuser()\n",
    "spark_session = spark_start(f\"/epyc/users/{username}/spark-tmp/\")\n",
    "\n",
    "catalog = axs.AxsCatalog(spark_session)"
   ]
  },
  {
   "cell_type": "code",
   "execution_count": 11,
   "metadata": {
    "scrolled": true
   },
   "outputs": [
    {
     "data": {
      "text/html": [
       "\n",
       "            <div>\n",
       "                <p><b>SparkSession - hive</b></p>\n",
       "                \n",
       "        <div>\n",
       "            <p><b>SparkContext</b></p>\n",
       "\n",
       "            <p><a href=\"http://epyc.astro.washington.edu:4049\">Spark UI</a></p>\n",
       "\n",
       "            <dl>\n",
       "              <dt>Version</dt>\n",
       "                <dd><code>v2.4.0-SNAPSHOT</code></dd>\n",
       "              <dt>Master</dt>\n",
       "                <dd><code>local[20]</code></dd>\n",
       "              <dt>AppName</dt>\n",
       "                <dd><code>LSD2</code></dd>\n",
       "            </dl>\n",
       "        </div>\n",
       "        \n",
       "            </div>\n",
       "        "
      ],
      "text/plain": [
       "<pyspark.sql.session.SparkSession at 0x7fcc52668b10>"
      ]
     },
     "execution_count": 11,
     "metadata": {},
     "output_type": "execute_result"
    }
   ],
   "source": [
    "spark_session"
   ]
  },
  {
   "cell_type": "markdown",
   "metadata": {},
   "source": [
    "https://epyc.astro.washington.edu/jupyter/user/ecbellm/proxy/4049/jobs/"
   ]
  },
  {
   "cell_type": "code",
   "execution_count": 13,
   "metadata": {},
   "outputs": [
    {
     "data": {
      "text/plain": [
       "['gaia_dr2_1am_dup',\n",
       " 'allwise_1am_dup',\n",
       " 'unwise_v1',\n",
       " 'cklein_flare',\n",
       " 'unwise_v2',\n",
       " 'catalina_variables_n',\n",
       " 'gaia',\n",
       " 'gaia_dr2_1am_dup_ssd',\n",
       " 'ztf_dr3_detections',\n",
       " 'ps1',\n",
       " 'gaia_dr2_wds_j2019',\n",
       " 'gaia_dr2_wds_j2019_fall2020temp',\n",
       " 'green19_stellar_params',\n",
       " 'rosat_2rxs',\n",
       " 'ztf_dr3',\n",
       " 'rosat_2rxs_z4am_b2am',\n",
       " 'ztf_dr3_2rxs_obj',\n",
       " 'wtf_ztf_dr3',\n",
       " 'ztf_wds_kjb_dr3',\n",
       " 'ztf_aug2020_combined',\n",
       " 'karenws_cut_wtf_fits_r_band',\n",
       " 'karenws_cut_wtf_fits',\n",
       " 'ztf_aug2020_combined_z4am_b2am',\n",
       " 'ztf_aug2020_2rxs_obj',\n",
       " 'skymapper_dr2',\n",
       " 'test_skymapper',\n",
       " 'skymapper_dr2_ver2',\n",
       " 'skymapper_dr2_ver3',\n",
       " 'ztf_rrlyr',\n",
       " 'gaia_source_edr3',\n",
       " 'gaia_edr3_distances',\n",
       " 'rrlyrae_sample_andy',\n",
       " 'stevengs_test_small_df',\n",
       " 'ztf5',\n",
       " 'ztf_wds_expected_kjb',\n",
       " 'ztf_dr4_detections',\n",
       " 'ztf_wds_kjb',\n",
       " 'feh_rrlyr_ab_020620',\n",
       " 'kepler_rrlyrae',\n",
       " 'ztf_kepler_rrlyrae',\n",
       " 'ps_uband',\n",
       " 'ps_uband_ver2',\n",
       " 'debug_match_a',\n",
       " 'debug_match_b',\n",
       " 'debug_match_c',\n",
       " 'gaia_dr2_wds_j2019_spring2021temp',\n",
       " 'temp_kjb',\n",
       " 'ztf_rrlyr_grid_50',\n",
       " 'igaps_halpha_emitters',\n",
       " 'wtf_aug2020_asymmetric_2',\n",
       " 'wtf_aug2020_asymmetric_3',\n",
       " 'wtf_aug2020_dip_candidates',\n",
       " 'ztf_rr_lyrae_preprocessed_and_gridded_09_01_2021',\n",
       " 'ztf_rr_lyrae_phi_31_fits_09_01_2021',\n",
       " 'stevengs_test_sources',\n",
       " 'ddf_sources_bigger']"
      ]
     },
     "execution_count": 13,
     "metadata": {},
     "output_type": "execute_result"
    }
   ],
   "source": [
    "catalog.list_table_names()"
   ]
  },
  {
   "cell_type": "markdown",
   "metadata": {},
   "source": [
    "### Match back to class labels from Zooniverse"
   ]
  },
  {
   "cell_type": "code",
   "execution_count": 14,
   "metadata": {},
   "outputs": [],
   "source": [
    "dip_cat = catalog.load('wtf_aug2020_dip_candidates')"
   ]
  },
  {
   "cell_type": "code",
   "execution_count": 15,
   "metadata": {},
   "outputs": [],
   "source": [
    "best_dippers_df = (\n",
    "    dip_cat\n",
    "    .exclude_duplicates()\n",
    "    .sort(sparkfunc.col('dip.asymmetry_significance').desc())\n",
    "    .toPandas()\n",
    ")"
   ]
  },
  {
   "cell_type": "code",
   "execution_count": null,
   "metadata": {},
   "outputs": [],
   "source": [
    "best_dippers_df"
   ]
  },
  {
   "cell_type": "code",
   "execution_count": 17,
   "metadata": {},
   "outputs": [
    {
     "data": {
      "text/plain": [
       "Index(['ps1_objid', 'ra', 'dec', 'mean_mag_g', 'mean_mag_r', 'mean_mag_i',\n",
       "       'ra_stddev', 'dec_stddev', 'ps1_gMeanPSFMag', 'ps1_rMeanPSFMag',\n",
       "       'ps1_iMeanPSFMag', 'ra_detections', 'dec_detections', 'mjd_g', 'mag_g',\n",
       "       'magerr_g', 'psfflux_g', 'psffluxerr_g', 'catflags_g', 'expid_g',\n",
       "       'rcID_g', 'fieldID_g', 'xpos_g', 'ypos_g', 'nobs_g', 'mjd_r', 'mag_r',\n",
       "       'magerr_r', 'psfflux_r', 'psffluxerr_r', 'catflags_r', 'expid_r',\n",
       "       'rcID_r', 'fieldID_r', 'xpos_r', 'ypos_r', 'nobs_r', 'mjd_i', 'mag_i',\n",
       "       'magerr_i', 'psfflux_i', 'psffluxerr_i', 'catflags_i', 'expid_i',\n",
       "       'rcID_i', 'fieldID_i', 'xpos_i', 'ypos_i', 'nobs_i', 'zone', 'dup',\n",
       "       'dip'],\n",
       "      dtype='object')"
      ]
     },
     "execution_count": 17,
     "metadata": {},
     "output_type": "execute_result"
    }
   ],
   "source": [
    "best_dippers_df.columns"
   ]
  },
  {
   "cell_type": "markdown",
   "metadata": {},
   "source": [
    "### Gaia"
   ]
  },
  {
   "cell_type": "code",
   "execution_count": 18,
   "metadata": {},
   "outputs": [],
   "source": [
    "gaia = catalog.load('gaia_source_edr3')"
   ]
  },
  {
   "cell_type": "code",
   "execution_count": 19,
   "metadata": {},
   "outputs": [
    {
     "data": {
      "text/plain": [
       "['solution_id',\n",
       " 'designation',\n",
       " 'source_id',\n",
       " 'random_index',\n",
       " 'ref_epoch',\n",
       " 'ra',\n",
       " 'ra_error',\n",
       " 'dec',\n",
       " 'dec_error',\n",
       " 'parallax',\n",
       " 'parallax_error',\n",
       " 'parallax_over_error',\n",
       " 'pm',\n",
       " 'pmra',\n",
       " 'pmra_error',\n",
       " 'pmdec',\n",
       " 'pmdec_error',\n",
       " 'ra_dec_corr',\n",
       " 'ra_parallax_corr',\n",
       " 'ra_pmra_corr',\n",
       " 'ra_pmdec_corr',\n",
       " 'dec_parallax_corr',\n",
       " 'dec_pmra_corr',\n",
       " 'dec_pmdec_corr',\n",
       " 'parallax_pmra_corr',\n",
       " 'parallax_pmdec_corr',\n",
       " 'pmra_pmdec_corr',\n",
       " 'astrometric_n_obs_al',\n",
       " 'astrometric_n_obs_ac',\n",
       " 'astrometric_n_good_obs_al',\n",
       " 'astrometric_n_bad_obs_al',\n",
       " 'astrometric_gof_al',\n",
       " 'astrometric_chi2_al',\n",
       " 'astrometric_excess_noise',\n",
       " 'astrometric_excess_noise_sig',\n",
       " 'astrometric_params_solved',\n",
       " 'astrometric_primary_flag',\n",
       " 'nu_eff_used_in_astrometry',\n",
       " 'pseudocolour',\n",
       " 'pseudocolour_error',\n",
       " 'ra_pseudocolour_corr',\n",
       " 'dec_pseudocolour_corr',\n",
       " 'parallax_pseudocolour_corr',\n",
       " 'pmra_pseudocolour_corr',\n",
       " 'pmdec_pseudocolour_corr',\n",
       " 'astrometric_matched_transits',\n",
       " 'visibility_periods_used',\n",
       " 'astrometric_sigma5d_max',\n",
       " 'matched_transits',\n",
       " 'new_matched_transits',\n",
       " 'matched_transits_removed',\n",
       " 'ipd_gof_harmonic_amplitude',\n",
       " 'ipd_gof_harmonic_phase',\n",
       " 'ipd_frac_multi_peak',\n",
       " 'ipd_frac_odd_win',\n",
       " 'ruwe',\n",
       " 'scan_direction_strength_k1',\n",
       " 'scan_direction_strength_k2',\n",
       " 'scan_direction_strength_k3',\n",
       " 'scan_direction_strength_k4',\n",
       " 'scan_direction_mean_k1',\n",
       " 'scan_direction_mean_k2',\n",
       " 'scan_direction_mean_k3',\n",
       " 'scan_direction_mean_k4',\n",
       " 'duplicated_source',\n",
       " 'phot_g_n_obs',\n",
       " 'phot_g_mean_flux',\n",
       " 'phot_g_mean_flux_error',\n",
       " 'phot_g_mean_flux_over_error',\n",
       " 'phot_g_mean_mag',\n",
       " 'phot_bp_n_obs',\n",
       " 'phot_bp_mean_flux',\n",
       " 'phot_bp_mean_flux_error',\n",
       " 'phot_bp_mean_flux_over_error',\n",
       " 'phot_bp_mean_mag',\n",
       " 'phot_rp_n_obs',\n",
       " 'phot_rp_mean_flux',\n",
       " 'phot_rp_mean_flux_error',\n",
       " 'phot_rp_mean_flux_over_error',\n",
       " 'phot_rp_mean_mag',\n",
       " 'phot_bp_n_contaminated_transits',\n",
       " 'phot_bp_n_blended_transits',\n",
       " 'phot_rp_n_contaminated_transits',\n",
       " 'phot_rp_n_blended_transits',\n",
       " 'phot_proc_mode',\n",
       " 'phot_bp_rp_excess_factor',\n",
       " 'bp_rp',\n",
       " 'bp_g',\n",
       " 'g_rp',\n",
       " 'dr2_radial_velocity',\n",
       " 'dr2_radial_velocity_error',\n",
       " 'dr2_rv_nb_transits',\n",
       " 'dr2_rv_template_teff',\n",
       " 'dr2_rv_template_logg',\n",
       " 'dr2_rv_template_fe_h',\n",
       " 'l',\n",
       " 'b',\n",
       " 'ecl_lon',\n",
       " 'ecl_lat',\n",
       " 'zone',\n",
       " 'dup']"
      ]
     },
     "execution_count": 19,
     "metadata": {},
     "output_type": "execute_result"
    }
   ],
   "source": [
    "gaia.columns"
   ]
  },
  {
   "cell_type": "code",
   "execution_count": 20,
   "metadata": {},
   "outputs": [
    {
     "name": "stdout",
     "output_type": "stream",
     "text": [
      "CPU times: user 208 ms, sys: 92.7 ms, total: 301 ms\n",
      "Wall time: 13min 40s\n"
     ]
    }
   ],
   "source": [
    "%%time\n",
    "dip_x_gaia = dip_cat.crossmatch(gaia, return_min=True).select('ps1_objid','source_id',\n",
    "'ruwe',  'bp_rp', 'bp_g', 'g_rp',\n",
    " 'phot_g_mean_flux',\n",
    " 'phot_g_mean_flux_error',\n",
    " 'phot_g_mean_mag',\n",
    " 'phot_bp_mean_flux',\n",
    " 'phot_bp_mean_flux_error',\n",
    " 'phot_bp_mean_mag',\n",
    " 'phot_rp_mean_flux',\n",
    " 'phot_rp_mean_flux_error',\n",
    " 'phot_rp_mean_mag',\n",
    " 'parallax',\n",
    " 'parallax_error',\n",
    " 'parallax_over_error',\n",
    " 'pm',\n",
    " 'pmra',\n",
    " 'pmra_error',\n",
    " 'pmdec',\n",
    " 'pmdec_error').write.parquet(f'./wtf_aug2020_dip_candidates_x_gaia_source_edr3')"
   ]
  },
  {
   "cell_type": "code",
   "execution_count": null,
   "metadata": {},
   "outputs": [],
   "source": [
    "df_dip_x_gaia =  pd.read_parquet('wtf_aug2020_dip_candidates_x_gaia_source_edr3')\n",
    "df_dip_x_gaia"
   ]
  },
  {
   "cell_type": "markdown",
   "metadata": {},
   "source": [
    "### Green 19"
   ]
  },
  {
   "cell_type": "code",
   "execution_count": 24,
   "metadata": {},
   "outputs": [],
   "source": [
    "g19 = catalog.load(\"green19_stellar_params\")"
   ]
  },
  {
   "cell_type": "code",
   "execution_count": 25,
   "metadata": {},
   "outputs": [
    {
     "data": {
      "text/plain": [
       "['dm_16',\n",
       " 'E_16',\n",
       " 'Mr_16',\n",
       " 'FeH_16',\n",
       " 'dm_50',\n",
       " 'E_50',\n",
       " 'Mr_50',\n",
       " 'FeH_50',\n",
       " 'dm_84',\n",
       " 'E_84',\n",
       " 'Mr_84',\n",
       " 'FeH_84',\n",
       " 'obj_id',\n",
       " 'l',\n",
       " 'b',\n",
       " 'gaia_id',\n",
       " 'chisq',\n",
       " 'ra',\n",
       " 'dec',\n",
       " '__index_level_0__',\n",
       " 'zone',\n",
       " 'dup']"
      ]
     },
     "execution_count": 25,
     "metadata": {},
     "output_type": "execute_result"
    }
   ],
   "source": [
    "g19.columns"
   ]
  },
  {
   "cell_type": "code",
   "execution_count": 32,
   "metadata": {},
   "outputs": [
    {
     "name": "stdout",
     "output_type": "stream",
     "text": [
      "CPU times: user 35.1 ms, sys: 24.4 ms, total: 59.5 ms\n",
      "Wall time: 1min 19s\n"
     ]
    }
   ],
   "source": [
    "%%time\n",
    "dip_x_g19 = dip_cat.crossmatch(g19, return_min=True).select('ps1_objid','dm_16',\n",
    "        'E_16', 'Mr_16','FeH_16','dm_50','E_50','Mr_50','FeH_50','dm_84', 'E_84',\n",
    "        'Mr_84', 'FeH_84','chisq','gaia_id').write.parquet(f'./wtf_aug2020_dip_candidates_x_green19_stellar_params')"
   ]
  },
  {
   "cell_type": "code",
   "execution_count": null,
   "metadata": {},
   "outputs": [],
   "source": [
    "df_dip_x_g19 =  pd.read_parquet('wtf_aug2020_dip_candidates_x_green19_stellar_params')\n",
    "df_dip_x_g19"
   ]
  },
  {
   "cell_type": "markdown",
   "metadata": {},
   "source": [
    "### Bailer-Jones distances"
   ]
  },
  {
   "cell_type": "code",
   "execution_count": 35,
   "metadata": {},
   "outputs": [],
   "source": [
    "bjdist = catalog.load('gaia_edr3_distances')"
   ]
  },
  {
   "cell_type": "code",
   "execution_count": 36,
   "metadata": {},
   "outputs": [
    {
     "data": {
      "text/plain": [
       "['ra',\n",
       " 'dec',\n",
       " 'zone',\n",
       " 'dup',\n",
       " 'source_id',\n",
       " 'r_med_geo',\n",
       " 'r_lo_geo',\n",
       " 'r_hi_geo',\n",
       " 'r_med_photogeo',\n",
       " 'r_lo_photogeo',\n",
       " 'r_hi_photogeo',\n",
       " 'flag']"
      ]
     },
     "execution_count": 36,
     "metadata": {},
     "output_type": "execute_result"
    }
   ],
   "source": [
    "bjdist.columns"
   ]
  },
  {
   "cell_type": "code",
   "execution_count": 37,
   "metadata": {},
   "outputs": [
    {
     "name": "stdout",
     "output_type": "stream",
     "text": [
      "CPU times: user 54.7 ms, sys: 25.6 ms, total: 80.3 ms\n",
      "Wall time: 2min 32s\n"
     ]
    }
   ],
   "source": [
    "%%time\n",
    "dip_x_bjdist = dip_cat.crossmatch(bjdist, return_min=True).select('ps1_objid','source_id',\n",
    "'r_med_geo',\n",
    " 'r_lo_geo',\n",
    " 'r_hi_geo',\n",
    " 'r_med_photogeo',\n",
    " 'r_lo_photogeo',\n",
    " 'r_hi_photogeo',\n",
    " 'flag').write.parquet(f'./wtf_aug2020_dip_candidates_x_gaia_edr3_distances')"
   ]
  },
  {
   "cell_type": "code",
   "execution_count": null,
   "metadata": {},
   "outputs": [],
   "source": [
    "df_dip_x_bjd =  pd.read_parquet('wtf_aug2020_dip_candidates_x_gaia_edr3_distances')\n",
    "df_dip_x_bjd"
   ]
  },
  {
   "cell_type": "markdown",
   "metadata": {},
   "source": [
    "### AllWISE"
   ]
  },
  {
   "cell_type": "code",
   "execution_count": 39,
   "metadata": {},
   "outputs": [],
   "source": [
    "wise = catalog.load('allwise_1am_dup')"
   ]
  },
  {
   "cell_type": "code",
   "execution_count": 40,
   "metadata": {
    "scrolled": false
   },
   "outputs": [
    {
     "data": {
      "text/plain": [
       "['designation',\n",
       " 'ra',\n",
       " 'dec',\n",
       " 'sigra',\n",
       " 'sigdec',\n",
       " 'sigradec',\n",
       " 'glon',\n",
       " 'glat',\n",
       " 'elon',\n",
       " 'elat',\n",
       " 'wx',\n",
       " 'wy',\n",
       " 'cntr',\n",
       " 'source_id',\n",
       " 'coadd_id',\n",
       " 'src',\n",
       " 'w1mpro',\n",
       " 'w1sigmpro',\n",
       " 'w1snr',\n",
       " 'w1rchi2',\n",
       " 'w2mpro',\n",
       " 'w2sigmpro',\n",
       " 'w2snr',\n",
       " 'w2rchi2',\n",
       " 'w3mpro',\n",
       " 'w3sigmpro',\n",
       " 'w3snr',\n",
       " 'w3rchi2',\n",
       " 'w4mpro',\n",
       " 'w4sigmpro',\n",
       " 'w4snr',\n",
       " 'w4rchi2',\n",
       " 'rchi2',\n",
       " 'nb',\n",
       " 'na',\n",
       " 'w1sat',\n",
       " 'w2sat',\n",
       " 'w3sat',\n",
       " 'w4sat',\n",
       " 'satnum',\n",
       " 'ra_pm',\n",
       " 'dec_pm',\n",
       " 'sigra_pm',\n",
       " 'sigdec_pm',\n",
       " 'sigradec_pm',\n",
       " 'pmra',\n",
       " 'sigpmra',\n",
       " 'pmdec',\n",
       " 'sigpmdec',\n",
       " 'w1rchi2_pm',\n",
       " 'w2rchi2_pm',\n",
       " 'w3rchi2_pm',\n",
       " 'w4rchi2_pm',\n",
       " 'rchi2_pm',\n",
       " 'pmcode',\n",
       " 'cc_flags',\n",
       " 'rel',\n",
       " 'ext_flg',\n",
       " 'var_flg',\n",
       " 'ph_qual',\n",
       " 'det_bit',\n",
       " 'moon_lev',\n",
       " 'w1nm',\n",
       " 'w1m',\n",
       " 'w2nm',\n",
       " 'w2m',\n",
       " 'w3nm',\n",
       " 'w3m',\n",
       " 'w4nm',\n",
       " 'w4m',\n",
       " 'w1cov',\n",
       " 'w2cov',\n",
       " 'w3cov',\n",
       " 'w4cov',\n",
       " 'w1cc_map',\n",
       " 'w1cc_map_str',\n",
       " 'w2cc_map',\n",
       " 'w2cc_map_str',\n",
       " 'w3cc_map',\n",
       " 'w3cc_map_str',\n",
       " 'w4cc_map',\n",
       " 'w4cc_map_str',\n",
       " 'best_use_cntr',\n",
       " 'ngrp',\n",
       " 'w1flux',\n",
       " 'w1sigflux',\n",
       " 'w1sky',\n",
       " 'w1sigsk',\n",
       " 'w1conf',\n",
       " 'w2flux',\n",
       " 'w2sigflux',\n",
       " 'w2sky',\n",
       " 'w2sigsk',\n",
       " 'w2conf',\n",
       " 'w3flux',\n",
       " 'w3sigflux',\n",
       " 'w3sky',\n",
       " 'w3sigsk',\n",
       " 'w3conf',\n",
       " 'w4flux',\n",
       " 'w4sigflux',\n",
       " 'w4sky',\n",
       " 'w4sigsk',\n",
       " 'w4conf',\n",
       " 'w1mag',\n",
       " 'w1sigm',\n",
       " 'w1flg',\n",
       " 'w1mcor',\n",
       " 'w2mag',\n",
       " 'w2sigm',\n",
       " 'w2flg',\n",
       " 'w2mcor',\n",
       " 'w3mag',\n",
       " 'w3sigm',\n",
       " 'w3flg',\n",
       " 'w3mcor',\n",
       " 'w4mag',\n",
       " 'w4sigm',\n",
       " 'w4flg',\n",
       " 'w4mcor',\n",
       " 'w1mag_1',\n",
       " 'w1sigm_1',\n",
       " 'w1flg_1',\n",
       " 'w2mag_1',\n",
       " 'w2sigm_1',\n",
       " 'w2flg_1',\n",
       " 'w3mag_1',\n",
       " 'w3sigm_1',\n",
       " 'w3flg_1',\n",
       " 'w4mag_1',\n",
       " 'w4sigm_1',\n",
       " 'w4flg_1',\n",
       " 'w1mag_2',\n",
       " 'w1sigm_2',\n",
       " 'w1flg_2',\n",
       " 'w2mag_2',\n",
       " 'w2sigm_2',\n",
       " 'w2flg_2',\n",
       " 'w3mag_2',\n",
       " 'w3sigm_2',\n",
       " 'w3flg_2',\n",
       " 'w4mag_2',\n",
       " 'w4sigm_2',\n",
       " 'w4flg_2',\n",
       " 'w1mag_3',\n",
       " 'w1sigm_3',\n",
       " 'w1flg_3',\n",
       " 'w2mag_3',\n",
       " 'w2sigm_3',\n",
       " 'w2flg_3',\n",
       " 'w3mag_3',\n",
       " 'w3sigm_3',\n",
       " 'w3flg_3',\n",
       " 'w4mag_3',\n",
       " 'w4sigm_3',\n",
       " 'w4flg_3',\n",
       " 'w1mag_4',\n",
       " 'w1sigm_4',\n",
       " 'w1flg_4',\n",
       " 'w2mag_4',\n",
       " 'w2sigm_4',\n",
       " 'w2flg_4',\n",
       " 'w3mag_4',\n",
       " 'w3sigm_4',\n",
       " 'w3flg_4',\n",
       " 'w4mag_4',\n",
       " 'w4sigm_4',\n",
       " 'w4flg_4',\n",
       " 'w1mag_5',\n",
       " 'w1sigm_5',\n",
       " 'w1flg_5',\n",
       " 'w2mag_5',\n",
       " 'w2sigm_5',\n",
       " 'w2flg_5',\n",
       " 'w3mag_5',\n",
       " 'w3sigm_5',\n",
       " 'w3flg_5',\n",
       " 'w4mag_5',\n",
       " 'w4sigm_5',\n",
       " 'w4flg_5',\n",
       " 'w1mag_6',\n",
       " 'w1sigm_6',\n",
       " 'w1flg_6',\n",
       " 'w2mag_6',\n",
       " 'w2sigm_6',\n",
       " 'w2flg_6',\n",
       " 'w3mag_6',\n",
       " 'w3sigm_6',\n",
       " 'w3flg_6',\n",
       " 'w4mag_6',\n",
       " 'w4sigm_6',\n",
       " 'w4flg_6',\n",
       " 'w1mag_7',\n",
       " 'w1sigm_7',\n",
       " 'w1flg_7',\n",
       " 'w2mag_7',\n",
       " 'w2sigm_7',\n",
       " 'w2flg_7',\n",
       " 'w3mag_7',\n",
       " 'w3sigm_7',\n",
       " 'w3flg_7',\n",
       " 'w4mag_7',\n",
       " 'w4sigm_7',\n",
       " 'w4flg_7',\n",
       " 'w1mag_8',\n",
       " 'w1sigm_8',\n",
       " 'w1flg_8',\n",
       " 'w2mag_8',\n",
       " 'w2sigm_8',\n",
       " 'w2flg_8',\n",
       " 'w3mag_8',\n",
       " 'w3sigm_8',\n",
       " 'w3flg_8',\n",
       " 'w4mag_8',\n",
       " 'w4sigm_8',\n",
       " 'w4flg_8',\n",
       " 'w1magp',\n",
       " 'w1sigp1',\n",
       " 'w1sigp2',\n",
       " 'w1k',\n",
       " 'w1ndf',\n",
       " 'w1mlq',\n",
       " 'w1mjdmin',\n",
       " 'w1mjdmax',\n",
       " 'w1mjdmean',\n",
       " 'w2magp',\n",
       " 'w2sigp1',\n",
       " 'w2sigp2',\n",
       " 'w2k',\n",
       " 'w2ndf',\n",
       " 'w2mlq',\n",
       " 'w2mjdmin',\n",
       " 'w2mjdmax',\n",
       " 'w2mjdmean',\n",
       " 'w3magp',\n",
       " 'w3sigp1',\n",
       " 'w3sigp2',\n",
       " 'w3k',\n",
       " 'w3ndf',\n",
       " 'w3mlq',\n",
       " 'w3mjdmin',\n",
       " 'w3mjdmax',\n",
       " 'w3mjdmean',\n",
       " 'w4magp',\n",
       " 'w4sigp1',\n",
       " 'w4sigp2',\n",
       " 'w4k',\n",
       " 'w4ndf',\n",
       " 'w4mlq',\n",
       " 'w4mjdmin',\n",
       " 'w4mjdmax',\n",
       " 'w4mjdmean',\n",
       " 'rho12',\n",
       " 'rho23',\n",
       " 'rho34',\n",
       " 'q12',\n",
       " 'q23',\n",
       " 'q34',\n",
       " 'xscprox',\n",
       " 'w1rsemi',\n",
       " 'w1ba',\n",
       " 'w1pa',\n",
       " 'w1gmag',\n",
       " 'w1gerr',\n",
       " 'w1gflg',\n",
       " 'w2rsemi',\n",
       " 'w2ba',\n",
       " 'w2pa',\n",
       " 'w2gmag',\n",
       " 'w2gerr',\n",
       " 'w2gflg',\n",
       " 'w3rsemi',\n",
       " 'w3ba',\n",
       " 'w3pa',\n",
       " 'w3gmag',\n",
       " 'w3gerr',\n",
       " 'w3gflg',\n",
       " 'w4rsemi',\n",
       " 'w4ba',\n",
       " 'w4pa',\n",
       " 'w4gmag',\n",
       " 'w4gerr',\n",
       " 'w4gflg',\n",
       " 'tmass_key',\n",
       " 'r_2mass',\n",
       " 'pa_2mass',\n",
       " 'n_2mass',\n",
       " 'j_m_2mass',\n",
       " 'j_msig_2mass',\n",
       " 'h_m_2mass',\n",
       " 'h_msig_2mass',\n",
       " 'k_m_2mass',\n",
       " 'k_msig_2mass',\n",
       " 'x',\n",
       " 'y',\n",
       " 'z',\n",
       " 'spt_ind',\n",
       " 'htm20',\n",
       " 'zone',\n",
       " 'dup']"
      ]
     },
     "execution_count": 40,
     "metadata": {},
     "output_type": "execute_result"
    }
   ],
   "source": [
    "wise.columns"
   ]
  },
  {
   "cell_type": "code",
   "execution_count": 41,
   "metadata": {},
   "outputs": [
    {
     "name": "stdout",
     "output_type": "stream",
     "text": [
      "CPU times: user 72.1 ms, sys: 35.6 ms, total: 108 ms\n",
      "Wall time: 3min 34s\n"
     ]
    }
   ],
   "source": [
    "%%time\n",
    "dip_x_wise = dip_cat.crossmatch(wise, return_min=True).select('ps1_objid','source_id',\n",
    "                                                               'w1mpro',\n",
    " 'w1sigmpro',\n",
    " 'w1snr',\n",
    " 'w1rchi2',\n",
    " 'w2mpro',\n",
    " 'w2sigmpro',\n",
    " 'w2snr',\n",
    " 'w2rchi2',\n",
    " 'w3mpro',\n",
    " 'w3sigmpro',\n",
    " 'w3snr',\n",
    " 'w3rchi2',\n",
    " 'w4mpro',\n",
    " 'w4sigmpro',\n",
    " 'w4snr',\n",
    " 'w4rchi2',\n",
    " 'rchi2',\n",
    " 'na', 'w1sat',\n",
    " 'w2sat',\n",
    " 'w3sat',\n",
    " 'w4sat',\n",
    " 'satnum'\n",
    ").write.parquet(f'./wtf_aug2020_dip_candidates_x_allwise_1am_dup')"
   ]
  },
  {
   "cell_type": "code",
   "execution_count": null,
   "metadata": {},
   "outputs": [],
   "source": [
    "df_dip_x_wise =  pd.read_parquet('wtf_aug2020_dip_candidates_x_allwise_1am_dup')\n",
    "df_dip_x_wise"
   ]
  },
  {
   "cell_type": "markdown",
   "metadata": {},
   "source": [
    "### Dip labels from Zooniverse"
   ]
  },
  {
   "cell_type": "markdown",
   "metadata": {},
   "source": [
    "Read in the zooniverse labels from zooniverse_analysis.ipynb"
   ]
  },
  {
   "cell_type": "code",
   "execution_count": 9,
   "metadata": {},
   "outputs": [],
   "source": [
    "dip_labels = pd.read_csv('ztf_dips_labelled.csv')"
   ]
  },
  {
   "cell_type": "code",
   "execution_count": null,
   "metadata": {},
   "outputs": [],
   "source": [
    "dip_labels.head()"
   ]
  },
  {
   "cell_type": "code",
   "execution_count": 11,
   "metadata": {},
   "outputs": [
    {
     "data": {
      "text/plain": [
       "None        569\n",
       "Lithium      13\n",
       "Platinum     11\n",
       "Gold          4\n",
       "Name: dip_label, dtype: int64"
      ]
     },
     "execution_count": 11,
     "metadata": {},
     "output_type": "execute_result"
    }
   ],
   "source": [
    "dip_labels.dip_label.value_counts()"
   ]
  },
  {
   "cell_type": "code",
   "execution_count": 12,
   "metadata": {},
   "outputs": [],
   "source": [
    "best_dippers_df = pd.merge(best_dippers_df,dip_labels,left_on='ps1_objid',right_on='ps1_id')"
   ]
  },
  {
   "cell_type": "code",
   "execution_count": 13,
   "metadata": {},
   "outputs": [],
   "source": [
    "best_dippers_df[['ps1_objid', 'ra', 'dec', 'mean_mag_g', 'mean_mag_r', 'mean_mag_i',\n",
    "       'ps1_gMeanPSFMag', 'ps1_rMeanPSFMag','ps1_iMeanPSFMag','dip_label']].to_csv('ztf_dips_labelled_allinfo.csv')"
   ]
  },
  {
   "cell_type": "code",
   "execution_count": 14,
   "metadata": {},
   "outputs": [
    {
     "data": {
      "text/plain": [
       "None        568\n",
       "Lithium      13\n",
       "Platinum     11\n",
       "Gold          4\n",
       "Name: dip_label, dtype: int64"
      ]
     },
     "execution_count": 14,
     "metadata": {},
     "output_type": "execute_result"
    }
   ],
   "source": [
    "best_dippers_df.dip_label.value_counts()"
   ]
  },
  {
   "cell_type": "code",
   "execution_count": 30,
   "metadata": {},
   "outputs": [
    {
     "name": "stdout",
     "output_type": "stream",
     "text": [
      "/data/epyc/users/ecbellm/ZTF_Boyajian\r\n"
     ]
    }
   ],
   "source": [
    "!pwd"
   ]
  },
  {
   "cell_type": "code",
   "execution_count": null,
   "metadata": {},
   "outputs": [],
   "source": []
  }
 ],
 "metadata": {
  "kernelspec": {
   "display_name": "Python 3-AXS Spark",
   "language": "python",
   "name": "spark-smj"
  },
  "language_info": {
   "codemirror_mode": {
    "name": "ipython",
    "version": 3
   },
   "file_extension": ".py",
   "mimetype": "text/x-python",
   "name": "python",
   "nbconvert_exporter": "python",
   "pygments_lexer": "ipython3",
   "version": "3.7.6"
  }
 },
 "nbformat": 4,
 "nbformat_minor": 2
}
