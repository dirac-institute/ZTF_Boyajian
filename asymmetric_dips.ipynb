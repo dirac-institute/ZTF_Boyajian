{
 "cells": [
  {
   "cell_type": "markdown",
   "metadata": {},
   "source": [
    "# Setup"
   ]
  },
  {
   "cell_type": "code",
   "execution_count": 72,
   "metadata": {},
   "outputs": [],
   "source": [
    "import getpass\n",
    "import numpy as np\n",
    "import matplotlib.pyplot as plt\n",
    "\n",
    "import axs\n",
    "import pyspark.sql.functions as sparkfunc\n",
    "import pyspark.sql.types as sparktypes\n",
    "\n",
    "import pandas as pd\n",
    "\n",
    "import dipper"
   ]
  },
  {
   "cell_type": "code",
   "execution_count": 2,
   "metadata": {},
   "outputs": [],
   "source": [
    "%matplotlib notebook"
   ]
  },
  {
   "cell_type": "markdown",
   "metadata": {},
   "source": [
    "# Load Steven's data"
   ]
  },
  {
   "cell_type": "code",
   "execution_count": 3,
   "metadata": {},
   "outputs": [],
   "source": [
    "from pyspark.sql import SparkSession\n",
    "spark = ( \n",
    "    SparkSession\n",
    "    .builder\n",
    "    .config(\"spark.master\", \"local[*]\")\n",
    "    .config(\"spark.driver.memory\", \"120g\")\n",
    "    .config(\"spark.driver.maxResultSize\", \"0\")\n",
    "    .enableHiveSupport()\n",
    "    .getOrCreate()\n",
    ")\n",
    "import axs\n",
    "catalog = axs.AxsCatalog(spark)\n",
    "joined_df = catalog.load(\"6_4_20_stevengs_top_hat_and_skew_normal_fits_r_band\")"
   ]
  },
  {
   "cell_type": "code",
   "execution_count": 34,
   "metadata": {},
   "outputs": [],
   "source": [
    "base_df = catalog.load(\"stevengs_cut_wtf\").toPandas()"
   ]
  },
  {
   "cell_type": "code",
   "execution_count": 13,
   "metadata": {},
   "outputs": [],
   "source": [
    "df_dict = {\n",
    "    'skew_r': '8_5_20_stevengs_skew_normal_fits_r_band',\n",
    "    'skew_g': '8_5_20_stevengs_skew_normal_fits_g_band',\n",
    "    'skew_i': '8_5_20_stevengs_skew_normal_fits_i_band',\n",
    "    'tophat_r': '8_5_20_stevengs_top_hat_fits_r_band',\n",
    "    'tophat_g': '8_5_20_stevengs_top_hat_fits_g_band',\n",
    "    'tophat_i': '8_5_20_stevengs_top_hat_fits_i_band',\n",
    "}"
   ]
  },
  {
   "cell_type": "code",
   "execution_count": 14,
   "metadata": {},
   "outputs": [],
   "source": [
    "pandas_dfs = {}\n",
    "for label, name in df_dict.items():\n",
    "    pandas_dfs[label] = catalog.load(name).toPandas()"
   ]
  },
  {
   "cell_type": "code",
   "execution_count": 109,
   "metadata": {},
   "outputs": [],
   "source": [
    "merged_df = base_df[base_df['dup'] == 0]\n",
    "for channel in ['r', 'g', 'i']:\n",
    "    \n",
    "    df_1 = pandas_dfs[f'skew_{channel}']\n",
    "    df_2 = pandas_dfs[f'tophat_{channel}']\n",
    "    \n",
    "    df_1 = df_1[df_1['dup'] == 0]\n",
    "    df_2 = df_2[df_2['dup'] == 0]\n",
    "    \n",
    "    channel_df = pd.merge(\n",
    "        df_1,\n",
    "        df_2,\n",
    "        how='inner',\n",
    "        on='ps1_objid',\n",
    "        suffixes=[f'_skew_{channel}', f'_tophat_{channel}']\n",
    "    )\n",
    "    merged_df = pd.merge(merged_df, channel_df, on='ps1_objid', how='left')"
   ]
  },
  {
   "cell_type": "code",
   "execution_count": 128,
   "metadata": {},
   "outputs": [],
   "source": [
    "def extract_key(key, subkey):\n",
    "    return np.array([i[subkey] if isinstance(i, sparktypes.Row) else i for i in merged_df[key]])\n",
    "\n",
    "def extract_key_item(key, subkey, item):\n",
    "    return np.array([i[subkey][item] if isinstance(i, sparktypes.Row) else i for i in merged_df[key]])"
   ]
  },
  {
   "cell_type": "code",
   "execution_count": 133,
   "metadata": {},
   "outputs": [],
   "source": [
    "chisq_skew_g = extract_key('model_error_around_dip_g_skew_g', 'reduced_sum_square_error')\n",
    "chisq_skew_r = extract_key('model_error_around_dip_r_skew_r', 'reduced_sum_square_error')\n",
    "chisq_skew_i = extract_key('model_error_around_dip_i_skew_i', 'reduced_sum_square_error')\n",
    "chisq_tophat_g = extract_key('model_error_around_dip_g_tophat_g', 'reduced_sum_square_error')\n",
    "chisq_tophat_r = extract_key('model_error_around_dip_r_tophat_r', 'reduced_sum_square_error')\n",
    "chisq_tophat_i = extract_key('model_error_around_dip_i_tophat_i', 'reduced_sum_square_error')\n",
    "\n",
    "skew_g = extract_key_item('fit_g_skew_g', 'popt', 0)\n",
    "xscale_g = extract_key_item('fit_g_skew_g', 'popt', 2)\n",
    "yscale_g = extract_key_item('fit_g_skew_g', 'popt', 3)\n",
    "skew_r = extract_key_item('fit_r_skew_r', 'popt', 0)\n",
    "xscale_r = extract_key_item('fit_r_skew_r', 'popt', 2)\n",
    "yscale_r = extract_key_item('fit_r_skew_r', 'popt', 3)\n",
    "skew_i = extract_key_item('fit_i_skew_i', 'popt', 0)\n",
    "xscale_i = extract_key_item('fit_i_skew_i', 'popt', 2)\n",
    "yscale_i = extract_key_item('fit_i_skew_i', 'popt', 3)"
   ]
  },
  {
   "cell_type": "code",
   "execution_count": 160,
   "metadata": {},
   "outputs": [],
   "source": [
    "def skew_normal(x, skew, loc, xscale, yscale, offset):\n",
    "    from scipy.stats import skewnorm\n",
    "    _dist = skewnorm(skew, loc=loc, scale=xscale)\n",
    "    return yscale * _dist.pdf(x) + offset\n",
    "\n",
    "def top_hat(x, loc, width, depth, offset):\n",
    "    import numpy as np\n",
    "    x = np.array(x)\n",
    "    left = loc - width / 2\n",
    "    right = loc + width / 2\n",
    "    outside = (x < left) | (x > right)\n",
    "    inside = np.logical_not(outside)\n",
    "    \n",
    "    y = np.zeros(x.shape)\n",
    "    y[outside] = offset\n",
    "    y[inside] = offset + depth\n",
    "    \n",
    "    return y"
   ]
  },
  {
   "cell_type": "code",
   "execution_count": 298,
   "metadata": {},
   "outputs": [],
   "source": [
    "colormap = {\n",
    "    'g': 'tab:green',\n",
    "    'r': 'tab:red',\n",
    "    'i': 'tab:purple',\n",
    "}\n",
    "\n",
    "def plot_row(row):\n",
    "    dip = row['dip']\n",
    "\n",
    "    fig, subplots = plt.subplots(3, 1, figsize=(8, 9), sharex=True, gridspec_kw={'hspace': 0.05})\n",
    "    \n",
    "    start_mjd = dip['window_start_mjd']\n",
    "    end_mjd = dip['window_end_mjd']\n",
    "    pad = end_mjd - start_mjd\n",
    "\n",
    "    x = np.linspace(start_mjd - pad, end_mjd + pad, 1000)\n",
    "\n",
    "    for subplot, channel in zip(subplots, ['r', 'g', 'i']):\n",
    "        c = colormap[channel]\n",
    "        \n",
    "        mjd = np.array(row[f'mjd_{channel}'])\n",
    "        mag = np.array(row[f'mag_{channel}'])\n",
    "        magerr = np.array(row[f'magerr_{channel}'])\n",
    "        \n",
    "        mask = (mjd > start_mjd - pad) & (mjd < end_mjd + pad)\n",
    "\n",
    "        subplot.errorbar(mjd[mask], mag[mask], magerr[mask], fmt='o', c=c, label=f'{channel} observations')\n",
    "\n",
    "        fit = row[f'fit_{channel}_skew_{channel}']\n",
    "        if fit is not np.nan:\n",
    "            model = skew_normal(x, *fit['popt'])\n",
    "            chisq = row[f\"model_error_around_dip_{channel}_skew_{channel}\"][1]\n",
    "            subplot.plot(x, model, label=f'Skew normal fit {channel} - {chisq:.2f}', c='C0')\n",
    "\n",
    "        fit = row[f'fit_{channel}_tophat_{channel}']\n",
    "        if fit is not np.nan:\n",
    "            model = top_hat(x, *fit['popt'])\n",
    "            chisq = row[f\"model_error_around_dip_{channel}_tophat_{channel}\"][1]\n",
    "            subplot.plot(x, model, label=f'Top hat fit {channel} - {chisq:.2f}', c='C1')        \n",
    "\n",
    "        subplot.invert_yaxis()\n",
    "        subplot.legend()\n",
    "        subplot.set_xlim(start_mjd - pad, end_mjd + pad)\n",
    "\n",
    "        subplot.axvline(start_mjd, c='k', ls='--')\n",
    "        subplot.axvline(end_mjd, c='k', ls='--')\n",
    "\n",
    "        subplot.set_ylabel('Magnitude')\n",
    "        \n",
    "    subplots[2].set_xlabel('MJD')\n",
    "    subplots[0].set_title(row['ps1_objid'])"
   ]
  },
  {
   "cell_type": "code",
   "execution_count": 299,
   "metadata": {},
   "outputs": [],
   "source": [
    "sig = extract_key('dip', 'significance')"
   ]
  },
  {
   "cell_type": "code",
   "execution_count": 305,
   "metadata": {},
   "outputs": [
    {
     "name": "stderr",
     "output_type": "stream",
     "text": [
      "/epyc/opt/anaconda/lib/python3.7/site-packages/ipykernel_launcher.py:19: RuntimeWarning: invalid value encountered in less\n",
      "/epyc/opt/anaconda/lib/python3.7/site-packages/ipykernel_launcher.py:19: RuntimeWarning: invalid value encountered in greater\n",
      "/epyc/opt/anaconda/lib/python3.7/site-packages/ipykernel_launcher.py:24: RuntimeWarning: invalid value encountered in less\n",
      "/epyc/opt/anaconda/lib/python3.7/site-packages/ipykernel_launcher.py:24: RuntimeWarning: invalid value encountered in greater\n"
     ]
    }
   ],
   "source": [
    "cut = (\n",
    "    # g\n",
    "    (\n",
    "        (chisq_skew_g < 5)\n",
    "        & (np.abs(skew_g) > 2)\n",
    "        & (np.abs(yscale_g) < 4)\n",
    "        & (np.abs(xscale_g) < 50)\n",
    "        & (chisq_tophat_g - chisq_skew_g > 2)\n",
    "    )\n",
    "    # r\n",
    "    | (\n",
    "        (chisq_skew_r < 5)\n",
    "        & (np.abs(skew_r) > 2)\n",
    "        & (np.abs(yscale_r) < 4)\n",
    "        & (np.abs(xscale_r) < 50)\n",
    "        & (chisq_tophat_r - chisq_skew_r > 2)\n",
    "    )\n",
    "    # i\n",
    "    | (\n",
    "        (chisq_skew_i < 5)\n",
    "        & (np.abs(skew_i) > 2)\n",
    "        & (np.abs(yscale_i) < 4)\n",
    "        & (np.abs(xscale_i) < 50)\n",
    "        & (chisq_tophat_i - chisq_skew_i > 2)\n",
    "    )\n",
    ")\n",
    "\n",
    "cut_df = merged_df.iloc[cut]"
   ]
  },
  {
   "cell_type": "code",
   "execution_count": 313,
   "metadata": {},
   "outputs": [
    {
     "data": {
      "image/png": "[encoded data removed]",
      "text/plain": [
       "<Figure size 576x648 with 3 Axes>"
      ]
     },
     "metadata": {
      "needs_background": "light"
     },
     "output_type": "display_data"
    }
   ],
   "source": [
    "sig = extract_key('dip', 'significance')\n",
    "sig_df = cut_df.iloc[np.argsort(sig[cut])[::-1]]\n",
    "plot_row(sig_df.iloc[0])"
   ]
  },
  {
   "cell_type": "code",
   "execution_count": 314,
   "metadata": {},
   "outputs": [],
   "source": [
    "%matplotlib inline"
   ]
  },
  {
   "cell_type": "code",
   "execution_count": 319,
   "metadata": {},
   "outputs": [],
   "source": [
    "from tqdm.notebook import tqdm"
   ]
  },
  {
   "cell_type": "code",
   "execution_count": null,
   "metadata": {},
   "outputs": [],
   "source": [
    "tqdm()"
   ]
  },
  {
   "cell_type": "code",
   "execution_count": null,
   "metadata": {
    "scrolled": false
   },
   "outputs": [
    {
     "data": {
      "application/vnd.jupyter.widget-view+json": {
       "model_id": "88f79adff23f4676a248c19f02873834",
       "version_major": 2,
       "version_minor": 0
      },
      "text/plain": [
       "HBox(children=(FloatProgress(value=0.0, max=1061.0), HTML(value='')))"
      ]
     },
     "metadata": {},
     "output_type": "display_data"
    }
   ],
   "source": [
    "for row_id, row in tqdm(cut_df.iterrows(), total=len(cut_df)):\n",
    "    plot_row(row)\n",
    "    plt.savefig(f'./zooniverse/{row[\"ps1_objid\"]}.png')\n",
    "    plt.close()"
   ]
  }
 ],
 "metadata": {
  "kernelspec": {
   "display_name": "Python 3-AXS Spark",
   "language": "python",
   "name": "spark-smj"
  },
  "language_info": {
   "codemirror_mode": {
    "name": "ipython",
    "version": 3
   },
   "file_extension": ".py",
   "mimetype": "text/x-python",
   "name": "python",
   "nbconvert_exporter": "python",
   "pygments_lexer": "ipython3",
   "version": "3.7.6"
  }
 },
 "nbformat": 4,
 "nbformat_minor": 2
}
