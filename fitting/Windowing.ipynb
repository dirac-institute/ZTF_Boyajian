{
 "cells": [
  {
   "cell_type": "code",
   "execution_count": 1,
   "metadata": {},
   "outputs": [],
   "source": [
    "from pyspark.sql.types import *\n",
    "\n",
    "def window(x, y, yerr, start, end) -> (\n",
    "    StructType(\n",
    "        [\n",
    "            StructField(\"x\", ArrayType(FloatType())),\n",
    "            StructField(\"y\", ArrayType(FloatType())),\n",
    "            StructField(\"yerr\", ArrayType(FloatType())),\n",
    "        ]\n",
    "    )\n",
    "):\n",
    "    import numpy as np\n",
    "    x = np.array(x)\n",
    "    y = np.array(y)\n",
    "    yerr = np.array(yerr)\n",
    "    \n",
    "    in_window = (x > start) & (x < end)\n",
    "    \n",
    "    return {\n",
    "        \"x\" : x[in_window].tolist(),\n",
    "        \"y\" : y[in_window].tolist(),\n",
    "        \"yerr\" : yerr[in_window].tolist(),\n",
    "    }\n",
    "\n",
    "def window_udf():\n",
    "    from fit_utils import make_udf_from_annotated_function\n",
    "    return make_udf_from_annotated_function(window)\n",
    "\n",
    "def around_window(x, y, yerr, start, end, wiggle=0.5) -> (\n",
    "    StructType(\n",
    "        [\n",
    "            StructField(\"x\", ArrayType(FloatType())),\n",
    "            StructField(\"y\", ArrayType(FloatType())),\n",
    "            StructField(\"yerr\", ArrayType(FloatType())),\n",
    "        ]\n",
    "    )\n",
    "):\n",
    "    import numpy as np\n",
    "\n",
    "    width = end - start\n",
    "    x = np.array(x)\n",
    "    y = np.array(y)\n",
    "    yerr = np.array(yerr)\n",
    "        \n",
    "    min_x = start - wiggle * width\n",
    "    max_x = end + wiggle * width\n",
    "    \n",
    "    in_window = (x > min_x) & (x < max_x)\n",
    "    \n",
    "    return {\n",
    "        \"x\" : x[in_window].tolist(),\n",
    "        \"y\" : y[in_window].tolist(),\n",
    "        \"yerr\" : yerr[in_window].tolist(),\n",
    "    }\n",
    "\n",
    "def around_window_udf(**kwargs):\n",
    "    from functools import partial\n",
    "    from fit_utils import make_udf_from_annotated_function\n",
    "\n",
    "    return make_udf_from_annotated_function(partial(around_window, **kwargs))"
   ]
  },
  {
   "cell_type": "code",
   "execution_count": null,
   "metadata": {},
   "outputs": [],
   "source": [
    "window_udf()([1, 2, 3], [4, 5, 6], [0.1, 2, 17], 1.5, 2.5)"
   ]
  },
  {
   "cell_type": "code",
   "execution_count": null,
   "metadata": {},
   "outputs": [],
   "source": []
  }
 ],
 "metadata": {
  "kernelspec": {
   "display_name": "Python 3-AXS Spark",
   "language": "python",
   "name": "spark-smj"
  },
  "language_info": {
   "codemirror_mode": {
    "name": "ipython",
    "version": 3
   },
   "file_extension": ".py",
   "mimetype": "text/x-python",
   "name": "python",
   "nbconvert_exporter": "python",
   "pygments_lexer": "ipython3",
   "version": "3.7.6"
  }
 },
 "nbformat": 4,
 "nbformat_minor": 2
}
