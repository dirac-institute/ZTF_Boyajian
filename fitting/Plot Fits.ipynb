{
 "cells": [
  {
   "cell_type": "code",
   "execution_count": 58,
   "metadata": {},
   "outputs": [],
   "source": [
    "import pandas as pd\n",
    "import numpy as np"
   ]
  },
  {
   "cell_type": "code",
   "execution_count": 4,
   "metadata": {},
   "outputs": [],
   "source": [
    "merged_df = pd.read_pickle('/data/epyc/users/kyboone/ztf_boyajian/merged_dippers.pkl')"
   ]
  },
  {
   "cell_type": "code",
   "execution_count": 10,
   "metadata": {},
   "outputs": [
    {
     "data": {
      "text/plain": [
       "['fit_r_skew_r',\n",
       " 'fit_r_tophat_r',\n",
       " 'fit_g_skew_g',\n",
       " 'fit_g_tophat_g',\n",
       " 'fit_i_skew_i',\n",
       " 'fit_i_tophat_i']"
      ]
     },
     "execution_count": 10,
     "metadata": {},
     "output_type": "execute_result"
    }
   ],
   "source": [
    "[c for c in list(merged_df.columns) if \"fit\" in c]"
   ]
  },
  {
   "cell_type": "code",
   "execution_count": 14,
   "metadata": {},
   "outputs": [
    {
     "data": {
      "text/plain": [
       "Row(info=Row(message='OK', good=True, runtime=0.272244930267334), popt=[-442.1985778808594, 58662.2890625, 3.654378652572632, 0.9783753156661987, 19.28917121887207], pcov=[[998514.75, -2.9003381729125977, -478.0765380859375, -63.89607238769531, -0.5255358815193176], [-2.9003381729125977, 0.00010413729614811018, 0.0031246375292539597, 0.0002805611293297261, -1.3099631360091735e-05], [-478.0765380859375, 0.0031246375292539597, 2.6604723930358887, 0.5075775980949402, -0.002825414529070258], [-63.89607238769531, 0.0002805611293297261, 0.5075775980949402, 0.13221988081932068, -0.0017485682619735599], [-0.5255358815193176, -1.3099631360091735e-05, -0.002825414529070258, -0.0017485682619735599, 0.00022233929485082626]], p0=[0.0, 58670.484375, 32.60546875, 5.416621685028076, 19.333049774169922])"
      ]
     },
     "execution_count": 14,
     "metadata": {},
     "output_type": "execute_result"
    }
   ],
   "source": [
    "fit_r = merged_df['fit_r_skew_r']\n",
    "fit = fit_r[1]\n"
   ]
  },
  {
   "cell_type": "code",
   "execution_count": 15,
   "metadata": {},
   "outputs": [],
   "source": [
    "import models\n",
    "import fit_utils"
   ]
  },
  {
   "cell_type": "code",
   "execution_count": 40,
   "metadata": {},
   "outputs": [
    {
     "data": {
      "text/plain": [
       "float"
      ]
     },
     "execution_count": 40,
     "metadata": {},
     "output_type": "execute_result"
    }
   ],
   "source": [
    "merged_df['fit_r_skew_r'][0]['pcov'][0][0]"
   ]
  },
  {
   "cell_type": "code",
   "execution_count": 48,
   "metadata": {},
   "outputs": [
    {
     "data": {
      "text/plain": [
       "True"
      ]
     },
     "execution_count": 48,
     "metadata": {},
     "output_type": "execute_result"
    }
   ],
   "source": [
    "import math\n",
    "any([math.inf in _row for _row in merged_df['fit_r_skew_r'][0]['pcov']])"
   ]
  },
  {
   "cell_type": "code",
   "execution_count": 76,
   "metadata": {},
   "outputs": [],
   "source": [
    "def make_mask(row):\n",
    "    import math\n",
    "    if type(row) is float:\n",
    "        return False\n",
    "    pcov = row['pcov']\n",
    "    return not any([math.inf in _row for _row in pcov])\n",
    "\n",
    "mask = merged_df['fit_r_skew_r'].apply(make_mask)"
   ]
  },
  {
   "cell_type": "code",
   "execution_count": 62,
   "metadata": {},
   "outputs": [
    {
     "data": {
      "text/plain": [
       "nan"
      ]
     },
     "execution_count": 62,
     "metadata": {},
     "output_type": "execute_result"
    }
   ],
   "source": [
    "math.nan"
   ]
  },
  {
   "cell_type": "code",
   "execution_count": 71,
   "metadata": {},
   "outputs": [
    {
     "data": {
      "text/plain": [
       "nan"
      ]
     },
     "execution_count": 71,
     "metadata": {},
     "output_type": "execute_result"
    }
   ],
   "source": [
    "merged_df['fit_r_skew_r'][merged_df['fit_r_skew_r'].apply(lambda row : type(row) == float)][16]"
   ]
  },
  {
   "cell_type": "code",
   "execution_count": 84,
   "metadata": {},
   "outputs": [
    {
     "data": {
      "text/plain": [
       "['window_r_skew_r',\n",
       " 'dip_window_r_skew_r',\n",
       " 'around_dip_window_r_skew_r',\n",
       " 'window_r_tophat_r',\n",
       " 'dip_window_r_tophat_r',\n",
       " 'around_dip_window_r_tophat_r',\n",
       " 'window_g_skew_g',\n",
       " 'dip_window_g_skew_g',\n",
       " 'around_dip_window_g_skew_g',\n",
       " 'window_g_tophat_g',\n",
       " 'dip_window_g_tophat_g',\n",
       " 'around_dip_window_g_tophat_g',\n",
       " 'window_i_skew_i',\n",
       " 'dip_window_i_skew_i',\n",
       " 'around_dip_window_i_skew_i',\n",
       " 'window_i_tophat_i',\n",
       " 'dip_window_i_tophat_i',\n",
       " 'around_dip_window_i_tophat_i']"
      ]
     },
     "execution_count": 84,
     "metadata": {},
     "output_type": "execute_result"
    }
   ],
   "source": [
    "[c for c in list(merged_df.columns) if \"window\" in c]"
   ]
  },
  {
   "cell_type": "code",
   "execution_count": 87,
   "metadata": {},
   "outputs": [
    {
     "data": {
      "image/png": "[encoded data removed]",
      "text/plain": [
       "<Figure size 432x288 with 1 Axes>"
      ]
     },
     "metadata": {
      "needs_background": "light"
     },
     "output_type": "display_data"
    }
   ],
   "source": [
    "i = 8\n",
    "band = 'r'\n",
    "X = merged_df[f'mjd_{band}_skew_{band}'][mask]\n",
    "Y = merged_df[f'mag_{band}_skew_{band}'][mask]\n",
    "Yerr = merged_df[f'magerr_{band}_skew_{band}'][mask]\n",
    "fit = merged_df[f'fit_{band}_skew_{band}'][mask]\n",
    "\n",
    "fit_utils.plot_fit_result(\n",
    "    X.iloc[i], Y.iloc[i], Yerr.iloc[i], fit.iloc[i], \n",
    "    models.skew_normal, with_p0=True\n",
    ")"
   ]
  },
  {
   "cell_type": "code",
   "execution_count": 17,
   "metadata": {},
   "outputs": [
    {
     "data": {
      "text/plain": [
       "0        [58289.296701411105, 58505.56163191111, 58289....\n",
       "1        [58694.26563661111, 58694.266076411106, 58694....\n",
       "2        [58668.269270811106, 58668.26972221111, 58217....\n",
       "3        [58640.27548611111, 58338.19006941111, 58643.2...\n",
       "4        [58665.30383101111, 58691.25481481111, 58665.3...\n",
       "                               ...                        \n",
       "63244    [58369.42821761111, 58776.43243051111, 58776.4...\n",
       "63245    [58323.490983811105, 58369.42771991111, 58329....\n",
       "63246    [58806.553796311106, 58199.25431711111, 58199....\n",
       "63247    [58776.229583311106, 58319.45636571111, 58776....\n",
       "63248    [58276.48097221111, 58441.29837961111, 58441.3...\n",
       "Name: mjd_r_skew_r, Length: 63249, dtype: object"
      ]
     },
     "execution_count": 17,
     "metadata": {},
     "output_type": "execute_result"
    }
   ],
   "source": []
  },
  {
   "cell_type": "code",
   "execution_count": null,
   "metadata": {},
   "outputs": [],
   "source": []
  }
 ],
 "metadata": {
  "kernelspec": {
   "display_name": "Python 3-AXS Spark",
   "language": "python",
   "name": "spark-smj"
  },
  "language_info": {
   "codemirror_mode": {
    "name": "ipython",
    "version": 3
   },
   "file_extension": ".py",
   "mimetype": "text/x-python",
   "name": "python",
   "nbconvert_exporter": "python",
   "pygments_lexer": "ipython3",
   "version": "3.7.6"
  }
 },
 "nbformat": 4,
 "nbformat_minor": 2
}
