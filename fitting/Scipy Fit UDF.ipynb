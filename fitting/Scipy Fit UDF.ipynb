{
 "cells": [
  {
   "cell_type": "code",
   "execution_count": 1,
   "metadata": {},
   "outputs": [],
   "source": [
    "from pyspark.sql.types import *\n",
    "import numpy as np\n",
    "\n",
    "def spark_curve_fit(\n",
    "    f, xdata, ydata, p0=None, sigma=None, absolute_sigma=False, check_finite=True, \n",
    "    bounds=(-np.inf, np.inf), method=None, jac=None, **kwargs\n",
    ") -> StructType(\n",
    "       [\n",
    "           StructField(\n",
    "               \"info\", \n",
    "               StructType(\n",
    "                   [\n",
    "                       StructField(\"message\", StringType()),\n",
    "                       StructField(\"good\", BooleanType()),\n",
    "                       StructField(\"runtime\", FloatType()),\n",
    "                   ]\n",
    "               )\n",
    "           ),\n",
    "           StructField(\n",
    "               \"popt\", \n",
    "               ArrayType(FloatType())\n",
    "           ),\n",
    "           StructField(\n",
    "               \"pcov\", \n",
    "               ArrayType(ArrayType(FloatType()))\n",
    "           )\n",
    "       ]\n",
    "       \n",
    "):\n",
    "    from scipy.optimize import curve_fit, OptimizeWarning\n",
    "    from time import time\n",
    "\n",
    "    t1 = time()\n",
    "    \n",
    "    ret = {\n",
    "        \"info\" : {\n",
    "            \"message\" : None,\n",
    "            \"runtime\" : None,\n",
    "            \"good\" : None,\n",
    "        },\n",
    "        \"popt\" : None,\n",
    "        \"pcov\" : None,\n",
    "    }\n",
    "    \n",
    "    try:\n",
    "        popt, pcov = curve_fit(\n",
    "            f, xdata, ydata, p0=p0, sigma=sigma, absolute_sigma=absolute_sigma, \n",
    "            check_finite=check_finite, bounds=bounds, method=method, jac=jac, **kwargs\n",
    "        )\n",
    "        popt = popt.astype(np.float64).tolist()\n",
    "        pcov = pcov.astype(np.float64).tolist()\n",
    "        \n",
    "        ret[\"popt\"] = popt\n",
    "        ret[\"pcov\"] = pcov\n",
    "        \n",
    "        ret['info']['message'] = \"OK\"\n",
    "        ret['info']['good'] = True\n",
    "    except (ValueError, RuntimeError, OptimizeWarning, TypeError) as e:\n",
    "        ret['info']['message'] = str(e)\n",
    "        ret['info']['good'] = False\n",
    "        \n",
    "    t2 = time()\n",
    "    ret['info']['runtime'] = t2 - t1\n",
    "    \n",
    "    return ret\n",
    "\n",
    "def spark_curve_fit_udf(f, kwargs_from_df=[], **udf_kwargs):\n",
    "    import inspect\n",
    "    from pyspark.sql.functions import udf\n",
    "\n",
    "    sig = inspect.signature(spark_curve_fit)\n",
    "    schema = sig.return_annotation\n",
    "    \n",
    "    if len(kwargs_from_df) == 0:\n",
    "        _func = lambda *columns : spark_curve_fit(f, columns[0], columns[1], **udf_kwargs)\n",
    "    else:\n",
    "        def _with_kwargs(*columns):\n",
    "            kwargs = { arg_name : col for arg_name, col in zip(kwargs_from_df, columns[2:]) }\n",
    "            kwargs.update(udf_kwargs)\n",
    "            return spark_curve_fit(f, columns[0], columns[1], **kwargs)\n",
    "        _func = _with_kwargs\n",
    "        \n",
    "    return udf(\n",
    "        _func, \n",
    "        schema\n",
    "    )"
   ]
  },
  {
   "cell_type": "code",
   "execution_count": 2,
   "metadata": {},
   "outputs": [],
   "source": [
    "from pyspark.sql import SparkSession\n",
    "spark = ( \n",
    "    SparkSession\n",
    "    .builder\n",
    "    .config(\"spark.master\", \"local[*]\")\n",
    "    .config(\"spark.driver.memory\", \"120g\")\n",
    "    .config(\"spark.driver.maxResultSize\", \"0\")\n",
    "    .enableHiveSupport()\n",
    "    .getOrCreate()\n",
    ")"
   ]
  },
  {
   "cell_type": "code",
   "execution_count": 3,
   "metadata": {},
   "outputs": [
    {
     "name": "stdout",
     "output_type": "stream",
     "text": [
      "https://epyc.astro.washington.edu/jupyter/user/stevengs/proxy/4047/jobs/\n"
     ]
    }
   ],
   "source": [
    "import socket\n",
    "port = spark.sparkContext.uiWebUrl.split(\":\")[-1]\n",
    "hostname = socket.gethostname()\n",
    "print(f\"https://{hostname}/jupyter/user/stevengs/proxy/{port}/jobs/\")"
   ]
  },
  {
   "cell_type": "markdown",
   "metadata": {},
   "source": [
    "Define a model. A model is a function whose first argument is the independent variable (`x`) and whose following arguments are the parameters of the model. Keyword arguments are not supported right now."
   ]
  },
  {
   "cell_type": "code",
   "execution_count": 4,
   "metadata": {},
   "outputs": [],
   "source": [
    "def line(x, slope, intercept):\n",
    "    return slope * x + intercept\n",
    "\n",
    "def quadratic(x, a, b, c):\n",
    "    return a * x**2 + b * x + c"
   ]
  },
  {
   "cell_type": "markdown",
   "metadata": {},
   "source": [
    "Test on small data"
   ]
  },
  {
   "cell_type": "code",
   "execution_count": 27,
   "metadata": {},
   "outputs": [
    {
     "data": {
      "text/plain": [
       "[Row(x=[1, 2, 3, 10], y=[-1, 5, 6, 7], yerr=[0.1, 0.2, 0.05, 0.3], fit=Row(info=Row(message='OK', good=True, runtime=0.17469501495361328), popt=[-0.36694520711898804, 4.892867565155029, -5.305125713348389], pcov=[[0.006968347355723381, -0.06620512902736664, 0.11660031229257584], [-0.06620512902736664, 0.7427449822425842, -1.4177886247634888], [0.11660031229257584, -1.4177886247634888, 2.992992639541626]]))]"
      ]
     },
     "execution_count": 27,
     "metadata": {},
     "output_type": "execute_result"
    }
   ],
   "source": [
    "from pyspark.sql import Row\n",
    "df = spark.createDataFrame(\n",
    "    [\n",
    "        Row(x=_x, y=_y, yerr=_yerr) \n",
    "        for _x, _y, _yerr in zip([[1, 2, 3, 10]], [[-1, 5, 6, 7]], [[0.1, 0.2, 0.05, 0.3]])\n",
    "    ]\n",
    ")\n",
    "\n",
    "df.withColumn(\n",
    "    \"fit\",\n",
    "    spark_curve_fit_udf(\n",
    "        # pass the model to be evaluated here\n",
    "        quadratic,\n",
    "        # pass the names of kwargs that are defined as rows of the dataframe\n",
    "        # must be in the order of the columns passed to the UDF\n",
    "        kwargs_from_df=[\"sigma\"],\n",
    "        # kwargs that are static for each row can be passed as normal\n",
    "        maxfev=2000\n",
    "    )(\n",
    "        # pass the columns of the dataframe that act as the x and y variable\n",
    "        df['x'], df['y'], \n",
    "        # pass columns that represent kwargs in the order of kwargs_from_df\n",
    "        df['yerr']\n",
    "    )\n",
    ").collect()"
   ]
  },
  {
   "cell_type": "code",
   "execution_count": 8,
   "metadata": {},
   "outputs": [],
   "source": [
    "import axs\n",
    "catalog = axs.AxsCatalog(spark)\n",
    "wtf = catalog.load(\"stevengs_cut_wtf\")"
   ]
  },
  {
   "cell_type": "code",
   "execution_count": 14,
   "metadata": {},
   "outputs": [],
   "source": [
    "fit_df = wtf.withColumn(\n",
    "    \"fit\",\n",
    "    spark_curve_fit_udf(\n",
    "        quadratic,\n",
    "        kwargs_from_df=[\"sigma\"],\n",
    "        maxfev=2000\n",
    "    )(\n",
    "        wtf['mjd_r'], wtf['mag_r'], \n",
    "        wtf['magerr_r']\n",
    "    )\n",
    ").select(\n",
    "    \"ra\",\n",
    "    \"dec\",\n",
    "    \"zone\",\n",
    "    \"mjd_r\",\n",
    "    \"mag_r\",\n",
    "    \"magerr_r\",\n",
    "    \"fit\"\n",
    ").collect()"
   ]
  },
  {
   "cell_type": "code",
   "execution_count": 15,
   "metadata": {},
   "outputs": [
    {
     "data": {
      "text/plain": [
       "Row(info=Row(message='OK', good=True, runtime=0.30997252464294434), popt=[9.207771967112421e-08, -0.010790426284074783, 330.30084228515625], pcov=[[2.194744316773539e-15, -2.5672719505820396e-10, 7.507497230108129e-06], [-2.5672719505820396e-10, 3.003032543347217e-05, -0.8781800866127014], [7.507497230108129e-06, -0.8781800866127014, 25680.7265625]])"
      ]
     },
     "execution_count": 15,
     "metadata": {},
     "output_type": "execute_result"
    }
   ],
   "source": [
    "fit_df[0]['fit']"
   ]
  },
  {
   "cell_type": "code",
   "execution_count": 23,
   "metadata": {},
   "outputs": [],
   "source": [
    "def plot_model(x, y, yerr, model, params):\n",
    "    import numpy as np\n",
    "    import matplotlib.pyplot as plt\n",
    "    \n",
    "    # plot data\n",
    "    plt.errorbar(x, y, yerr=yerr, fmt=\"o\", label=\"data\")\n",
    "    \n",
    "    # plot model\n",
    "    min_x = np.min(x)\n",
    "    max_x = np.max(x)\n",
    "    _x = np.linspace(min_x, max_x, 10000)\n",
    "    _y = model(_x, *params)    \n",
    "    plt.plot(_x, _y, label=\"model\")\n",
    "\n",
    "    plt.legend()"
   ]
  },
  {
   "cell_type": "code",
   "execution_count": 26,
   "metadata": {},
   "outputs": [
    {
     "data": {
      "image/png": "[encoded data removed]",
      "text/plain": [
       "<Figure size 432x288 with 1 Axes>"
      ]
     },
     "metadata": {
      "needs_background": "light"
     },
     "output_type": "display_data"
    }
   ],
   "source": [
    "plot_model(\n",
    "    fit_df[0]['mjd_r'], fit_df[0]['mag_r'], fit_df[0]['magerr_r'],\n",
    "    quadratic, fit_df[0]['fit']['popt']\n",
    ")"
   ]
  },
  {
   "cell_type": "code",
   "execution_count": 53,
   "metadata": {},
   "outputs": [],
   "source": [
    "def my_model(\n",
    "    x,\n",
    "    # parameters\n",
    "    a : FloatType(),\n",
    "    b : FloatType(),\n",
    "):\n",
    "    return a * x + b"
   ]
  },
  {
   "cell_type": "code",
   "execution_count": 56,
   "metadata": {},
   "outputs": [
    {
     "ename": "IndentationError",
     "evalue": "expected an indented block (<ipython-input-56-5efeef51005c>, line 50)",
     "output_type": "error",
     "traceback": [
      "\u001b[0;36m  File \u001b[0;32m\"<ipython-input-56-5efeef51005c>\"\u001b[0;36m, line \u001b[0;32m50\u001b[0m\n\u001b[0;31m    columns_to_use = sum([[x_column], initial_parameters_columns], [])\u001b[0m\n\u001b[0m                 ^\u001b[0m\n\u001b[0;31mIndentationError\u001b[0m\u001b[0;31m:\u001b[0m expected an indented block\n"
     ]
    }
   ],
   "source": [
    "def _fit()\n",
    "\n",
    "def make_fit_udf(model, model_schema=None):\n",
    "    def _infer_schema(model):\n",
    "        sig = inspect.signature(model)\n",
    "        params = sig.parameters\n",
    "        param_names = list(params.keys())\n",
    "        if len(param_names) > 1:\n",
    "            param_names = param_names[1:]\n",
    "        else:\n",
    "            raise RuntimeError(\"model passed to fit_udf must have at least one fit parameter\")\n",
    "\n",
    "        schema = []\n",
    "        \n",
    "        param_schema = []\n",
    "        for p in param_names:\n",
    "            if params[p].annotation == inspect._empty:\n",
    "                raise RuntimeError(f\"Parameter {p} in {model} has an empty annotation; cannot infer schema automatically\")\n",
    "            param_schema.append(StructField(p, params[p].annotation))\n",
    "        schema.append(StructField(\"parameters\", StructType(param_schema)))\n",
    "        \n",
    "        param_init_schema = []\n",
    "        for p in param_names:\n",
    "            param_init_schema.append(StructField(f\"{p}_init\", params[p].annotation))\n",
    "        schema.append(StructField(\"initial_parameters\", StructType(param_init_schema)))\n",
    "        \n",
    "        return schema\n",
    "    \n",
    "    _fit_schema_defaults = [\n",
    "        StructField(\"good_fit\", BooleanType(), False),\n",
    "        StructField(\"message\", StringType(), False),\n",
    "        StructField(\"chi_square\", FloatType(), False),\n",
    "        StructField(\"chi_square_reduced\", FloatType(), False),\n",
    "        StructField(\"runtime\", FloatType(), False),\n",
    "    ]\n",
    "    \n",
    "    if model_schema is None:\n",
    "        # infer schema automatically\n",
    "        model_schema = _infer_schema(model)\n",
    "    \n",
    "    print(\"inferred schema for model:\", model_schema)\n",
    "    \n",
    "    schema = StructType(\n",
    "        sum([_fit_schema_defaults, model_schema], [])\n",
    "    )\n",
    "\n",
    "    return udf(model, schema)\n",
    "\n",
    "def fit_rows(df, model, initial_parameters, x_column, initial_parameters_columns=[], model_schema=None):\n",
    "    if len(initial_parameters_columns > 0):\n",
    "        \n",
    "    columns_to_use = sum([[x_column], initial_parameters_columns], [])\n",
    "    \n",
    "    _udf = fit_udf(model, model_schema=model_schema)\n",
    "    fit_df = df.select(\n",
    "        *columns_to_use,\n",
    "        _udf(x_column).alias(\n",
    "            \"fit\"\n",
    "        )\n",
    "    )\n",
    "    \n",
    "    return fit_df"
   ]
  },
  {
   "cell_type": "code",
   "execution_count": 55,
   "metadata": {},
   "outputs": [
    {
     "name": "stdout",
     "output_type": "stream",
     "text": [
      "inferred schema for model: [StructField(parameters,StructType(List(StructField(a,FloatType,true),StructField(b,FloatType,true))),true), StructField(initial_parameters,StructType(List(StructField(a_init,FloatType,true),StructField(b_init,FloatType,true))),true)]\n"
     ]
    },
    {
     "data": {
      "text/plain": [
       "<function __main__.my_model(x, a: FloatType, b: FloatType)>"
      ]
     },
     "execution_count": 55,
     "metadata": {},
     "output_type": "execute_result"
    }
   ],
   "source": [
    "fit_udf(my_model)"
   ]
  },
  {
   "cell_type": "code",
   "execution_count": 52,
   "metadata": {},
   "outputs": [
    {
     "data": {
      "text/plain": [
       "mappingproxy({'x': <Parameter \"x\">,\n",
       "              'a': <Parameter \"a: FloatType\">,\n",
       "              'b': <Parameter \"b: FloatType\">})"
      ]
     },
     "execution_count": 52,
     "metadata": {},
     "output_type": "execute_result"
    }
   ],
   "source": [
    "import inspect\n",
    "inspect.signature(my_model).parameters"
   ]
  },
  {
   "cell_type": "code",
   "execution_count": null,
   "metadata": {},
   "outputs": [],
   "source": [
    "def _fit_udf_init_callable(model, init, model_schema=None, init_schema=None):\n",
    "    "
   ]
  },
  {
   "cell_type": "code",
   "execution_count": 20,
   "metadata": {},
   "outputs": [],
   "source": [
    "def fit_udf(model, initial_parameters, with_errors=True, schema_fields=None, infer=True):\n",
    "    from pyspark.sql.functions import udf\n",
    "    from pyspark.sql.types import FloatType, StringType, BooleanType\n",
    "    from functools import partial\n",
    "    import inspect\n",
    "    \n",
    "    _fit_schema_defaults = [\n",
    "        StructField(\"good_fit\", BooleanType(), False),\n",
    "        StructField(\"message\", StringType(), False),\n",
    "        StructField(\"chi_square\", FloatType(), False),\n",
    "        StructField(\"chi_square_reduced\", FloatType(), False),\n",
    "        StructField(\"runtime\", FloatType(), False),\n",
    "    ]\n",
    "    \n",
    "    def infer_schema(model):\n",
    "        sig = inspect.signature(model)\n",
    "        params = sig.parameters\n",
    "        param_names = list(params.keys())\n",
    "        if len(param_names) > 1:\n",
    "            param_names = param_names[1:]\n",
    "        else:\n",
    "            raise RuntimeError(\"model passed to fit_udf must have at least one parameter\")\n",
    "\n",
    "        schema = []\n",
    "        \n",
    "        param_schema = []\n",
    "        for p in param_names:\n",
    "            if params[p].annotation == inspect._empty:\n",
    "                raise RuntimeError(f\"Parameter {p} in {model} has an empty annotation; cannot infer schema automatically\")\n",
    "            param_schema.append(StructField(p, params[p].annotation))\n",
    "        schema.append(StructField(\"params\", StructType(param_schema)))\n",
    "        \n",
    "        param_init_schema = []\n",
    "        for p in param_names:\n",
    "            param_init_schema.append(StructField(f\"{p}_init\", params[p].annotation))\n",
    "        schema.append(StructField(\"params_init\", StructType(param_init_schema)))\n",
    "        \n",
    "        return schema\n",
    "    \n",
    "    if infer:\n",
    "        if schema_fields is None:\n",
    "            if model is None:\n",
    "                raise RuntimeError(\"must pass model to fit_udf to infer schema\")\n",
    "            else:\n",
    "                schema_fields = infer_schema(model)\n",
    "    else:\n",
    "        if schema_fields is None:\n",
    "            raise RuntimeError(\"must pass schema_fields to fit_udf if not inferring schema from model\")\n",
    "    \n",
    "    schema = StructType(\n",
    "        sum([_fit_schema_defaults, schema_fields], [])\n",
    "    )\n",
    "    \n",
    "    print(schema)\n",
    "    if with_errors:\n",
    "        return udf(lambda x, y, yerr, *extra_cols: fit(x, y, yerr, model, initial_parameters, *extra_cols, max_iter=2000), schema)\n",
    "    else:\n",
    "        return udf(lambda x, y, *extra_cols : fit(x, y, None, model, initial_parameters, *extra_cols, max_iter=2000), schema)\n"
   ]
  },
  {
   "cell_type": "code",
   "execution_count": 21,
   "metadata": {},
   "outputs": [
    {
     "name": "stdout",
     "output_type": "stream",
     "text": [
      "StructType(List(StructField(good_fit,BooleanType,false),StructField(message,StringType,false),StructField(chi_square,FloatType,false),StructField(chi_square_reduced,FloatType,false),StructField(runtime,FloatType,false),StructField(params,StructType(List(StructField(y,ArrayType(FloatType,true),true),StructField(yerr,ArrayType(FloatType,true),true),StructField(params,ArrayType(FloatType,true),true))),true),StructField(params_init,StructType(List(StructField(y_init,ArrayType(FloatType,true),true),StructField(yerr_init,ArrayType(FloatType,true),true),StructField(params_init,ArrayType(FloatType,true),true))),true)))\n"
     ]
    },
    {
     "data": {
      "text/plain": [
       "<function __main__.fit_udf.<locals>.<lambda>(x, y, yerr, *extra_cols)>"
      ]
     },
     "execution_count": 21,
     "metadata": {},
     "output_type": "execute_result"
    }
   ],
   "source": [
    "fit_udf(my_model, [1, 2, 3])"
   ]
  },
  {
   "cell_type": "code",
   "execution_count": 18,
   "metadata": {},
   "outputs": [
    {
     "data": {
      "text/plain": [
       "IntegerType"
      ]
     },
     "execution_count": 18,
     "metadata": {},
     "output_type": "execute_result"
    }
   ],
   "source": [
    "IntegerType()"
   ]
  },
  {
   "cell_type": "code",
   "execution_count": 8,
   "metadata": {},
   "outputs": [],
   "source": [
    "sig = inspect.signature(my_model)\n",
    "params = sig.parameters"
   ]
  },
  {
   "cell_type": "code",
   "execution_count": 12,
   "metadata": {},
   "outputs": [
    {
     "data": {
      "text/plain": [
       "True"
      ]
     },
     "execution_count": 12,
     "metadata": {},
     "output_type": "execute_result"
    }
   ],
   "source": [
    "params['t'].annotation == inspect._empty"
   ]
  },
  {
   "cell_type": "code",
   "execution_count": null,
   "metadata": {},
   "outputs": [],
   "source": []
  }
 ],
 "metadata": {
  "kernelspec": {
   "display_name": "Python 3-AXS Spark",
   "language": "python",
   "name": "spark-smj"
  },
  "language_info": {
   "codemirror_mode": {
    "name": "ipython",
    "version": 3
   },
   "file_extension": ".py",
   "mimetype": "text/x-python",
   "name": "python",
   "nbconvert_exporter": "python",
   "pygments_lexer": "ipython3",
   "version": "3.7.6"
  }
 },
 "nbformat": 4,
 "nbformat_minor": 2
}
