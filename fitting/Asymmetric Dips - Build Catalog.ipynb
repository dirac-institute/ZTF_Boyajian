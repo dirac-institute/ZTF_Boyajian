{
 "cells": [
  {
   "cell_type": "code",
   "execution_count": 12,
   "metadata": {},
   "outputs": [],
   "source": [
    "import matplotlib.pyplot as plt\n",
    "import numpy as np\n",
    "from scipy.optimize import curve_fit\n",
    "\n",
    "from pyspark.sql import SparkSession\n",
    "import axs\n",
    "\n",
    "import pyspark.sql.functions as sparkfunc\n",
    "from functools import partial\n",
    "from pyspark.sql.functions import udf\n",
    "from pyspark.sql.types import *\n",
    "from pyspark.sql.functions import mean as _mean, stddev as _stddev, col\n",
    "from pyspark.sql.functions import size\n",
    "\n",
    "from fit import preprocess, fit_band, plot_model"
   ]
  },
  {
   "cell_type": "code",
   "execution_count": 3,
   "metadata": {},
   "outputs": [],
   "source": [
    "spark = ( \n",
    "    SparkSession\n",
    "    .builder\n",
    "    .config(\"spark.master\", \"local[*]\")\n",
    "    .config(\"spark.driver.memory\", \"120g\")\n",
    "    .config(\"spark.driver.maxResultSize\", \"0\")\n",
    "    .enableHiveSupport()\n",
    "    .getOrCreate()\n",
    ")"
   ]
  },
  {
   "cell_type": "code",
   "execution_count": 4,
   "metadata": {},
   "outputs": [
    {
     "name": "stdout",
     "output_type": "stream",
     "text": [
      "https://epyc.astro.washington.edu/jupyter/user/stevengs/proxy/4043/jobs/\n"
     ]
    }
   ],
   "source": [
    "import socket\n",
    "port = spark.sparkContext.uiWebUrl.split(\":\")[-1]\n",
    "hostname = socket.gethostname()\n",
    "print(f\"https://{hostname}/jupyter/user/stevengs/proxy/{port}/jobs/\")"
   ]
  },
  {
   "cell_type": "code",
   "execution_count": 5,
   "metadata": {},
   "outputs": [],
   "source": [
    "catalog = axs.AxsCatalog(spark)"
   ]
  },
  {
   "cell_type": "markdown",
   "metadata": {},
   "source": [
    "Full dip catalog from ZTF dataset"
   ]
  },
  {
   "cell_type": "code",
   "execution_count": 6,
   "metadata": {},
   "outputs": [],
   "source": [
    "wtf = catalog.load('wtf_march2020_full_3')"
   ]
  },
  {
   "cell_type": "markdown",
   "metadata": {},
   "source": [
    "Kyle's cuts for dips we're interested in"
   ]
  },
  {
   "cell_type": "code",
   "execution_count": 7,
   "metadata": {},
   "outputs": [],
   "source": [
    "# Select the good dippers with a set of cuts tuned to\n",
    "# pull out what we are looking for.\n",
    "cut_catalog_name = \"stevengs_cut_wtf\"\n",
    "if cut_catalog_name not in catalog.list_table_names():\n",
    "    cut_wtf = (\n",
    "        wtf\n",
    "        .where(\n",
    "            (sparkfunc.col(\"dip.significance\") >= 5)\n",
    "            & (sparkfunc.col(\"dip.significant_observation_count\") >= 3)\n",
    "\n",
    "            & (sparkfunc.col(\"dip.max_gap_fraction\") < 0.8)\n",
    "\n",
    "            & (sparkfunc.col(\"dip.core_length\") >= 0.5)\n",
    "            & (sparkfunc.col(\"dip.core_not_significant_fraction\") < 0.2)\n",
    "            & (sparkfunc.col(\"dip.core_significant_count\") > 3.)\n",
    "\n",
    "            & (sparkfunc.col(\"dip.ref_pull_std\") < 2.)\n",
    "            & (sparkfunc.col(\"dip.ref_length_fraction_before\") > 0.5)\n",
    "            & (sparkfunc.col(\"dip.ref_length_fraction_after\") > 0.5)\n",
    "        )\n",
    "    )\n",
    "    catalog.save_axs_table(cut_wtf, cut_catalog_name)\n",
    "else:\n",
    "    cut_wtf = catalog.load(cut_catalog_name)"
   ]
  },
  {
   "cell_type": "markdown",
   "metadata": {},
   "source": [
    "Fit r-band light curve in a window around the dip. The window is extended by 4x the dip width on either side of the dip."
   ]
  },
  {
   "cell_type": "code",
   "execution_count": 13,
   "metadata": {},
   "outputs": [
    {
     "name": "stdout",
     "output_type": "stream",
     "text": [
      "StructType(List(StructField(good_fit,BooleanType,false),StructField(message,StringType,false),StructField(chi_square,FloatType,false),StructField(chi_square_reduced,FloatType,false),StructField(runtime,FloatType,false),StructField(params,StructType(List(StructField(skew,FloatType,true),StructField(loc,FloatType,true),StructField(xscale,FloatType,true),StructField(yscale,FloatType,true),StructField(offset,FloatType,true))),true),StructField(params_init,StructType(List(StructField(skew_init,FloatType,true),StructField(loc_init,FloatType,true),StructField(xscale_init,FloatType,true),StructField(yscale_init,FloatType,true),StructField(offset_init,FloatType,true))),true)))\n"
     ]
    }
   ],
   "source": [
    "band = \"r\"\n",
    "fit_catalog_name = f\"stevengs_cut_wtf_fits_{band}_band\"\n",
    "if fit_catalog_name not in catalog.list_table_names():\n",
    "    wiggle = 4.0\n",
    "    df_fit = preprocess(cut_wtf, [band])\n",
    "    df_fit = fit_band(df_fit, band, wiggle)\n",
    "    catalog.save_axs_table(df_fit,  fit_catalog_name)\n",
    "else:\n",
    "    df_fit = catalog.load(fit_catalog_name)"
   ]
  },
  {
   "cell_type": "code",
   "execution_count": 14,
   "metadata": {},
   "outputs": [],
   "source": [
    "chi_sq = df_fit.select(df_fit['fit_r']['chi_square_reduced']).collect()"
   ]
  },
  {
   "cell_type": "code",
   "execution_count": 16,
   "metadata": {},
   "outputs": [
    {
     "data": {
      "image/png": "[encoded data removed]",
      "text/plain": [
       "<Figure size 720x576 with 1 Axes>"
      ]
     },
     "metadata": {
      "needs_background": "light"
     },
     "output_type": "display_data"
    }
   ],
   "source": [
    "plt.rc(\"figure\", figsize=[10, 8])\n",
    "plt.rc(\"font\", size=22)\n",
    "plt.hist([_['fit_r.chi_square_reduced'] for _ in chi_sq], bins=100, range=(1, 20))\n",
    "plt.title(\"Reduced $\\chi^2$ Distribution\")\n",
    "plt.xlabel(\"Reduced $\\chi^2$\")\n",
    "plt.show()"
   ]
  }
 ],
 "metadata": {
  "kernelspec": {
   "display_name": "Python 3-AXS Spark",
   "language": "python",
   "name": "spark-smj"
  },
  "language_info": {
   "codemirror_mode": {
    "name": "ipython",
    "version": 3
   },
   "file_extension": ".py",
   "mimetype": "text/x-python",
   "name": "python",
   "nbconvert_exporter": "python",
   "pygments_lexer": "ipython3",
   "version": "3.7.6"
  }
 },
 "nbformat": 4,
 "nbformat_minor": 2
}
