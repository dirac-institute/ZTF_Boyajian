{
 "cells": [
  {
   "cell_type": "code",
   "execution_count": 1,
   "id": "585077ee",
   "metadata": {},
   "outputs": [],
   "source": [
    "import pickle as pkl\n",
    "import pandas as pd\n",
    "import numpy as np\n",
    "from matplotlib import pyplot as plt"
   ]
  },
  {
   "cell_type": "markdown",
   "id": "2c521bec",
   "metadata": {},
   "source": [
    "# Get random sample of Gaia data for CMD from AXS"
   ]
  },
  {
   "cell_type": "markdown",
   "id": "eb7cd023",
   "metadata": {},
   "source": [
    "To do this\n",
    "https://github.com/dirac-institute/ZTF_Boyajian/blob/master/dipper_detection_new.ipynb"
   ]
  },
  {
   "cell_type": "code",
   "execution_count": 6,
   "id": "447626a1",
   "metadata": {},
   "outputs": [
    {
     "ename": "ModuleNotFoundError",
     "evalue": "No module named 'axs'",
     "output_type": "error",
     "traceback": [
      "\u001b[0;31m---------------------------------------------------------------------------\u001b[0m",
      "\u001b[0;31mModuleNotFoundError\u001b[0m                       Traceback (most recent call last)",
      "\u001b[0;32m<ipython-input-6-18b35bbaae00>\u001b[0m in \u001b[0;36m<module>\u001b[0;34m\u001b[0m\n\u001b[1;32m      4\u001b[0m \u001b[0;32mimport\u001b[0m \u001b[0mpandas\u001b[0m \u001b[0;32mas\u001b[0m \u001b[0mpd\u001b[0m\u001b[0;34m\u001b[0m\u001b[0;34m\u001b[0m\u001b[0m\n\u001b[1;32m      5\u001b[0m \u001b[0;34m\u001b[0m\u001b[0m\n\u001b[0;32m----> 6\u001b[0;31m \u001b[0;32mimport\u001b[0m \u001b[0maxs\u001b[0m\u001b[0;34m\u001b[0m\u001b[0;34m\u001b[0m\u001b[0m\n\u001b[0m\u001b[1;32m      7\u001b[0m \u001b[0;32mimport\u001b[0m \u001b[0mpyspark\u001b[0m\u001b[0;34m.\u001b[0m\u001b[0msql\u001b[0m\u001b[0;34m.\u001b[0m\u001b[0mfunctions\u001b[0m \u001b[0;32mas\u001b[0m \u001b[0msparkfunc\u001b[0m\u001b[0;34m\u001b[0m\u001b[0;34m\u001b[0m\u001b[0m\n",
      "\u001b[0;31mModuleNotFoundError\u001b[0m: No module named 'axs'"
     ]
    }
   ],
   "source": [
    "import getpass\n",
    "import numpy as np\n",
    "import matplotlib.pyplot as plt\n",
    "import pandas as pd\n",
    "\n",
    "import axs\n",
    "import pyspark.sql.functions as sparkfunc"
   ]
  },
  {
   "cell_type": "code",
   "execution_count": null,
   "id": "dbb79aff",
   "metadata": {
    "scrolled": true
   },
   "outputs": [
    {
     "name": "stderr",
     "output_type": "stream",
     "text": [
      "ERROR:py4j.java_gateway:An error occurred while trying to connect to the Java server (127.0.0.1:34065)\n",
      "Traceback (most recent call last):\n",
      "  File \"/epyc/opt/spark-axs/python/py4j/java_gateway.py\", line 929, in _get_connection\n",
      "    connection = self.deque.pop()\n",
      "IndexError: pop from an empty deque\n",
      "\n",
      "During handling of the above exception, another exception occurred:\n",
      "\n",
      "Traceback (most recent call last):\n",
      "  File \"/epyc/opt/spark-axs/python/py4j/java_gateway.py\", line 1067, in start\n",
      "    self.socket.connect((self.address, self.port))\n",
      "ConnectionRefusedError: [Errno 111] Connection refused\n",
      "ERROR:py4j.java_gateway:An error occurred while trying to connect to the Java server (127.0.0.1:34065)\n",
      "Traceback (most recent call last):\n",
      "  File \"/epyc/opt/spark-axs/python/py4j/java_gateway.py\", line 929, in _get_connection\n",
      "    connection = self.deque.pop()\n",
      "IndexError: pop from an empty deque\n",
      "\n",
      "During handling of the above exception, another exception occurred:\n",
      "\n",
      "Traceback (most recent call last):\n",
      "  File \"/epyc/opt/spark-axs/python/py4j/java_gateway.py\", line 1067, in start\n",
      "    self.socket.connect((self.address, self.port))\n",
      "ConnectionRefusedError: [Errno 111] Connection refused\n",
      "ERROR:py4j.java_gateway:An error occurred while trying to connect to the Java server (127.0.0.1:34065)\n",
      "Traceback (most recent call last):\n",
      "  File \"/epyc/opt/spark-axs/python/py4j/java_gateway.py\", line 929, in _get_connection\n",
      "    connection = self.deque.pop()\n",
      "IndexError: pop from an empty deque\n",
      "\n",
      "During handling of the above exception, another exception occurred:\n",
      "\n",
      "Traceback (most recent call last):\n",
      "  File \"/epyc/opt/spark-axs/python/py4j/java_gateway.py\", line 1067, in start\n",
      "    self.socket.connect((self.address, self.port))\n",
      "ConnectionRefusedError: [Errno 111] Connection refused\n",
      "ERROR:py4j.java_gateway:An error occurred while trying to connect to the Java server (127.0.0.1:34065)\n",
      "Traceback (most recent call last):\n",
      "  File \"/epyc/opt/spark-axs/python/py4j/java_gateway.py\", line 929, in _get_connection\n",
      "    connection = self.deque.pop()\n",
      "IndexError: pop from an empty deque\n",
      "\n",
      "During handling of the above exception, another exception occurred:\n",
      "\n",
      "Traceback (most recent call last):\n",
      "  File \"/epyc/opt/spark-axs/python/py4j/java_gateway.py\", line 1067, in start\n",
      "    self.socket.connect((self.address, self.port))\n",
      "ConnectionRefusedError: [Errno 111] Connection refused\n",
      "ERROR:py4j.java_gateway:An error occurred while trying to connect to the Java server (127.0.0.1:34065)\n",
      "Traceback (most recent call last):\n",
      "  File \"/epyc/opt/spark-axs/python/py4j/java_gateway.py\", line 929, in _get_connection\n",
      "    connection = self.deque.pop()\n",
      "IndexError: pop from an empty deque\n",
      "\n",
      "During handling of the above exception, another exception occurred:\n",
      "\n",
      "Traceback (most recent call last):\n",
      "  File \"/epyc/opt/spark-axs/python/py4j/java_gateway.py\", line 1067, in start\n",
      "    self.socket.connect((self.address, self.port))\n",
      "ConnectionRefusedError: [Errno 111] Connection refused\n",
      "ERROR:py4j.java_gateway:An error occurred while trying to connect to the Java server (127.0.0.1:34065)\n",
      "Traceback (most recent call last):\n",
      "  File \"/epyc/opt/spark-axs/python/py4j/java_gateway.py\", line 929, in _get_connection\n",
      "    connection = self.deque.pop()\n",
      "IndexError: pop from an empty deque\n",
      "\n",
      "During handling of the above exception, another exception occurred:\n",
      "\n",
      "Traceback (most recent call last):\n",
      "  File \"/epyc/opt/spark-axs/python/py4j/java_gateway.py\", line 1067, in start\n",
      "    self.socket.connect((self.address, self.port))\n",
      "ConnectionRefusedError: [Errno 111] Connection refused\n",
      "ERROR:py4j.java_gateway:An error occurred while trying to connect to the Java server (127.0.0.1:34065)\n",
      "Traceback (most recent call last):\n",
      "  File \"/epyc/opt/spark-axs/python/py4j/java_gateway.py\", line 929, in _get_connection\n",
      "    connection = self.deque.pop()\n",
      "IndexError: pop from an empty deque\n",
      "\n",
      "During handling of the above exception, another exception occurred:\n",
      "\n",
      "Traceback (most recent call last):\n",
      "  File \"/epyc/opt/spark-axs/python/py4j/java_gateway.py\", line 1067, in start\n",
      "    self.socket.connect((self.address, self.port))\n",
      "ConnectionRefusedError: [Errno 111] Connection refused\n",
      "ERROR:py4j.java_gateway:An error occurred while trying to connect to the Java server (127.0.0.1:34065)\n",
      "Traceback (most recent call last):\n",
      "  File \"/epyc/opt/spark-axs/python/py4j/java_gateway.py\", line 929, in _get_connection\n",
      "    connection = self.deque.pop()\n",
      "IndexError: pop from an empty deque\n",
      "\n",
      "During handling of the above exception, another exception occurred:\n",
      "\n",
      "Traceback (most recent call last):\n",
      "  File \"/epyc/opt/spark-axs/python/py4j/java_gateway.py\", line 1067, in start\n",
      "    self.socket.connect((self.address, self.port))\n",
      "ConnectionRefusedError: [Errno 111] Connection refused\n",
      "ERROR:py4j.java_gateway:An error occurred while trying to connect to the Java server (127.0.0.1:34065)\n",
      "Traceback (most recent call last):\n",
      "  File \"/epyc/opt/spark-axs/python/py4j/java_gateway.py\", line 929, in _get_connection\n",
      "    connection = self.deque.pop()\n",
      "IndexError: pop from an empty deque\n",
      "\n",
      "During handling of the above exception, another exception occurred:\n",
      "\n",
      "Traceback (most recent call last):\n",
      "  File \"/epyc/opt/spark-axs/python/py4j/java_gateway.py\", line 1067, in start\n",
      "    self.socket.connect((self.address, self.port))\n",
      "ConnectionRefusedError: [Errno 111] Connection refused\n",
      "ERROR:py4j.java_gateway:An error occurred while trying to connect to the Java server (127.0.0.1:34065)\n",
      "Traceback (most recent call last):\n",
      "  File \"/epyc/opt/spark-axs/python/py4j/java_gateway.py\", line 929, in _get_connection\n",
      "    connection = self.deque.pop()\n",
      "IndexError: pop from an empty deque\n",
      "\n",
      "During handling of the above exception, another exception occurred:\n",
      "\n",
      "Traceback (most recent call last):\n",
      "  File \"/epyc/opt/spark-axs/python/py4j/java_gateway.py\", line 1067, in start\n",
      "    self.socket.connect((self.address, self.port))\n",
      "ConnectionRefusedError: [Errno 111] Connection refused\n",
      "ERROR:py4j.java_gateway:An error occurred while trying to connect to the Java server (127.0.0.1:34065)\n",
      "Traceback (most recent call last):\n",
      "  File \"/epyc/opt/spark-axs/python/py4j/java_gateway.py\", line 929, in _get_connection\n",
      "    connection = self.deque.pop()\n",
      "IndexError: pop from an empty deque\n",
      "\n",
      "During handling of the above exception, another exception occurred:\n",
      "\n",
      "Traceback (most recent call last):\n",
      "  File \"/epyc/opt/spark-axs/python/py4j/java_gateway.py\", line 1067, in start\n",
      "    self.socket.connect((self.address, self.port))\n",
      "ConnectionRefusedError: [Errno 111] Connection refused\n",
      "ERROR:py4j.java_gateway:An error occurred while trying to connect to the Java server (127.0.0.1:34065)\n",
      "Traceback (most recent call last):\n",
      "  File \"/epyc/opt/spark-axs/python/py4j/java_gateway.py\", line 929, in _get_connection\n",
      "    connection = self.deque.pop()\n",
      "IndexError: pop from an empty deque\n",
      "\n",
      "During handling of the above exception, another exception occurred:\n",
      "\n",
      "Traceback (most recent call last):\n",
      "  File \"/epyc/opt/spark-axs/python/py4j/java_gateway.py\", line 1067, in start\n",
      "    self.socket.connect((self.address, self.port))\n",
      "ConnectionRefusedError: [Errno 111] Connection refused\n",
      "ERROR:py4j.java_gateway:An error occurred while trying to connect to the Java server (127.0.0.1:34065)\n",
      "Traceback (most recent call last):\n",
      "  File \"/epyc/opt/spark-axs/python/py4j/java_gateway.py\", line 929, in _get_connection\n",
      "    connection = self.deque.pop()\n",
      "IndexError: pop from an empty deque\n",
      "\n",
      "During handling of the above exception, another exception occurred:\n",
      "\n",
      "Traceback (most recent call last):\n",
      "  File \"/epyc/opt/spark-axs/python/py4j/java_gateway.py\", line 1067, in start\n",
      "    self.socket.connect((self.address, self.port))\n",
      "ConnectionRefusedError: [Errno 111] Connection refused\n",
      "ERROR:py4j.java_gateway:An error occurred while trying to connect to the Java server (127.0.0.1:34065)\n",
      "Traceback (most recent call last):\n",
      "  File \"/epyc/opt/spark-axs/python/py4j/java_gateway.py\", line 929, in _get_connection\n",
      "    connection = self.deque.pop()\n",
      "IndexError: pop from an empty deque\n",
      "\n",
      "During handling of the above exception, another exception occurred:\n",
      "\n",
      "Traceback (most recent call last):\n",
      "  File \"/epyc/opt/spark-axs/python/py4j/java_gateway.py\", line 1067, in start\n",
      "    self.socket.connect((self.address, self.port))\n",
      "ConnectionRefusedError: [Errno 111] Connection refused\n",
      "ERROR:py4j.java_gateway:An error occurred while trying to connect to the Java server (127.0.0.1:34065)\n",
      "Traceback (most recent call last):\n",
      "  File \"/epyc/opt/spark-axs/python/py4j/java_gateway.py\", line 929, in _get_connection\n",
      "    connection = self.deque.pop()\n",
      "IndexError: pop from an empty deque\n",
      "\n",
      "During handling of the above exception, another exception occurred:\n",
      "\n",
      "Traceback (most recent call last):\n",
      "  File \"/epyc/opt/spark-axs/python/py4j/java_gateway.py\", line 1067, in start\n",
      "    self.socket.connect((self.address, self.port))\n",
      "ConnectionRefusedError: [Errno 111] Connection refused\n"
     ]
    },
    {
     "name": "stderr",
     "output_type": "stream",
     "text": [
      "ERROR:py4j.java_gateway:An error occurred while trying to connect to the Java server (127.0.0.1:34065)\n",
      "Traceback (most recent call last):\n",
      "  File \"/epyc/opt/spark-axs/python/py4j/java_gateway.py\", line 929, in _get_connection\n",
      "    connection = self.deque.pop()\n",
      "IndexError: pop from an empty deque\n",
      "\n",
      "During handling of the above exception, another exception occurred:\n",
      "\n",
      "Traceback (most recent call last):\n",
      "  File \"/epyc/opt/spark-axs/python/py4j/java_gateway.py\", line 1067, in start\n",
      "    self.socket.connect((self.address, self.port))\n",
      "ConnectionRefusedError: [Errno 111] Connection refused\n",
      "ERROR:py4j.java_gateway:An error occurred while trying to connect to the Java server (127.0.0.1:34065)\n",
      "Traceback (most recent call last):\n",
      "  File \"/epyc/opt/spark-axs/python/py4j/java_gateway.py\", line 929, in _get_connection\n",
      "    connection = self.deque.pop()\n",
      "IndexError: pop from an empty deque\n",
      "\n",
      "During handling of the above exception, another exception occurred:\n",
      "\n",
      "Traceback (most recent call last):\n",
      "  File \"/epyc/opt/spark-axs/python/py4j/java_gateway.py\", line 1067, in start\n",
      "    self.socket.connect((self.address, self.port))\n",
      "ConnectionRefusedError: [Errno 111] Connection refused\n",
      "ERROR:py4j.java_gateway:An error occurred while trying to connect to the Java server (127.0.0.1:34065)\n",
      "Traceback (most recent call last):\n",
      "  File \"/epyc/opt/spark-axs/python/py4j/java_gateway.py\", line 929, in _get_connection\n",
      "    connection = self.deque.pop()\n",
      "IndexError: pop from an empty deque\n",
      "\n",
      "During handling of the above exception, another exception occurred:\n",
      "\n",
      "Traceback (most recent call last):\n",
      "  File \"/epyc/opt/spark-axs/python/py4j/java_gateway.py\", line 1067, in start\n",
      "    self.socket.connect((self.address, self.port))\n",
      "ConnectionRefusedError: [Errno 111] Connection refused\n",
      "ERROR:py4j.java_gateway:An error occurred while trying to connect to the Java server (127.0.0.1:34065)\n",
      "Traceback (most recent call last):\n",
      "  File \"/epyc/opt/spark-axs/python/py4j/java_gateway.py\", line 929, in _get_connection\n",
      "    connection = self.deque.pop()\n",
      "IndexError: pop from an empty deque\n",
      "\n",
      "During handling of the above exception, another exception occurred:\n",
      "\n",
      "Traceback (most recent call last):\n",
      "  File \"/epyc/opt/spark-axs/python/py4j/java_gateway.py\", line 1067, in start\n",
      "    self.socket.connect((self.address, self.port))\n",
      "ConnectionRefusedError: [Errno 111] Connection refused\n",
      "ERROR:py4j.java_gateway:An error occurred while trying to connect to the Java server (127.0.0.1:34065)\n",
      "Traceback (most recent call last):\n",
      "  File \"/epyc/opt/spark-axs/python/py4j/java_gateway.py\", line 929, in _get_connection\n",
      "    connection = self.deque.pop()\n",
      "IndexError: pop from an empty deque\n",
      "\n",
      "During handling of the above exception, another exception occurred:\n",
      "\n",
      "Traceback (most recent call last):\n",
      "  File \"/epyc/opt/spark-axs/python/py4j/java_gateway.py\", line 1067, in start\n",
      "    self.socket.connect((self.address, self.port))\n",
      "ConnectionRefusedError: [Errno 111] Connection refused\n",
      "ERROR:py4j.java_gateway:An error occurred while trying to connect to the Java server (127.0.0.1:34065)\n",
      "Traceback (most recent call last):\n",
      "  File \"/epyc/opt/spark-axs/python/py4j/java_gateway.py\", line 929, in _get_connection\n",
      "    connection = self.deque.pop()\n",
      "IndexError: pop from an empty deque\n",
      "\n",
      "During handling of the above exception, another exception occurred:\n",
      "\n",
      "Traceback (most recent call last):\n",
      "  File \"/epyc/opt/spark-axs/python/py4j/java_gateway.py\", line 1067, in start\n",
      "    self.socket.connect((self.address, self.port))\n",
      "ConnectionRefusedError: [Errno 111] Connection refused\n",
      "ERROR:py4j.java_gateway:An error occurred while trying to connect to the Java server (127.0.0.1:34065)\n",
      "Traceback (most recent call last):\n",
      "  File \"/epyc/opt/spark-axs/python/py4j/java_gateway.py\", line 929, in _get_connection\n",
      "    connection = self.deque.pop()\n",
      "IndexError: pop from an empty deque\n",
      "\n",
      "During handling of the above exception, another exception occurred:\n",
      "\n",
      "Traceback (most recent call last):\n",
      "  File \"/epyc/opt/spark-axs/python/py4j/java_gateway.py\", line 1067, in start\n",
      "    self.socket.connect((self.address, self.port))\n",
      "ConnectionRefusedError: [Errno 111] Connection refused\n",
      "ERROR:tornado.general:Uncaught exception in ZMQStream callback\n",
      "Traceback (most recent call last):\n",
      "  File \"/epyc/opt/anaconda/lib/python3.7/site-packages/zmq/eventloop/zmqstream.py\", line 432, in _run_callback\n",
      "    callback(*args, **kwargs)\n",
      "  File \"/epyc/opt/anaconda/lib/python3.7/site-packages/zmq/eventloop/minitornado/stack_context.py\", line 275, in null_wrapper\n",
      "    return fn(*args, **kwargs)\n",
      "  File \"/epyc/opt/anaconda/lib/python3.7/site-packages/ipykernel/iostream.py\", line 120, in _handle_event\n",
      "    event_f()\n",
      "  File \"/epyc/opt/anaconda/lib/python3.7/threading.py\", line 522, in set\n",
      "    self._cond.notify_all()\n",
      "  File \"/epyc/opt/anaconda/lib/python3.7/threading.py\", line 244, in __exit__\n",
      "    return self._lock.__exit__(*args)\n",
      "RuntimeError: release unlocked lock\n",
      "ERROR:tornado.general:Uncaught exception in zmqstream callback\n",
      "Traceback (most recent call last):\n",
      "  File \"/epyc/opt/anaconda/lib/python3.7/site-packages/zmq/eventloop/zmqstream.py\", line 450, in _handle_events\n",
      "    self._handle_recv()\n",
      "  File \"/epyc/opt/anaconda/lib/python3.7/site-packages/zmq/eventloop/zmqstream.py\", line 480, in _handle_recv\n",
      "    self._run_callback(callback, msg)\n",
      "  File \"/epyc/opt/anaconda/lib/python3.7/site-packages/zmq/eventloop/zmqstream.py\", line 432, in _run_callback\n",
      "    callback(*args, **kwargs)\n",
      "  File \"/epyc/opt/anaconda/lib/python3.7/site-packages/zmq/eventloop/minitornado/stack_context.py\", line 275, in null_wrapper\n",
      "    return fn(*args, **kwargs)\n",
      "  File \"/epyc/opt/anaconda/lib/python3.7/site-packages/ipykernel/iostream.py\", line 120, in _handle_event\n",
      "    event_f()\n",
      "  File \"/epyc/opt/anaconda/lib/python3.7/threading.py\", line 522, in set\n",
      "    self._cond.notify_all()\n",
      "  File \"/epyc/opt/anaconda/lib/python3.7/threading.py\", line 244, in __exit__\n",
      "    return self._lock.__exit__(*args)\n",
      "RuntimeError: release unlocked lock\n",
      "ERROR:asyncio:Exception in callback BaseAsyncIOLoop._handle_events(25, 1)\n",
      "handle: <Handle BaseAsyncIOLoop._handle_events(25, 1)>\n",
      "Traceback (most recent call last):\n",
      "  File \"/epyc/opt/anaconda/lib/python3.7/asyncio/events.py\", line 88, in _run\n",
      "    self._context.run(self._callback, *self._args)\n",
      "  File \"/epyc/opt/anaconda/lib/python3.7/site-packages/tornado/platform/asyncio.py\", line 138, in _handle_events\n",
      "    handler_func(fileobj, events)\n",
      "  File \"/epyc/opt/anaconda/lib/python3.7/site-packages/zmq/eventloop/zmqstream.py\", line 450, in _handle_events\n",
      "    self._handle_recv()\n",
      "  File \"/epyc/opt/anaconda/lib/python3.7/site-packages/zmq/eventloop/zmqstream.py\", line 480, in _handle_recv\n",
      "    self._run_callback(callback, msg)\n",
      "  File \"/epyc/opt/anaconda/lib/python3.7/site-packages/zmq/eventloop/zmqstream.py\", line 432, in _run_callback\n",
      "    callback(*args, **kwargs)\n",
      "  File \"/epyc/opt/anaconda/lib/python3.7/site-packages/zmq/eventloop/minitornado/stack_context.py\", line 275, in null_wrapper\n",
      "    return fn(*args, **kwargs)\n",
      "  File \"/epyc/opt/anaconda/lib/python3.7/site-packages/ipykernel/iostream.py\", line 120, in _handle_event\n",
      "    event_f()\n",
      "  File \"/epyc/opt/anaconda/lib/python3.7/threading.py\", line 522, in set\n",
      "    self._cond.notify_all()\n",
      "  File \"/epyc/opt/anaconda/lib/python3.7/threading.py\", line 244, in __exit__\n",
      "    return self._lock.__exit__(*args)\n",
      "RuntimeError: release unlocked lock\n"
     ]
    }
   ],
   "source": [
    "def spark_start(local_dir):\n",
    "    from pyspark.sql import SparkSession\n",
    "    \n",
    "    spark = (\n",
    "            SparkSession.builder\n",
    "            .appName(\"LSD2\")\n",
    "            .config(\"spark.sql.warehouse.dir\", local_dir)\n",
    "            .config('spark.master', \"local[20]\")\n",
    "            .config('spark.driver.memory', '8G') # 128\n",
    "            .config('spark.local.dir', local_dir)\n",
    "            .config('spark.memory.offHeap.enabled', 'true')\n",
    "            .config('spark.memory.offHeap.size', '4G') # 256\n",
    "            .config(\"spark.sql.execution.arrow.enabled\", \"true\")\n",
    "            .config(\"spark.driver.maxResultSize\", \"6G\")\n",
    "            .config(\"spark.driver.extraJavaOptions\", f\"-Dderby.system.home={local_dir}\")\n",
    "            .config(\"spark.port.maxRetries\", 25)\n",
    "            .enableHiveSupport()\n",
    "            .getOrCreate()\n",
    "            \n",
    "    )   \n",
    "\n",
    "    return spark\n",
    "\n",
    "username = getpass.getuser()\n",
    "spark_session = spark_start(f\"/epyc/users/{username}/spark-tmp/\")\n",
    "\n",
    "catalog = axs.AxsCatalog(spark_session)"
   ]
  },
  {
   "cell_type": "markdown",
   "id": "131fabba",
   "metadata": {},
   "source": [
    "# Do this with Gaia instead"
   ]
  },
  {
   "cell_type": "code",
   "execution_count": 2,
   "id": "52a80ccf",
   "metadata": {},
   "outputs": [
    {
     "name": "stdout",
     "output_type": "stream",
     "text": [
      "Created TAP+ (v1.2.1) - Connection:\n",
      "\tHost: gea.esac.esa.int\n",
      "\tUse HTTPS: True\n",
      "\tPort: 443\n",
      "\tSSL Port: 443\n",
      "Created TAP+ (v1.2.1) - Connection:\n",
      "\tHost: geadata.esac.esa.int\n",
      "\tUse HTTPS: True\n",
      "\tPort: 443\n",
      "\tSSL Port: 443\n"
     ]
    }
   ],
   "source": [
    "from astroquery.gaia import Gaia"
   ]
  },
  {
   "cell_type": "markdown",
   "id": "4316be14",
   "metadata": {},
   "source": [
    "## Bin on the server"
   ]
  },
  {
   "cell_type": "markdown",
   "id": "d0b7ba4c",
   "metadata": {},
   "source": [
    "Observed CMD diagram from https://www.cosmos.esa.int/web/gaia-users/archive/writing-queries"
   ]
  },
  {
   "cell_type": "code",
   "execution_count": 3,
   "id": "8e023e00",
   "metadata": {},
   "outputs": [],
   "source": [
    "query_template = \"\"\"SELECT bp_rp_index / 40 AS bp_rp, g_abs_index / 10 AS g_abs, n FROM (\n",
    "SELECT\n",
    "    floor(bp_rp * 40) AS bp_rp_index,\n",
    "    floor((phot_g_mean_mag + 5 * log10(parallax) - 10) * 10) AS g_abs_index,\n",
    "    count(*) AS n\n",
    "FROM gaiadr2.gaia_source\n",
    "WHERE parallax_over_error > 5\n",
    "AND a_g_val IS NOT NULL\n",
    "AND random_index < {}\n",
    "GROUP BY bp_rp_index, g_abs_index\n",
    ") AS subquery\n",
    "\"\"\""
   ]
  },
  {
   "cell_type": "code",
   "execution_count": 4,
   "id": "371a8f77",
   "metadata": {},
   "outputs": [
    {
     "name": "stdout",
     "output_type": "stream",
     "text": [
      "INFO: Query finished. [astroquery.utils.tap.core]\n"
     ]
    }
   ],
   "source": [
    "job_small = Gaia.launch_job_async(query_template.format(80000))\n",
    "results_small = job_small.get_results()"
   ]
  },
  {
   "cell_type": "code",
   "execution_count": 5,
   "id": "3085b091",
   "metadata": {},
   "outputs": [
    {
     "name": "stdout",
     "output_type": "stream",
     "text": [
      "INFO: Query finished. [astroquery.utils.tap.core]\n"
     ]
    }
   ],
   "source": [
    "job_large = Gaia.launch_job_async(query_template.format(800000))\n",
    "results_large = job_large.get_results()"
   ]
  },
  {
   "cell_type": "markdown",
   "id": "1e3617e3",
   "metadata": {},
   "source": [
    "## We'll do the binning"
   ]
  },
  {
   "cell_type": "code",
   "execution_count": 3,
   "id": "2afc49ef",
   "metadata": {},
   "outputs": [],
   "source": [
    "query2_template = \"\"\"SELECT bp_rp, phot_g_mean_mag+5*log10(parallax)-10 AS g_abs, parallax, ra, dec \n",
    "FROM gaiadr2.gaia_source\n",
    "WHERE parallax_over_error > 5\n",
    "AND a_g_val IS NOT NULL\n",
    "AND random_index < {}\n",
    "\"\"\""
   ]
  },
  {
   "cell_type": "code",
   "execution_count": 4,
   "id": "b55db917",
   "metadata": {},
   "outputs": [
    {
     "ename": "KeyboardInterrupt",
     "evalue": "",
     "output_type": "error",
     "traceback": [
      "\u001b[0;31m---------------------------------------------------------------------------\u001b[0m",
      "\u001b[0;31mKeyboardInterrupt\u001b[0m                         Traceback (most recent call last)",
      "\u001b[0;32m<ipython-input-4-fd1a4824514a>\u001b[0m in \u001b[0;36m<module>\u001b[0;34m\u001b[0m\n\u001b[0;32m----> 1\u001b[0;31m \u001b[0mjob2_small\u001b[0m \u001b[0;34m=\u001b[0m \u001b[0mGaia\u001b[0m\u001b[0;34m.\u001b[0m\u001b[0mlaunch_job_async\u001b[0m\u001b[0;34m(\u001b[0m\u001b[0mquery2_template\u001b[0m\u001b[0;34m.\u001b[0m\u001b[0mformat\u001b[0m\u001b[0;34m(\u001b[0m\u001b[0;36m80000\u001b[0m\u001b[0;34m)\u001b[0m\u001b[0;34m)\u001b[0m\u001b[0;34m\u001b[0m\u001b[0;34m\u001b[0m\u001b[0m\n\u001b[0m\u001b[1;32m      2\u001b[0m \u001b[0mresults2_small\u001b[0m \u001b[0;34m=\u001b[0m \u001b[0mjob2_small\u001b[0m\u001b[0;34m.\u001b[0m\u001b[0mget_results\u001b[0m\u001b[0;34m(\u001b[0m\u001b[0;34m)\u001b[0m\u001b[0;34m\u001b[0m\u001b[0;34m\u001b[0m\u001b[0m\n",
      "\u001b[0;32m/epyc/opt/anaconda/lib/python3.7/site-packages/astroquery/utils/tap/core.py\u001b[0m in \u001b[0;36mlaunch_job_async\u001b[0;34m(self, query, name, output_file, output_format, verbose, dump_to_file, background, upload_resource, upload_table_name, autorun)\u001b[0m\n\u001b[1;32m    441\u001b[0m                         \u001b[0mjob\u001b[0m\u001b[0;34m.\u001b[0m\u001b[0msave_results\u001b[0m\u001b[0;34m(\u001b[0m\u001b[0mverbose\u001b[0m\u001b[0;34m)\u001b[0m\u001b[0;34m\u001b[0m\u001b[0;34m\u001b[0m\u001b[0m\n\u001b[1;32m    442\u001b[0m                     \u001b[0;32melse\u001b[0m\u001b[0;34m:\u001b[0m\u001b[0;34m\u001b[0m\u001b[0;34m\u001b[0m\u001b[0m\n\u001b[0;32m--> 443\u001b[0;31m                         \u001b[0mjob\u001b[0m\u001b[0;34m.\u001b[0m\u001b[0mget_results\u001b[0m\u001b[0;34m(\u001b[0m\u001b[0;34m)\u001b[0m\u001b[0;34m\u001b[0m\u001b[0;34m\u001b[0m\u001b[0m\n\u001b[0m\u001b[1;32m    444\u001b[0m                         \u001b[0mlog\u001b[0m\u001b[0;34m.\u001b[0m\u001b[0minfo\u001b[0m\u001b[0;34m(\u001b[0m\u001b[0;34m\"Query finished.\"\u001b[0m\u001b[0;34m)\u001b[0m\u001b[0;34m\u001b[0m\u001b[0;34m\u001b[0m\u001b[0m\n\u001b[1;32m    445\u001b[0m         \u001b[0;32mreturn\u001b[0m \u001b[0mjob\u001b[0m\u001b[0;34m\u001b[0m\u001b[0;34m\u001b[0m\u001b[0m\n",
      "\u001b[0;32m/epyc/opt/anaconda/lib/python3.7/site-packages/astroquery/utils/tap/model/job.py\u001b[0m in \u001b[0;36mget_results\u001b[0;34m(self)\u001b[0m\n\u001b[1;32m    245\u001b[0m         \u001b[0;32melse\u001b[0m\u001b[0;34m:\u001b[0m\u001b[0;34m\u001b[0m\u001b[0;34m\u001b[0m\u001b[0m\n\u001b[1;32m    246\u001b[0m             \u001b[0;31m# async: result is in the server once the job is finished\u001b[0m\u001b[0;34m\u001b[0m\u001b[0;34m\u001b[0m\u001b[0;34m\u001b[0m\u001b[0m\n\u001b[0;32m--> 247\u001b[0;31m             \u001b[0mself\u001b[0m\u001b[0;34m.\u001b[0m\u001b[0m__load_async_job_results\u001b[0m\u001b[0;34m(\u001b[0m\u001b[0;34m)\u001b[0m\u001b[0;34m\u001b[0m\u001b[0;34m\u001b[0m\u001b[0m\n\u001b[0m\u001b[1;32m    248\u001b[0m             \u001b[0;32mreturn\u001b[0m \u001b[0mself\u001b[0m\u001b[0;34m.\u001b[0m\u001b[0mresults\u001b[0m\u001b[0;34m\u001b[0m\u001b[0;34m\u001b[0m\u001b[0m\n\u001b[1;32m    249\u001b[0m \u001b[0;34m\u001b[0m\u001b[0m\n",
      "\u001b[0;32m/epyc/opt/anaconda/lib/python3.7/site-packages/astroquery/utils/tap/model/job.py\u001b[0m in \u001b[0;36m__load_async_job_results\u001b[0;34m(self, debug)\u001b[0m\n\u001b[1;32m    329\u001b[0m \u001b[0;34m\u001b[0m\u001b[0m\n\u001b[1;32m    330\u001b[0m     \u001b[0;32mdef\u001b[0m \u001b[0m__load_async_job_results\u001b[0m\u001b[0;34m(\u001b[0m\u001b[0mself\u001b[0m\u001b[0;34m,\u001b[0m \u001b[0mdebug\u001b[0m\u001b[0;34m=\u001b[0m\u001b[0;32mFalse\u001b[0m\u001b[0;34m)\u001b[0m\u001b[0;34m:\u001b[0m\u001b[0;34m\u001b[0m\u001b[0;34m\u001b[0m\u001b[0m\n\u001b[0;32m--> 331\u001b[0;31m         \u001b[0mwjResponse\u001b[0m\u001b[0;34m,\u001b[0m \u001b[0mphase\u001b[0m \u001b[0;34m=\u001b[0m \u001b[0mself\u001b[0m\u001b[0;34m.\u001b[0m\u001b[0mwait_for_job_end\u001b[0m\u001b[0;34m(\u001b[0m\u001b[0;34m)\u001b[0m\u001b[0;34m\u001b[0m\u001b[0;34m\u001b[0m\u001b[0m\n\u001b[0m\u001b[1;32m    332\u001b[0m         \u001b[0msubContext\u001b[0m \u001b[0;34m=\u001b[0m \u001b[0;34m\"async/\"\u001b[0m \u001b[0;34m+\u001b[0m \u001b[0mstr\u001b[0m\u001b[0;34m(\u001b[0m\u001b[0mself\u001b[0m\u001b[0;34m.\u001b[0m\u001b[0mjobid\u001b[0m\u001b[0;34m)\u001b[0m \u001b[0;34m+\u001b[0m \u001b[0;34m\"/results/result\"\u001b[0m\u001b[0;34m\u001b[0m\u001b[0;34m\u001b[0m\u001b[0m\n\u001b[1;32m    333\u001b[0m         \u001b[0mresultsResponse\u001b[0m \u001b[0;34m=\u001b[0m \u001b[0mself\u001b[0m\u001b[0;34m.\u001b[0m\u001b[0mconnHandler\u001b[0m\u001b[0;34m.\u001b[0m\u001b[0mexecute_tapget\u001b[0m\u001b[0;34m(\u001b[0m\u001b[0msubContext\u001b[0m\u001b[0;34m)\u001b[0m\u001b[0;34m\u001b[0m\u001b[0;34m\u001b[0m\u001b[0m\n",
      "\u001b[0;32m/epyc/opt/anaconda/lib/python3.7/site-packages/astroquery/utils/tap/model/job.py\u001b[0m in \u001b[0;36mwait_for_job_end\u001b[0;34m(self, verbose)\u001b[0m\n\u001b[1;32m    325\u001b[0m             \u001b[0;31m# PENDING, QUEUED, EXECUTING, COMPLETED, ERROR, ABORTED, UNKNOWN,\u001b[0m\u001b[0;34m\u001b[0m\u001b[0;34m\u001b[0m\u001b[0;34m\u001b[0m\u001b[0m\n\u001b[1;32m    326\u001b[0m             \u001b[0;31m# HELD, SUSPENDED, ARCHIVED:\u001b[0m\u001b[0;34m\u001b[0m\u001b[0;34m\u001b[0m\u001b[0;34m\u001b[0m\u001b[0m\n\u001b[0;32m--> 327\u001b[0;31m             \u001b[0mtime\u001b[0m\u001b[0;34m.\u001b[0m\u001b[0msleep\u001b[0m\u001b[0;34m(\u001b[0m\u001b[0;36m0.5\u001b[0m\u001b[0;34m)\u001b[0m\u001b[0;34m\u001b[0m\u001b[0;34m\u001b[0m\u001b[0m\n\u001b[0m\u001b[1;32m    328\u001b[0m         \u001b[0;32mreturn\u001b[0m \u001b[0mcurrentResponse\u001b[0m\u001b[0;34m,\u001b[0m \u001b[0mlphase\u001b[0m\u001b[0;34m\u001b[0m\u001b[0;34m\u001b[0m\u001b[0m\n\u001b[1;32m    329\u001b[0m \u001b[0;34m\u001b[0m\u001b[0m\n",
      "\u001b[0;31mKeyboardInterrupt\u001b[0m: "
     ]
    }
   ],
   "source": [
    "job2_small = Gaia.launch_job_async(query2_template.format(80000))\n",
    "results2_small = job2_small.get_results()"
   ]
  },
  {
   "cell_type": "code",
   "execution_count": null,
   "id": "478bf80a",
   "metadata": {},
   "outputs": [],
   "source": [
    "job2_large = Gaia.launch_job_async(query2_template.format(800000))\n",
    "results2_large = job2_large.get_results()"
   ]
  },
  {
   "cell_type": "code",
   "execution_count": null,
   "id": "ff59f27f",
   "metadata": {},
   "outputs": [],
   "source": [
    "bp_rp_count = int((max(r['bp_rp']) - min(r['bp_rp']) + 1) * 40)\n",
    "g_abs_count = int((max(r['g_abs']) - min(r['g_abs']) + 1) * 10)\n",
    "\n",
    "bp_rp_index = np.round((r['bp_rp'] - min(r['bp_rp'])) * 40).astype(int)\n",
    "g_abs_index = np.round((r['g_abs'] - min(r['g_abs'])) * 10).astype(int)\n",
    "\n",
    "image = np.zeros((g_abs_count, bp_rp_count))\n",
    "image[g_abs_index, bp_rp_index] = r['n'].T\n",
    "\n",
    "plt.figure(figsize=(30, 20))\n",
    "plt.imshow(np.log10(image));"
   ]
  },
  {
   "cell_type": "code",
   "execution_count": 6,
   "id": "e2752651",
   "metadata": {},
   "outputs": [],
   "source": [
    "def make_background_cmd(r, ax, **kwargs):\n",
    "    bp_rp_count = int((max(r['bp_rp']) - min(r['bp_rp']) + 1) * 40)\n",
    "    g_abs_count = int((max(r['g_abs']) - min(r['g_abs']) + 1) * 10)\n",
    "\n",
    "    bp_rp_index = np.round((r['bp_rp'] - min(r['bp_rp'])) * 40).astype(int)\n",
    "    g_abs_index = np.round((r['g_abs'] - min(r['g_abs'])) * 10).astype(int)\n",
    "\n",
    "    image = np.zeros((g_abs_count, bp_rp_count))\n",
    "    image[ g_abs_index, bp_rp_index] = r['n'].T\n",
    "    im = ax.imshow(np.log10(image), extent=[min(r['bp_rp']), max(r['bp_rp']), max(r['g_abs']), min(r['g_abs'])], **kwargs);\n",
    "\n",
    "    ax.set_ylabel('Absolute G Mag')\n",
    "    ax.set_xlabel('bp-rp')\n",
    "    return im"
   ]
  },
  {
   "cell_type": "markdown",
   "id": "d4773ddd",
   "metadata": {},
   "source": [
    "# Extinction"
   ]
  },
  {
   "cell_type": "markdown",
   "id": "0e2f3e4f",
   "metadata": {},
   "source": [
    "By definition:  \n",
    "$R_v = \\frac{A_v}{E(B-V)}$  \n",
    "We can use the A_lambda_over_Av values below from the Parsec group and the E(B-V) values from ? to get $A_\\lambda$  \n",
    "$A_\\lambda = E(B-V) \\times \\frac{A_\\lambda}{A_V}\\times R_V$ Where $R_V = 3.1$"
   ]
  },
  {
   "cell_type": "code",
   "execution_count": 7,
   "id": "19d3ce41",
   "metadata": {},
   "outputs": [],
   "source": [
    "# From Parsec\n",
    "# Values for G2V star using Cardelli+ 1989 and O'DOnnel 1994 extinction curves with R_v = 3.1\n",
    "#wave_eff_G = 6390.21\n",
    "#omega_eff_G = 4416\n",
    "A_G_over_Av = 0.83627\n",
    "\n",
    "#wave_eff_G_BP = 5182.58\n",
    "#omega_eff_G_BP = 2617\n",
    "A_BP_over_Av = 1.08337\n",
    "\n",
    "#wave_eff_R_BP = 7825.08\n",
    "#omega_eff_R_BP = 2863\n",
    "A_RP_over_Av = 0.63439"
   ]
  },
  {
   "cell_type": "markdown",
   "id": "f436419b",
   "metadata": {},
   "source": [
    "## DF with A and B candidates"
   ]
  },
  {
   "cell_type": "code",
   "execution_count": 8,
   "id": "933befbd",
   "metadata": {},
   "outputs": [
    {
     "data": {
      "text/html": [
       "<div>\n",
       "<style scoped>\n",
       "    .dataframe tbody tr th:only-of-type {\n",
       "        vertical-align: middle;\n",
       "    }\n",
       "\n",
       "    .dataframe tbody tr th {\n",
       "        vertical-align: top;\n",
       "    }\n",
       "\n",
       "    .dataframe thead th {\n",
       "        text-align: right;\n",
       "    }\n",
       "</style>\n",
       "<table border=\"1\" class=\"dataframe\">\n",
       "  <thead>\n",
       "    <tr style=\"text-align: right;\">\n",
       "      <th></th>\n",
       "      <th>ps1_objid</th>\n",
       "      <th>sample</th>\n",
       "      <th>ra</th>\n",
       "      <th>dec</th>\n",
       "      <th>mean_mag_g</th>\n",
       "      <th>mean_mag_r</th>\n",
       "      <th>mean_mag_i</th>\n",
       "      <th>ra_stddev</th>\n",
       "      <th>dec_stddev</th>\n",
       "      <th>ps1_gMeanPSFMag</th>\n",
       "      <th>...</th>\n",
       "      <th>dip_outside_window_med_magerr</th>\n",
       "      <th>dip_noise_ratio</th>\n",
       "      <th>dip_rms_ratio</th>\n",
       "      <th>dip_diff_sum</th>\n",
       "      <th>dip_diff_ratio</th>\n",
       "      <th>dip_max_gap</th>\n",
       "      <th>dip_max_gap_ratio</th>\n",
       "      <th>dip_frac_10</th>\n",
       "      <th>dip_frac_20</th>\n",
       "      <th>dip_frac_50</th>\n",
       "    </tr>\n",
       "  </thead>\n",
       "  <tbody>\n",
       "    <tr>\n",
       "      <th>0</th>\n",
       "      <td>168433257951352509</td>\n",
       "      <td>A</td>\n",
       "      <td>325.795112</td>\n",
       "      <td>50.359852</td>\n",
       "      <td>18.667411</td>\n",
       "      <td>17.087635</td>\n",
       "      <td>16.300364</td>\n",
       "      <td>0.000035</td>\n",
       "      <td>0.000021</td>\n",
       "      <td>18.417801</td>\n",
       "      <td>...</td>\n",
       "      <td>0.040105</td>\n",
       "      <td>2.350524</td>\n",
       "      <td>5.343059</td>\n",
       "      <td>4.394930</td>\n",
       "      <td>2.047220</td>\n",
       "      <td>6.952014</td>\n",
       "      <td>0.145088</td>\n",
       "      <td>0.143678</td>\n",
       "      <td>0.022989</td>\n",
       "      <td>0.000000</td>\n",
       "    </tr>\n",
       "    <tr>\n",
       "      <th>1</th>\n",
       "      <td>179030313136257708</td>\n",
       "      <td>A</td>\n",
       "      <td>31.313617</td>\n",
       "      <td>59.197535</td>\n",
       "      <td>19.398446</td>\n",
       "      <td>18.161548</td>\n",
       "      <td>NaN</td>\n",
       "      <td>0.000059</td>\n",
       "      <td>0.000036</td>\n",
       "      <td>19.286900</td>\n",
       "      <td>...</td>\n",
       "      <td>0.030382</td>\n",
       "      <td>1.131410</td>\n",
       "      <td>8.579913</td>\n",
       "      <td>3.465202</td>\n",
       "      <td>1.822246</td>\n",
       "      <td>2.094282</td>\n",
       "      <td>0.149072</td>\n",
       "      <td>0.004878</td>\n",
       "      <td>0.004878</td>\n",
       "      <td>0.004878</td>\n",
       "    </tr>\n",
       "    <tr>\n",
       "      <th>2</th>\n",
       "      <td>173260619709112041</td>\n",
       "      <td>A</td>\n",
       "      <td>61.970893</td>\n",
       "      <td>54.384495</td>\n",
       "      <td>15.723220</td>\n",
       "      <td>14.796842</td>\n",
       "      <td>NaN</td>\n",
       "      <td>0.000024</td>\n",
       "      <td>0.000018</td>\n",
       "      <td>15.655600</td>\n",
       "      <td>...</td>\n",
       "      <td>0.014521</td>\n",
       "      <td>1.020284</td>\n",
       "      <td>12.657307</td>\n",
       "      <td>1.312467</td>\n",
       "      <td>1.741225</td>\n",
       "      <td>1.995949</td>\n",
       "      <td>0.110139</td>\n",
       "      <td>0.000000</td>\n",
       "      <td>0.000000</td>\n",
       "      <td>0.000000</td>\n",
       "    </tr>\n",
       "    <tr>\n",
       "      <th>3</th>\n",
       "      <td>126442877393679193</td>\n",
       "      <td>A</td>\n",
       "      <td>287.739339</td>\n",
       "      <td>15.373873</td>\n",
       "      <td>20.204753</td>\n",
       "      <td>18.315664</td>\n",
       "      <td>17.133254</td>\n",
       "      <td>0.000049</td>\n",
       "      <td>0.000031</td>\n",
       "      <td>20.006599</td>\n",
       "      <td>...</td>\n",
       "      <td>0.035541</td>\n",
       "      <td>2.636593</td>\n",
       "      <td>7.509860</td>\n",
       "      <td>7.677393</td>\n",
       "      <td>1.798500</td>\n",
       "      <td>1.966157</td>\n",
       "      <td>0.129999</td>\n",
       "      <td>0.231029</td>\n",
       "      <td>0.042159</td>\n",
       "      <td>0.000000</td>\n",
       "    </tr>\n",
       "    <tr>\n",
       "      <th>4</th>\n",
       "      <td>100582959343631974</td>\n",
       "      <td>A</td>\n",
       "      <td>295.934355</td>\n",
       "      <td>-6.182024</td>\n",
       "      <td>17.467897</td>\n",
       "      <td>16.621087</td>\n",
       "      <td>NaN</td>\n",
       "      <td>0.000028</td>\n",
       "      <td>0.000026</td>\n",
       "      <td>17.381599</td>\n",
       "      <td>...</td>\n",
       "      <td>0.026121</td>\n",
       "      <td>1.566794</td>\n",
       "      <td>10.535548</td>\n",
       "      <td>1.146963</td>\n",
       "      <td>1.298975</td>\n",
       "      <td>6.020996</td>\n",
       "      <td>0.333333</td>\n",
       "      <td>0.062500</td>\n",
       "      <td>0.000000</td>\n",
       "      <td>0.000000</td>\n",
       "    </tr>\n",
       "  </tbody>\n",
       "</table>\n",
       "<p>5 rows × 93 columns</p>\n",
       "</div>"
      ],
      "text/plain": [
       "            ps1_objid sample          ra        dec  mean_mag_g  mean_mag_r  \\\n",
       "0  168433257951352509      A  325.795112  50.359852   18.667411   17.087635   \n",
       "1  179030313136257708      A   31.313617  59.197535   19.398446   18.161548   \n",
       "2  173260619709112041      A   61.970893  54.384495   15.723220   14.796842   \n",
       "3  126442877393679193      A  287.739339  15.373873   20.204753   18.315664   \n",
       "4  100582959343631974      A  295.934355  -6.182024   17.467897   16.621087   \n",
       "\n",
       "   mean_mag_i  ra_stddev  dec_stddev  ps1_gMeanPSFMag  ...  \\\n",
       "0   16.300364   0.000035    0.000021        18.417801  ...   \n",
       "1         NaN   0.000059    0.000036        19.286900  ...   \n",
       "2         NaN   0.000024    0.000018        15.655600  ...   \n",
       "3   17.133254   0.000049    0.000031        20.006599  ...   \n",
       "4         NaN   0.000028    0.000026        17.381599  ...   \n",
       "\n",
       "   dip_outside_window_med_magerr  dip_noise_ratio dip_rms_ratio dip_diff_sum  \\\n",
       "0                       0.040105         2.350524      5.343059     4.394930   \n",
       "1                       0.030382         1.131410      8.579913     3.465202   \n",
       "2                       0.014521         1.020284     12.657307     1.312467   \n",
       "3                       0.035541         2.636593      7.509860     7.677393   \n",
       "4                       0.026121         1.566794     10.535548     1.146963   \n",
       "\n",
       "  dip_diff_ratio dip_max_gap dip_max_gap_ratio dip_frac_10 dip_frac_20  \\\n",
       "0       2.047220    6.952014          0.145088    0.143678    0.022989   \n",
       "1       1.822246    2.094282          0.149072    0.004878    0.004878   \n",
       "2       1.741225    1.995949          0.110139    0.000000    0.000000   \n",
       "3       1.798500    1.966157          0.129999    0.231029    0.042159   \n",
       "4       1.298975    6.020996          0.333333    0.062500    0.000000   \n",
       "\n",
       "  dip_frac_50  \n",
       "0    0.000000  \n",
       "1    0.004878  \n",
       "2    0.000000  \n",
       "3    0.000000  \n",
       "4    0.000000  \n",
       "\n",
       "[5 rows x 93 columns]"
      ]
     },
     "execution_count": 8,
     "metadata": {},
     "output_type": "execute_result"
    }
   ],
   "source": [
    "pkl_df = pkl.load(open('/epyc/data/boyajian/dippers_data_v2.pkl', 'rb'))\n",
    "pkl_df.head()"
   ]
  },
  {
   "cell_type": "markdown",
   "id": "9799f10c",
   "metadata": {},
   "source": [
    "## Read in Cross match files"
   ]
  },
  {
   "cell_type": "code",
   "execution_count": 9,
   "id": "5ac119e0",
   "metadata": {},
   "outputs": [
    {
     "data": {
      "text/html": [
       "<div>\n",
       "<style scoped>\n",
       "    .dataframe tbody tr th:only-of-type {\n",
       "        vertical-align: middle;\n",
       "    }\n",
       "\n",
       "    .dataframe tbody tr th {\n",
       "        vertical-align: top;\n",
       "    }\n",
       "\n",
       "    .dataframe thead th {\n",
       "        text-align: right;\n",
       "    }\n",
       "</style>\n",
       "<table border=\"1\" class=\"dataframe\">\n",
       "  <thead>\n",
       "    <tr style=\"text-align: right;\">\n",
       "      <th></th>\n",
       "      <th>ps1_objid</th>\n",
       "      <th>source_id</th>\n",
       "      <th>ruwe</th>\n",
       "      <th>bp_rp</th>\n",
       "      <th>bp_g</th>\n",
       "      <th>g_rp</th>\n",
       "      <th>phot_g_mean_flux</th>\n",
       "      <th>phot_g_mean_flux_error</th>\n",
       "      <th>phot_g_mean_mag</th>\n",
       "      <th>phot_bp_mean_flux</th>\n",
       "      <th>...</th>\n",
       "      <th>phot_rp_mean_flux_error</th>\n",
       "      <th>phot_rp_mean_mag</th>\n",
       "      <th>parallax</th>\n",
       "      <th>parallax_error</th>\n",
       "      <th>parallax_over_error</th>\n",
       "      <th>pm</th>\n",
       "      <th>pmra</th>\n",
       "      <th>pmra_error</th>\n",
       "      <th>pmdec</th>\n",
       "      <th>pmdec_error</th>\n",
       "    </tr>\n",
       "  </thead>\n",
       "  <tbody>\n",
       "    <tr>\n",
       "      <th>0</th>\n",
       "      <td>94362690352503521</td>\n",
       "      <td>4151665613406613504</td>\n",
       "      <td>1.084682</td>\n",
       "      <td>3.392249</td>\n",
       "      <td>2.073599</td>\n",
       "      <td>1.318650</td>\n",
       "      <td>59699.374860</td>\n",
       "      <td>133.993700</td>\n",
       "      <td>13.747442</td>\n",
       "      <td>6412.103582</td>\n",
       "      <td>...</td>\n",
       "      <td>458.918300</td>\n",
       "      <td>12.428792</td>\n",
       "      <td>0.049135</td>\n",
       "      <td>0.029025</td>\n",
       "      <td>1.692814</td>\n",
       "      <td>9.126816</td>\n",
       "      <td>-0.202643</td>\n",
       "      <td>0.031038</td>\n",
       "      <td>-9.124566</td>\n",
       "      <td>0.021297</td>\n",
       "    </tr>\n",
       "    <tr>\n",
       "      <th>1</th>\n",
       "      <td>102792824349146924</td>\n",
       "      <td>4255271185341568768</td>\n",
       "      <td>1.059162</td>\n",
       "      <td>2.131899</td>\n",
       "      <td>1.110409</td>\n",
       "      <td>1.021490</td>\n",
       "      <td>798.873467</td>\n",
       "      <td>1.740153</td>\n",
       "      <td>18.431171</td>\n",
       "      <td>208.345971</td>\n",
       "      <td>...</td>\n",
       "      <td>12.265520</td>\n",
       "      <td>17.409681</td>\n",
       "      <td>0.243178</td>\n",
       "      <td>0.200626</td>\n",
       "      <td>1.212096</td>\n",
       "      <td>4.169343</td>\n",
       "      <td>-1.502534</td>\n",
       "      <td>0.201689</td>\n",
       "      <td>-3.889192</td>\n",
       "      <td>0.165278</td>\n",
       "    </tr>\n",
       "    <tr>\n",
       "      <th>2</th>\n",
       "      <td>156601035871513395</td>\n",
       "      <td>950655929677107712</td>\n",
       "      <td>1.107905</td>\n",
       "      <td>3.686758</td>\n",
       "      <td>2.278308</td>\n",
       "      <td>1.408450</td>\n",
       "      <td>523612.181211</td>\n",
       "      <td>4848.080600</td>\n",
       "      <td>11.389843</td>\n",
       "      <td>46575.375555</td>\n",
       "      <td>...</td>\n",
       "      <td>20163.545000</td>\n",
       "      <td>9.981393</td>\n",
       "      <td>0.092483</td>\n",
       "      <td>0.052256</td>\n",
       "      <td>1.769814</td>\n",
       "      <td>4.060296</td>\n",
       "      <td>1.186285</td>\n",
       "      <td>0.046603</td>\n",
       "      <td>-3.883134</td>\n",
       "      <td>0.044009</td>\n",
       "    </tr>\n",
       "    <tr>\n",
       "      <th>3</th>\n",
       "      <td>191931269081849923</td>\n",
       "      <td>1097464719378492800</td>\n",
       "      <td>1.056467</td>\n",
       "      <td>0.789890</td>\n",
       "      <td>0.313609</td>\n",
       "      <td>0.476281</td>\n",
       "      <td>52224.366490</td>\n",
       "      <td>8.327744</td>\n",
       "      <td>13.892684</td>\n",
       "      <td>28372.635724</td>\n",
       "      <td>...</td>\n",
       "      <td>23.752308</td>\n",
       "      <td>13.416403</td>\n",
       "      <td>1.375509</td>\n",
       "      <td>0.013897</td>\n",
       "      <td>98.975740</td>\n",
       "      <td>11.214291</td>\n",
       "      <td>-10.304863</td>\n",
       "      <td>0.011989</td>\n",
       "      <td>-4.423812</td>\n",
       "      <td>0.014859</td>\n",
       "    </tr>\n",
       "    <tr>\n",
       "      <th>4</th>\n",
       "      <td>111492860979335175</td>\n",
       "      <td>4268567265914325760</td>\n",
       "      <td>0.983518</td>\n",
       "      <td>3.037911</td>\n",
       "      <td>1.775791</td>\n",
       "      <td>1.262119</td>\n",
       "      <td>842.131504</td>\n",
       "      <td>1.879299</td>\n",
       "      <td>18.373917</td>\n",
       "      <td>118.996407</td>\n",
       "      <td>...</td>\n",
       "      <td>11.367281</td>\n",
       "      <td>17.111797</td>\n",
       "      <td>-0.024850</td>\n",
       "      <td>0.186990</td>\n",
       "      <td>-0.132895</td>\n",
       "      <td>7.098120</td>\n",
       "      <td>-3.839143</td>\n",
       "      <td>0.202331</td>\n",
       "      <td>-5.970284</td>\n",
       "      <td>0.149248</td>\n",
       "    </tr>\n",
       "  </tbody>\n",
       "</table>\n",
       "<p>5 rows × 23 columns</p>\n",
       "</div>"
      ],
      "text/plain": [
       "            ps1_objid            source_id      ruwe     bp_rp      bp_g  \\\n",
       "0   94362690352503521  4151665613406613504  1.084682  3.392249  2.073599   \n",
       "1  102792824349146924  4255271185341568768  1.059162  2.131899  1.110409   \n",
       "2  156601035871513395   950655929677107712  1.107905  3.686758  2.278308   \n",
       "3  191931269081849923  1097464719378492800  1.056467  0.789890  0.313609   \n",
       "4  111492860979335175  4268567265914325760  0.983518  3.037911  1.775791   \n",
       "\n",
       "       g_rp  phot_g_mean_flux  phot_g_mean_flux_error  phot_g_mean_mag  \\\n",
       "0  1.318650      59699.374860              133.993700        13.747442   \n",
       "1  1.021490        798.873467                1.740153        18.431171   \n",
       "2  1.408450     523612.181211             4848.080600        11.389843   \n",
       "3  0.476281      52224.366490                8.327744        13.892684   \n",
       "4  1.262119        842.131504                1.879299        18.373917   \n",
       "\n",
       "   phot_bp_mean_flux  ...  phot_rp_mean_flux_error  phot_rp_mean_mag  \\\n",
       "0        6412.103582  ...               458.918300         12.428792   \n",
       "1         208.345971  ...                12.265520         17.409681   \n",
       "2       46575.375555  ...             20163.545000          9.981393   \n",
       "3       28372.635724  ...                23.752308         13.416403   \n",
       "4         118.996407  ...                11.367281         17.111797   \n",
       "\n",
       "   parallax  parallax_error  parallax_over_error         pm       pmra  \\\n",
       "0  0.049135        0.029025             1.692814   9.126816  -0.202643   \n",
       "1  0.243178        0.200626             1.212096   4.169343  -1.502534   \n",
       "2  0.092483        0.052256             1.769814   4.060296   1.186285   \n",
       "3  1.375509        0.013897            98.975740  11.214291 -10.304863   \n",
       "4 -0.024850        0.186990            -0.132895   7.098120  -3.839143   \n",
       "\n",
       "   pmra_error     pmdec  pmdec_error  \n",
       "0    0.031038 -9.124566     0.021297  \n",
       "1    0.201689 -3.889192     0.165278  \n",
       "2    0.046603 -3.883134     0.044009  \n",
       "3    0.011989 -4.423812     0.014859  \n",
       "4    0.202331 -5.970284     0.149248  \n",
       "\n",
       "[5 rows x 23 columns]"
      ]
     },
     "execution_count": 9,
     "metadata": {},
     "output_type": "execute_result"
    }
   ],
   "source": [
    "gaia_source_df = pd.read_parquet('/epyc/data/boyajian/wtf_aug2020_dip_candidates_x_gaia_source_edr3')\n",
    "gaia_source_df.columns\n",
    "gaia_source_df.head()"
   ]
  },
  {
   "cell_type": "markdown",
   "id": "c9dcb749",
   "metadata": {},
   "source": [
    "### Green Distances and reddening\n",
    "\n",
    "E = E(B-V)  \n",
    "dm = distance modulus  \n",
    "16 = mean-1$\\sigma$  \n",
    "50 = mean  \n",
    "84 = mean+1$\\sigma$"
   ]
  },
  {
   "cell_type": "code",
   "execution_count": 10,
   "id": "27023614",
   "metadata": {},
   "outputs": [
    {
     "data": {
      "text/html": [
       "<div>\n",
       "<style scoped>\n",
       "    .dataframe tbody tr th:only-of-type {\n",
       "        vertical-align: middle;\n",
       "    }\n",
       "\n",
       "    .dataframe tbody tr th {\n",
       "        vertical-align: top;\n",
       "    }\n",
       "\n",
       "    .dataframe thead th {\n",
       "        text-align: right;\n",
       "    }\n",
       "</style>\n",
       "<table border=\"1\" class=\"dataframe\">\n",
       "  <thead>\n",
       "    <tr style=\"text-align: right;\">\n",
       "      <th></th>\n",
       "      <th>ps1_objid</th>\n",
       "      <th>dm_16</th>\n",
       "      <th>E_16</th>\n",
       "      <th>Mr_16</th>\n",
       "      <th>FeH_16</th>\n",
       "      <th>dm_50</th>\n",
       "      <th>E_50</th>\n",
       "      <th>Mr_50</th>\n",
       "      <th>FeH_50</th>\n",
       "      <th>dm_84</th>\n",
       "      <th>E_84</th>\n",
       "      <th>Mr_84</th>\n",
       "      <th>FeH_84</th>\n",
       "      <th>chisq</th>\n",
       "      <th>gaia_id</th>\n",
       "    </tr>\n",
       "  </thead>\n",
       "  <tbody>\n",
       "    <tr>\n",
       "      <th>0</th>\n",
       "      <td>94362690352503521</td>\n",
       "      <td>11.275535</td>\n",
       "      <td>1.565869</td>\n",
       "      <td>-1.000000</td>\n",
       "      <td>-0.75</td>\n",
       "      <td>11.336248</td>\n",
       "      <td>1.580092</td>\n",
       "      <td>-1.000</td>\n",
       "      <td>-0.525</td>\n",
       "      <td>11.377617</td>\n",
       "      <td>1.597467</td>\n",
       "      <td>-0.950000</td>\n",
       "      <td>-0.35</td>\n",
       "      <td>19.495815</td>\n",
       "      <td>4151665613406613504</td>\n",
       "    </tr>\n",
       "    <tr>\n",
       "      <th>1</th>\n",
       "      <td>102792824349146924</td>\n",
       "      <td>12.372326</td>\n",
       "      <td>0.920623</td>\n",
       "      <td>1.925815</td>\n",
       "      <td>-0.65</td>\n",
       "      <td>13.282516</td>\n",
       "      <td>0.996778</td>\n",
       "      <td>2.675</td>\n",
       "      <td>-0.400</td>\n",
       "      <td>14.238860</td>\n",
       "      <td>1.105575</td>\n",
       "      <td>3.324185</td>\n",
       "      <td>-0.15</td>\n",
       "      <td>0.215834</td>\n",
       "      <td>4255271185341568768</td>\n",
       "    </tr>\n",
       "    <tr>\n",
       "      <th>2</th>\n",
       "      <td>111492860979335175</td>\n",
       "      <td>14.178335</td>\n",
       "      <td>1.455591</td>\n",
       "      <td>-0.150000</td>\n",
       "      <td>-0.65</td>\n",
       "      <td>14.729681</td>\n",
       "      <td>1.494254</td>\n",
       "      <td>0.300</td>\n",
       "      <td>-0.450</td>\n",
       "      <td>15.187395</td>\n",
       "      <td>1.535519</td>\n",
       "      <td>0.750000</td>\n",
       "      <td>-0.25</td>\n",
       "      <td>0.009404</td>\n",
       "      <td>0</td>\n",
       "    </tr>\n",
       "    <tr>\n",
       "      <th>3</th>\n",
       "      <td>137850841680121583</td>\n",
       "      <td>12.883073</td>\n",
       "      <td>0.754520</td>\n",
       "      <td>-0.700000</td>\n",
       "      <td>-0.75</td>\n",
       "      <td>13.352509</td>\n",
       "      <td>0.780381</td>\n",
       "      <td>-0.350</td>\n",
       "      <td>-0.550</td>\n",
       "      <td>13.745750</td>\n",
       "      <td>0.810732</td>\n",
       "      <td>0.050000</td>\n",
       "      <td>-0.35</td>\n",
       "      <td>1.731202</td>\n",
       "      <td>3440769017465094400</td>\n",
       "    </tr>\n",
       "    <tr>\n",
       "      <th>4</th>\n",
       "      <td>91582752294995270</td>\n",
       "      <td>11.498332</td>\n",
       "      <td>1.072945</td>\n",
       "      <td>0.000000</td>\n",
       "      <td>-0.70</td>\n",
       "      <td>11.708506</td>\n",
       "      <td>1.095990</td>\n",
       "      <td>0.200</td>\n",
       "      <td>-0.500</td>\n",
       "      <td>11.960686</td>\n",
       "      <td>1.115744</td>\n",
       "      <td>0.350000</td>\n",
       "      <td>-0.30</td>\n",
       "      <td>142.561569</td>\n",
       "      <td>4152421080966024704</td>\n",
       "    </tr>\n",
       "  </tbody>\n",
       "</table>\n",
       "</div>"
      ],
      "text/plain": [
       "            ps1_objid      dm_16      E_16     Mr_16  FeH_16      dm_50  \\\n",
       "0   94362690352503521  11.275535  1.565869 -1.000000   -0.75  11.336248   \n",
       "1  102792824349146924  12.372326  0.920623  1.925815   -0.65  13.282516   \n",
       "2  111492860979335175  14.178335  1.455591 -0.150000   -0.65  14.729681   \n",
       "3  137850841680121583  12.883073  0.754520 -0.700000   -0.75  13.352509   \n",
       "4   91582752294995270  11.498332  1.072945  0.000000   -0.70  11.708506   \n",
       "\n",
       "       E_50  Mr_50  FeH_50      dm_84      E_84     Mr_84  FeH_84       chisq  \\\n",
       "0  1.580092 -1.000  -0.525  11.377617  1.597467 -0.950000   -0.35   19.495815   \n",
       "1  0.996778  2.675  -0.400  14.238860  1.105575  3.324185   -0.15    0.215834   \n",
       "2  1.494254  0.300  -0.450  15.187395  1.535519  0.750000   -0.25    0.009404   \n",
       "3  0.780381 -0.350  -0.550  13.745750  0.810732  0.050000   -0.35    1.731202   \n",
       "4  1.095990  0.200  -0.500  11.960686  1.115744  0.350000   -0.30  142.561569   \n",
       "\n",
       "               gaia_id  \n",
       "0  4151665613406613504  \n",
       "1  4255271185341568768  \n",
       "2                    0  \n",
       "3  3440769017465094400  \n",
       "4  4152421080966024704  "
      ]
     },
     "execution_count": 10,
     "metadata": {},
     "output_type": "execute_result"
    }
   ],
   "source": [
    "green_df = pd.read_parquet('/epyc/data/boyajian/wtf_aug2020_dip_candidates_x_green19_stellar_params')\n",
    "green_df.head()"
   ]
  },
  {
   "cell_type": "markdown",
   "id": "4e253f19",
   "metadata": {},
   "source": [
    "### Gaia Distances"
   ]
  },
  {
   "cell_type": "code",
   "execution_count": 11,
   "id": "0b4cf809",
   "metadata": {},
   "outputs": [
    {
     "data": {
      "text/html": [
       "<div>\n",
       "<style scoped>\n",
       "    .dataframe tbody tr th:only-of-type {\n",
       "        vertical-align: middle;\n",
       "    }\n",
       "\n",
       "    .dataframe tbody tr th {\n",
       "        vertical-align: top;\n",
       "    }\n",
       "\n",
       "    .dataframe thead th {\n",
       "        text-align: right;\n",
       "    }\n",
       "</style>\n",
       "<table border=\"1\" class=\"dataframe\">\n",
       "  <thead>\n",
       "    <tr style=\"text-align: right;\">\n",
       "      <th></th>\n",
       "      <th>ps1_objid</th>\n",
       "      <th>source_id</th>\n",
       "      <th>r_med_geo</th>\n",
       "      <th>r_lo_geo</th>\n",
       "      <th>r_hi_geo</th>\n",
       "      <th>r_med_photogeo</th>\n",
       "      <th>r_lo_photogeo</th>\n",
       "      <th>r_hi_photogeo</th>\n",
       "      <th>flag</th>\n",
       "    </tr>\n",
       "  </thead>\n",
       "  <tbody>\n",
       "    <tr>\n",
       "      <th>0</th>\n",
       "      <td>94362690352503521</td>\n",
       "      <td>4151665613406613504</td>\n",
       "      <td>8082.282710</td>\n",
       "      <td>6528.992190</td>\n",
       "      <td>10042.92480</td>\n",
       "      <td>6778.116700</td>\n",
       "      <td>5999.020510</td>\n",
       "      <td>7678.308110</td>\n",
       "      <td>10033</td>\n",
       "    </tr>\n",
       "    <tr>\n",
       "      <th>1</th>\n",
       "      <td>102792824349146924</td>\n",
       "      <td>4255271185341568768</td>\n",
       "      <td>5927.677250</td>\n",
       "      <td>3682.042240</td>\n",
       "      <td>9454.38770</td>\n",
       "      <td>4220.221680</td>\n",
       "      <td>3066.974120</td>\n",
       "      <td>6016.558110</td>\n",
       "      <td>10033</td>\n",
       "    </tr>\n",
       "    <tr>\n",
       "      <th>2</th>\n",
       "      <td>156601035871513395</td>\n",
       "      <td>950655929677107712</td>\n",
       "      <td>5957.758790</td>\n",
       "      <td>4843.100100</td>\n",
       "      <td>7360.06445</td>\n",
       "      <td>6164.116700</td>\n",
       "      <td>4819.110840</td>\n",
       "      <td>8932.376950</td>\n",
       "      <td>10022</td>\n",
       "    </tr>\n",
       "    <tr>\n",
       "      <th>3</th>\n",
       "      <td>191931269081849923</td>\n",
       "      <td>1097464719378492800</td>\n",
       "      <td>711.026001</td>\n",
       "      <td>703.748535</td>\n",
       "      <td>718.46460</td>\n",
       "      <td>711.767944</td>\n",
       "      <td>705.468994</td>\n",
       "      <td>718.537537</td>\n",
       "      <td>10033</td>\n",
       "    </tr>\n",
       "    <tr>\n",
       "      <th>4</th>\n",
       "      <td>111492860979335175</td>\n",
       "      <td>4268567265914325760</td>\n",
       "      <td>6945.243160</td>\n",
       "      <td>4411.955570</td>\n",
       "      <td>10387.13480</td>\n",
       "      <td>6404.486820</td>\n",
       "      <td>3725.717530</td>\n",
       "      <td>8577.027340</td>\n",
       "      <td>10033</td>\n",
       "    </tr>\n",
       "  </tbody>\n",
       "</table>\n",
       "</div>"
      ],
      "text/plain": [
       "            ps1_objid            source_id    r_med_geo     r_lo_geo  \\\n",
       "0   94362690352503521  4151665613406613504  8082.282710  6528.992190   \n",
       "1  102792824349146924  4255271185341568768  5927.677250  3682.042240   \n",
       "2  156601035871513395   950655929677107712  5957.758790  4843.100100   \n",
       "3  191931269081849923  1097464719378492800   711.026001   703.748535   \n",
       "4  111492860979335175  4268567265914325760  6945.243160  4411.955570   \n",
       "\n",
       "      r_hi_geo  r_med_photogeo  r_lo_photogeo  r_hi_photogeo   flag  \n",
       "0  10042.92480     6778.116700    5999.020510    7678.308110  10033  \n",
       "1   9454.38770     4220.221680    3066.974120    6016.558110  10033  \n",
       "2   7360.06445     6164.116700    4819.110840    8932.376950  10022  \n",
       "3    718.46460      711.767944     705.468994     718.537537  10033  \n",
       "4  10387.13480     6404.486820    3725.717530    8577.027340  10033  "
      ]
     },
     "execution_count": 11,
     "metadata": {},
     "output_type": "execute_result"
    }
   ],
   "source": [
    "gaia_dist_df = pd.read_parquet('/epyc/data/boyajian/wtf_aug2020_dip_candidates_x_gaia_edr3_distances')\n",
    "gaia_dist_df.head()"
   ]
  },
  {
   "cell_type": "markdown",
   "id": "92b55494",
   "metadata": {},
   "source": [
    "## Join DataFrames to get info for just A and B sample"
   ]
  },
  {
   "cell_type": "code",
   "execution_count": 12,
   "id": "a8523d16",
   "metadata": {},
   "outputs": [
    {
     "data": {
      "text/plain": [
       "Index(['ps1_objid', 'source_id', 'ruwe', 'bp_rp', 'bp_g', 'g_rp',\n",
       "       'phot_g_mean_flux', 'phot_g_mean_flux_error', 'phot_g_mean_mag',\n",
       "       'phot_bp_mean_flux',\n",
       "       ...\n",
       "       'dm_50', 'E_50', 'Mr_50', 'FeH_50', 'dm_84', 'E_84', 'Mr_84', 'FeH_84',\n",
       "       'chisq', 'gaia_id'],\n",
       "      dtype='object', length=129)"
      ]
     },
     "execution_count": 12,
     "metadata": {},
     "output_type": "execute_result"
    }
   ],
   "source": [
    "sample_df = gaia_source_df.merge(pkl_df, on='ps1_objid', how='inner')\n",
    "sample_df = sample_df.merge(green_df, on='ps1_objid', how='inner')\n",
    "sample_df.columns"
   ]
  },
  {
   "cell_type": "markdown",
   "id": "727e581b",
   "metadata": {},
   "source": [
    "### Plot apparent mags"
   ]
  },
  {
   "cell_type": "code",
   "execution_count": 13,
   "id": "acd3d910",
   "metadata": {},
   "outputs": [
    {
     "data": {
      "image/png": "[encoded data removed]",
      "text/plain": [
       "<Figure size 432x288 with 1 Axes>"
      ]
     },
     "metadata": {
      "needs_background": "light"
     },
     "output_type": "display_data"
    }
   ],
   "source": [
    "fig, ax = plt.subplots(1,1)\n",
    "ax.plot(sample_df['phot_bp_mean_mag']-sample_df['phot_rp_mean_mag'], \n",
    "        sample_df['phot_g_mean_mag'], 'o')\n",
    "ax.plot(sample_df['bp_rp'], \n",
    "        sample_df['phot_g_mean_mag'], '.')\n",
    "ax.invert_yaxis()"
   ]
  },
  {
   "cell_type": "markdown",
   "id": "605c816c",
   "metadata": {},
   "source": [
    "### Plot absolute mags without extinction"
   ]
  },
  {
   "cell_type": "code",
   "execution_count": 14,
   "id": "07b9af13",
   "metadata": {},
   "outputs": [],
   "source": [
    "bp_abs_mag_no_ext_corr = sample_df['phot_bp_mean_mag'] - sample_df['dm_50']\n",
    "rp_abs_mag_no_ext_corr = sample_df['phot_rp_mean_mag'] - sample_df['dm_50']\n",
    "g_abs_mag_no_ext_corr = sample_df['phot_g_mean_mag'] - sample_df['dm_50']"
   ]
  },
  {
   "cell_type": "code",
   "execution_count": 15,
   "id": "30dfe1c0",
   "metadata": {},
   "outputs": [
    {
     "data": {
      "text/plain": [
       "(12.5, -6)"
      ]
     },
     "execution_count": 15,
     "metadata": {},
     "output_type": "execute_result"
    },
    {
     "data": {
      "image/png": "[encoded data removed]",
      "text/plain": [
       "<Figure size 360x504 with 1 Axes>"
      ]
     },
     "metadata": {
      "needs_background": "light"
     },
     "output_type": "display_data"
    }
   ],
   "source": [
    "fig, ax = plt.subplots(1,1, figsize=(5, 7))\n",
    "ax.plot(bp_abs_mag_no_ext_corr-rp_abs_mag_no_ext_corr, \n",
    "        g_abs_mag_no_ext_corr, 'o')\n",
    "ax.set_xlim(0, 7)\n",
    "ax.set_ylim(12.5, -6)"
   ]
  },
  {
   "cell_type": "markdown",
   "id": "5f83bf0b",
   "metadata": {},
   "source": [
    "## Plot absolute mags with extinction correction"
   ]
  },
  {
   "cell_type": "code",
   "execution_count": 16,
   "id": "6e10c539",
   "metadata": {},
   "outputs": [],
   "source": [
    "sample_df['A_G' ]= sample_df['E_50']*A_G_over_Av*3.1\n",
    "sample_df['A_bp'] = sample_df['E_50']*A_BP_over_Av*3.1\n",
    "sample_df['A_rp'] = sample_df['E_50']*A_RP_over_Av*3.1"
   ]
  },
  {
   "cell_type": "markdown",
   "id": "1c44ac4c",
   "metadata": {},
   "source": [
    "### Check that extinction values are all positive"
   ]
  },
  {
   "cell_type": "code",
   "execution_count": 17,
   "id": "cd4140d4",
   "metadata": {},
   "outputs": [
    {
     "name": "stdout",
     "output_type": "stream",
     "text": [
      "0   -0.998176\n",
      "Name: A_rp, dtype: float32\n",
      "0   -0.507562\n",
      "Name: E_50, dtype: float32\n",
      "            ps1_objid            source_id      ruwe    bp_rp      bp_g  \\\n",
      "0  139092829523868897  4534934128217298176  1.002928  0.43717  0.033081   \n",
      "\n",
      "       g_rp  phot_g_mean_flux  phot_g_mean_flux_error  phot_g_mean_mag  \\\n",
      "0  0.404089        2150.75198                50.34192         17.35589   \n",
      "\n",
      "   phot_bp_mean_flux  ...  FeH_50      dm_84      E_84     Mr_84  FeH_84  \\\n",
      "0        1512.963216  ...   -0.75  12.538801 -0.473516  7.074185   -0.55   \n",
      "\n",
      "        chisq              gaia_id       A_G     A_bp      A_rp  \n",
      "0  234.067535  4534934128217298176 -1.315822 -1.70462 -0.998176  \n",
      "\n",
      "[1 rows x 132 columns]\n"
     ]
    }
   ],
   "source": [
    "print(sample_df['A_rp'][sample_df['A_G']<0])\n",
    "print(sample_df['E_50'][sample_df['A_bp']<0])\n",
    "print(sample_df[sample_df['A_rp']<0])\n"
   ]
  },
  {
   "cell_type": "markdown",
   "id": "ec7e8133",
   "metadata": {},
   "source": [
    "#### they aren't - check to see if you can identify outliers"
   ]
  },
  {
   "cell_type": "markdown",
   "id": "91716945",
   "metadata": {},
   "source": [
    "#### Look at just the star with negative extinction"
   ]
  },
  {
   "cell_type": "code",
   "execution_count": 18,
   "id": "4b3ad9a5",
   "metadata": {},
   "outputs": [
    {
     "data": {
      "text/plain": [
       "<matplotlib.lines.Line2D at 0x7f1f77c6a4d0>"
      ]
     },
     "execution_count": 18,
     "metadata": {},
     "output_type": "execute_result"
    },
    {
     "data": {
      "image/png": "[encoded data removed]",
      "text/plain": [
       "<Figure size 720x720 with 4 Axes>"
      ]
     },
     "metadata": {
      "needs_background": "light"
     },
     "output_type": "display_data"
    }
   ],
   "source": [
    "marked_indx = sample_df['A_bp']<0\n",
    "\n",
    "fig, ax_list = plt.subplots(2,2, figsize=[10,10])\n",
    "ax_list[0,0].set_ylabel('chisq')\n",
    "ax_list[0,0].hist(sample_df['chisq'])\n",
    "ax_list[0,0].axvline(sample_df['chisq'][marked_indx][0], color='C1')\n",
    "\n",
    "ax_list[0,1].set_ylabel('FeH_50')\n",
    "ax_list[0,1].hist(sample_df['FeH_50'])\n",
    "ax_list[0,1].axvline(sample_df['FeH_50'][marked_indx][0], color='C1')\n",
    "\n",
    "ax_list[1,0].set_ylabel('Mr_50')\n",
    "ax_list[1,0].hist(sample_df['Mr_50'])\n",
    "ax_list[1,0].axvline(sample_df['Mr_50'][marked_indx][0], color='C1')\n",
    "\n",
    "ax_list[1,1].set_ylabel('dm_50')\n",
    "ax_list[1,1].hist(sample_df['dm_50'])\n",
    "ax_list[1,1].axvline(sample_df['dm_50'][marked_indx][0], color='C1')"
   ]
  },
  {
   "cell_type": "markdown",
   "id": "e9a04271",
   "metadata": {},
   "source": [
    "#### Look at all stars with high chisq"
   ]
  },
  {
   "cell_type": "code",
   "execution_count": 19,
   "id": "80b3335c",
   "metadata": {},
   "outputs": [
    {
     "data": {
      "text/plain": [
       "<matplotlib.collections.LineCollection at 0x7f1f76912950>"
      ]
     },
     "execution_count": 19,
     "metadata": {},
     "output_type": "execute_result"
    },
    {
     "data": {
      "image/png": "[encoded data removed]",
      "text/plain": [
       "<Figure size 720x720 with 4 Axes>"
      ]
     },
     "metadata": {
      "needs_background": "light"
     },
     "output_type": "display_data"
    }
   ],
   "source": [
    "marked_indx = sample_df['chisq']>150\n",
    "\n",
    "fig, ax_list = plt.subplots(2,2, figsize=[10,10])\n",
    "ax_list[0,0].set_ylabel('chisq')\n",
    "ax_list[0,0].hist(sample_df['chisq'])\n",
    "ax_list[0,0].vlines(sample_df['chisq'][marked_indx].to_numpy(), color='C1', *ax_list[0,0].get_ylim())\n",
    "\n",
    "ax_list[0,1].set_ylabel('FeH_50')\n",
    "ax_list[0,1].hist(sample_df['FeH_50'])\n",
    "ax_list[0,1].vlines(sample_df['FeH_50'][marked_indx].to_numpy(), color='C1', *ax_list[0,1].get_ylim())\n",
    "\n",
    "ax_list[1,0].set_ylabel('Mr_50')\n",
    "ax_list[1,0].hist(sample_df['Mr_50'])\n",
    "ax_list[1,0].vlines(sample_df['Mr_50'][marked_indx].to_numpy(), color='C1', *ax_list[1,0].get_ylim())\n",
    "\n",
    "ax_list[1,1].set_ylabel('E_50')\n",
    "ax_list[1,1].hist(sample_df['E_50'])\n",
    "ax_list[1,1].vlines(sample_df['E_50'][marked_indx].to_numpy(), color='C1', *ax_list[1,1].get_ylim())"
   ]
  },
  {
   "cell_type": "code",
   "execution_count": 20,
   "id": "55f3ef7c",
   "metadata": {},
   "outputs": [
    {
     "data": {
      "text/plain": [
       "array([234.06754, 242.62723, 210.88402], dtype=float32)"
      ]
     },
     "execution_count": 20,
     "metadata": {},
     "output_type": "execute_result"
    }
   ],
   "source": [
    "sample_df['chisq'][marked_indx].to_numpy()"
   ]
  },
  {
   "cell_type": "code",
   "execution_count": 21,
   "id": "05044d08",
   "metadata": {},
   "outputs": [],
   "source": [
    "bp_abs_mag = sample_df['phot_bp_mean_mag'] - sample_df['dm_50'] - sample_df['A_bp']\n",
    "rp_abs_mag = sample_df['phot_rp_mean_mag'] - sample_df['dm_50'] - sample_df['A_rp']\n",
    "g_abs_mag = sample_df['phot_g_mean_mag'] - sample_df['dm_50'] - sample_df['A_G']\n"
   ]
  },
  {
   "cell_type": "code",
   "execution_count": 22,
   "id": "abdd0991",
   "metadata": {},
   "outputs": [
    {
     "data": {
      "text/plain": [
       "(12.5, -6)"
      ]
     },
     "execution_count": 22,
     "metadata": {},
     "output_type": "execute_result"
    },
    {
     "data": {
      "image/png": "[encoded data removed]",
      "text/plain": [
       "<Figure size 360x504 with 1 Axes>"
      ]
     },
     "metadata": {
      "needs_background": "light"
     },
     "output_type": "display_data"
    }
   ],
   "source": [
    "fig, ax = plt.subplots(1,1, figsize=(5, 7))\n",
    "ax.plot(bp_abs_mag-rp_abs_mag, \n",
    "        g_abs_mag, 'o')\n",
    "ax.set_xlim(0, 7)\n",
    "ax.set_ylim(12.5, -6)"
   ]
  },
  {
   "cell_type": "code",
   "execution_count": 23,
   "id": "d1f3aa4e",
   "metadata": {},
   "outputs": [],
   "source": [
    "grouped_sample_df = sample_df.groupby('sample')"
   ]
  },
  {
   "cell_type": "code",
   "execution_count": 24,
   "id": "b8857d2a",
   "metadata": {},
   "outputs": [],
   "source": [
    "#Add Boyajian's star\n",
    "boyajian_bp_rp = 0.7817 # mag\n",
    "boyajian_phot_g_mean_mag = 11.7626 # mag\n",
    "boyajian_parallax = 2.2185 # mas"
   ]
  },
  {
   "cell_type": "code",
   "execution_count": 25,
   "id": "c61996d6",
   "metadata": {},
   "outputs": [
    {
     "name": "stderr",
     "output_type": "stream",
     "text": [
      "/epyc/opt/anaconda/lib/python3.7/site-packages/ipykernel_launcher.py:10: RuntimeWarning: divide by zero encountered in log10\n",
      "  # Remove the CWD from sys.path while we load stuff.\n"
     ]
    },
    {
     "data": {
      "image/png": "[encoded data removed]",
      "text/plain": [
       "<Figure size 360x504 with 1 Axes>"
      ]
     },
     "metadata": {
      "needs_background": "light"
     },
     "output_type": "display_data"
    }
   ],
   "source": [
    "fig, ax = plt.subplots(1,1, figsize=(5,7))\n",
    "make_background_cmd(results_large, ax, aspect=0.3, cmap='binary')\n",
    "for indx, sample in grouped_sample_df:\n",
    "    bp_abs_mag = sample['phot_bp_mean_mag'] - sample['dm_50'] - sample['A_bp']\n",
    "    rp_abs_mag = sample['phot_rp_mean_mag'] - sample['dm_50'] - sample['A_rp']\n",
    "    g_abs_mag = sample['phot_g_mean_mag'] - sample['dm_50'] - sample['A_G']\n",
    "    ax.plot(bp_abs_mag-rp_abs_mag, g_abs_mag, 'o', label=indx)\n",
    "    \n",
    "ax.set_xlim(-0.5, 3.5)\n",
    "ax.set_ylim(12.5, -4)\n",
    "plt.legend()\n",
    "plt.savefig('/astro/users/bostroem/dippers/figures/sample_gaia_cmd.pdf')"
   ]
  },
  {
   "cell_type": "code",
   "execution_count": 332,
   "id": "45d9fc89",
   "metadata": {},
   "outputs": [
    {
     "data": {
      "image/png": "[encoded data removed]",
      "text/plain": [
       "<Figure size 432x288 with 1 Axes>"
      ]
     },
     "metadata": {
      "needs_background": "light"
     },
     "output_type": "display_data"
    }
   ],
   "source": [
    "plt.hist(10**((sample_df['dm_50']+5)/5));"
   ]
  },
  {
   "cell_type": "code",
   "execution_count": 250,
   "id": "60397999",
   "metadata": {},
   "outputs": [
    {
     "name": "stderr",
     "output_type": "stream",
     "text": [
      "/epyc/opt/anaconda/lib/python3.7/site-packages/ipykernel_launcher.py:10: RuntimeWarning: divide by zero encountered in log10\n",
      "  # Remove the CWD from sys.path while we load stuff.\n"
     ]
    },
    {
     "data": {
      "text/plain": [
       "(12.5, -4)"
      ]
     },
     "execution_count": 250,
     "metadata": {},
     "output_type": "execute_result"
    },
    {
     "data": {
      "image/png": "[encoded data removed]",
      "text/plain": [
       "<Figure size 360x504 with 1 Axes>"
      ]
     },
     "metadata": {
      "needs_background": "light"
     },
     "output_type": "display_data"
    }
   ],
   "source": [
    "\n",
    "fig, ax = plt.subplots(1,1, figsize=(5, 7))\n",
    "make_background_cmd(results, ax, aspect=0.5, cmap='binary')\n",
    "for indx, sample in grouped_sample_df:\n",
    "    bp_abs_mag = sample['phot_bp_mean_mag'] - sample['dm_50']\n",
    "    rp_abs_mag = sample['phot_rp_mean_mag'] - sample['dm_50']\n",
    "    g_abs_mag = sample['phot_g_mean_mag'] - sample['dm_50']\n",
    "    ax.plot(bp_abs_mag-rp_abs_mag, g_abs_mag, 'o', label=indx)\n",
    "    \n",
    "ax.set_xlim(-0.5, 5)\n",
    "ax.set_ylim(12.5, -4)"
   ]
  },
  {
   "cell_type": "code",
   "execution_count": 252,
   "id": "d963eb8c",
   "metadata": {},
   "outputs": [
    {
     "name": "stderr",
     "output_type": "stream",
     "text": [
      "/epyc/opt/anaconda/lib/python3.7/site-packages/ipykernel_launcher.py:10: RuntimeWarning: divide by zero encountered in log10\n",
      "  # Remove the CWD from sys.path while we load stuff.\n"
     ]
    },
    {
     "data": {
      "text/plain": [
       "(12.5, -4)"
      ]
     },
     "execution_count": 252,
     "metadata": {},
     "output_type": "execute_result"
    },
    {
     "data": {
      "image/png": "[encoded data removed]",
      "text/plain": [
       "<Figure size 360x504 with 1 Axes>"
      ]
     },
     "metadata": {
      "needs_background": "light"
     },
     "output_type": "display_data"
    }
   ],
   "source": [
    "fig, ax = plt.subplots(1,1, figsize=(5, 7))\n",
    "im = make_background_cmd(results, ax, aspect=0.5, cmap='binary')\n",
    "for indx, sample in grouped_sample_df:\n",
    "    bp_abs_mag = sample['phot_bp_mean_mag'] + 5 * np.log10(sample['parallax']) -10\n",
    "    rp_abs_mag = sample['phot_rp_mean_mag'] + 5 * np.log10(sample['parallax']) -10 \n",
    "    g_abs_mag = sample['phot_g_mean_mag'] + 5 * np.log10(sample['parallax']) -10 \n",
    "    ax.plot(bp_abs_mag-rp_abs_mag, g_abs_mag, 'o', label=indx)\n",
    "    \n",
    "ax.set_xlim(-0.5, 5)\n",
    "ax.set_ylim(12.5, -4)"
   ]
  },
  {
   "cell_type": "code",
   "execution_count": 264,
   "id": "9f8de83e",
   "metadata": {},
   "outputs": [
    {
     "data": {
      "text/plain": [
       "<matplotlib.legend.Legend at 0x7fdad3bbf6d0>"
      ]
     },
     "execution_count": 264,
     "metadata": {},
     "output_type": "execute_result"
    },
    {
     "data": {
      "image/png": "[encoded data removed]",
      "text/plain": [
       "<Figure size 360x504 with 1 Axes>"
      ]
     },
     "metadata": {
      "needs_background": "light"
     },
     "output_type": "display_data"
    }
   ],
   "source": [
    "fig, ax = plt.subplots(1,1, figsize=(5, 7))\n",
    "\n",
    "for indx, sample in grouped_sample_df:\n",
    "    bp_abs_mag = sample['phot_bp_mean_mag'] - sample['dm_50']\n",
    "    rp_abs_mag = sample['phot_rp_mean_mag'] - sample['dm_50']\n",
    "    g_abs_mag = sample['phot_g_mean_mag'] - sample['dm_50']\n",
    "    bp_rp = bp_abs_mag - rp_abs_mag\n",
    "    \n",
    "    bp_abs_mag_gaia = sample['phot_bp_mean_mag'] + 5 * np.log10(sample['parallax']) -10\n",
    "    rp_abs_mag_gaia = sample['phot_rp_mean_mag'] + 5 * np.log10(sample['parallax']) -10 \n",
    "    g_abs_mag_gaia = sample['phot_g_mean_mag'] + 5 * np.log10(sample['parallax']) -10 \n",
    "    bp_rp_gaia = bp_abs_mag_gaia - rp_abs_mag_gaia\n",
    "\n",
    "    for icolor_green, imag_green, icolor_gaia, imag_gaia in zip(bp_rp, g_abs_mag, bp_rp_gaia, g_abs_mag_gaia):\n",
    "        l, = plt.plot([icolor_green, icolor_gaia],[imag_green, imag_gaia], marker='o', label='Gaia parallax')\n",
    "        l2, = plt.plot(icolor_green, imag_green, marker='s', color=l.get_color(), label='Green')\n",
    "ax.set_xlabel('BP-RP')\n",
    "ax.set_ylabel('G Abs Mag')\n",
    "ax.legend([l.get_label(), l2.get_label()])"
   ]
  },
  {
   "cell_type": "code",
   "execution_count": 295,
   "id": "a669a40e",
   "metadata": {},
   "outputs": [
    {
     "data": {
      "text/plain": [
       "<matplotlib.legend.Legend at 0x7fdad3d35790>"
      ]
     },
     "execution_count": 295,
     "metadata": {},
     "output_type": "execute_result"
    },
    {
     "data": {
      "image/png": "[encoded data removed]",
      "text/plain": [
       "<Figure size 360x504 with 1 Axes>"
      ]
     },
     "metadata": {
      "needs_background": "light"
     },
     "output_type": "display_data"
    }
   ],
   "source": [
    "fig, ax = plt.subplots(1,1, figsize=(5, 7))\n",
    "\n",
    "for indx, sample in grouped_sample_df:\n",
    "    bp_abs_mag = sample['phot_bp_mean_mag'] - sample['dm_50']-sample['A_bp']\n",
    "    rp_abs_mag = sample['phot_rp_mean_mag'] - sample['dm_50']-sample['A_rp']\n",
    "    g_abs_mag = sample['phot_g_mean_mag'] - sample['dm_50']-sample['A_G']\n",
    "    bp_rp = bp_abs_mag - rp_abs_mag\n",
    "    \n",
    "    bp_abs_mag_gaia = sample['phot_bp_mean_mag'] + 5 * np.log10(sample['parallax']) -10\n",
    "    rp_abs_mag_gaia = sample['phot_rp_mean_mag'] + 5 * np.log10(sample['parallax']) -10 \n",
    "    g_abs_mag_gaia = sample['phot_g_mean_mag'] + 5 * np.log10(sample['parallax']) -10 \n",
    "    bp_rp_gaia = bp_abs_mag_gaia - rp_abs_mag_gaia\n",
    "\n",
    "    for icolor_green, imag_green, icolor_gaia, imag_gaia in zip(bp_rp, g_abs_mag, bp_rp_gaia, g_abs_mag_gaia):\n",
    "        l, = plt.plot([icolor_green, icolor_gaia],[imag_green, imag_gaia], marker='o', label='Gaia parallax')\n",
    "        l2, = plt.plot(icolor_green, imag_green, marker='s', color=l.get_color(), label='Green+extinction')\n",
    "ax.set_xlabel('BP-RP')\n",
    "ax.set_ylabel('G Abs Mag')\n",
    "ax.legend([l.get_label(), l2.get_label()])"
   ]
  },
  {
   "cell_type": "markdown",
   "id": "80de298c",
   "metadata": {},
   "source": [
    "# Distance Histograms"
   ]
  },
  {
   "cell_type": "code",
   "execution_count": 361,
   "id": "bb541d0d",
   "metadata": {},
   "outputs": [],
   "source": [
    "results2_large['dist_mod'] = -(5 * np.log10(results2_large['parallax']) -10)"
   ]
  },
  {
   "cell_type": "code",
   "execution_count": 378,
   "id": "434e71f1",
   "metadata": {},
   "outputs": [
    {
     "data": {
      "text/plain": [
       "<matplotlib.legend.Legend at 0x7fdad0b00790>"
      ]
     },
     "execution_count": 378,
     "metadata": {},
     "output_type": "execute_result"
    },
    {
     "data": {
      "image/png": "[encoded data removed]",
      "text/plain": [
       "<Figure size 432x288 with 1 Axes>"
      ]
     },
     "metadata": {
      "needs_background": "light"
     },
     "output_type": "display_data"
    }
   ],
   "source": [
    "fig, ax1 = plt.subplots(1,1)\n",
    "ax1.hist(10**((results2_large['dist_mod']+5)/5)/1000, bins=100, density=True, label='Gaia sample');\n",
    "#ax2 = ax1.twinx()\n",
    "ax1.hist(10**((sample_df['dm_50']    +5)/5)/1000, density=True, color='C2', alpha=0.5, bins=10, label='Sample (Green)');\n",
    "\n",
    "ax1.hist(10**(((-(5 * np.log10(sample_df['parallax']) -10))    +5)/5)/1000, density=True, color='C1', alpha=0.5, bins=10, label='Sample (parallax)');\n",
    "\n",
    "ax1.set_ylabel('Probability Density')\n",
    "ax1.set_xlabel('Distance (kpc)')\n",
    "plt.legend()"
   ]
  },
  {
   "cell_type": "code",
   "execution_count": 348,
   "id": "bea2947f",
   "metadata": {},
   "outputs": [
    {
     "data": {
      "text/plain": [
       "-0.15785487644477314"
      ]
     },
     "execution_count": 348,
     "metadata": {},
     "output_type": "execute_result"
    }
   ],
   "source": [
    "max(results2_large['dist_mod'])"
   ]
  },
  {
   "cell_type": "code",
   "execution_count": 349,
   "id": "c6b5d136",
   "metadata": {},
   "outputs": [
    {
     "data": {
      "text/plain": [
       "15.59305477142334"
      ]
     },
     "execution_count": 349,
     "metadata": {},
     "output_type": "execute_result"
    }
   ],
   "source": [
    "max(sample_df['dm_50'])"
   ]
  },
  {
   "cell_type": "code",
   "execution_count": 358,
   "id": "ccb37f17",
   "metadata": {},
   "outputs": [
    {
     "data": {
      "text/plain": [
       "(0.12099498388268946, 1.2612284287035613)"
      ]
     },
     "execution_count": 358,
     "metadata": {},
     "output_type": "execute_result"
    }
   ],
   "source": [
    "min(sample_df['parallax']), max(sample_df['parallax'])"
   ]
  },
  {
   "cell_type": "code",
   "execution_count": 357,
   "id": "6ffa609b",
   "metadata": {},
   "outputs": [
    {
     "data": {
      "text/plain": [
       "(0.0791428902597886, 92.9884534428276)"
      ]
     },
     "execution_count": 357,
     "metadata": {},
     "output_type": "execute_result"
    }
   ],
   "source": [
    "min(results2_large['parallax']), max(results2_large['parallax'])"
   ]
  },
  {
   "cell_type": "code",
   "execution_count": 359,
   "id": "88a6ed87",
   "metadata": {},
   "outputs": [
    {
     "data": {
      "text/plain": [
       "(9.989612579345703, 15.59305477142334)"
      ]
     },
     "execution_count": 359,
     "metadata": {},
     "output_type": "execute_result"
    }
   ],
   "source": [
    "min(sample_df['dm_50']), max(sample_df['dm_50'])"
   ]
  },
  {
   "cell_type": "code",
   "execution_count": 360,
   "id": "7c5d7af3",
   "metadata": {},
   "outputs": [
    {
     "data": {
      "text/plain": [
       "(-15.507940467787591, -0.15785487644477314)"
      ]
     },
     "execution_count": 360,
     "metadata": {},
     "output_type": "execute_result"
    }
   ],
   "source": [
    "min(results2_large['dist_mod']), max(results2_large['dist_mod'])"
   ]
  },
  {
   "cell_type": "code",
   "execution_count": null,
   "id": "6c08ed70",
   "metadata": {},
   "outputs": [],
   "source": []
  }
 ],
 "metadata": {
  "kernelspec": {
   "display_name": "Python 3",
   "language": "python",
   "name": "python3"
  },
  "language_info": {
   "codemirror_mode": {
    "name": "ipython",
    "version": 3
   },
   "file_extension": ".py",
   "mimetype": "text/x-python",
   "name": "python",
   "nbconvert_exporter": "python",
   "pygments_lexer": "ipython3",
   "version": "3.7.10"
  }
 },
 "nbformat": 4,
 "nbformat_minor": 5
}
